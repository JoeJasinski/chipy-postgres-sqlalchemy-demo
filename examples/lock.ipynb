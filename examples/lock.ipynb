{
 "cells": [
  {
   "cell_type": "code",
   "execution_count": 1,
   "id": "e0ac5837-8d75-4753-886d-f254f2a7ceec",
   "metadata": {},
   "outputs": [],
   "source": [
    "import os\n",
    "import sqlalchemy\n",
    "from sqlalchemy import create_engine\n",
    "from sqlalchemy.orm import declarative_base\n",
    "from sqlalchemy import Column, Integer, String, DateTime, func, cast, text, select\n",
    "from sqlalchemy.dialects import postgresql\n",
    "from sqlalchemy.dialects.postgresql import JSONB\n",
    "from sqlalchemy.orm import Session, sessionmaker\n",
    "from contextlib import contextmanager\n",
    "from dataclasses import dataclass"
   ]
  },
  {
   "cell_type": "code",
   "execution_count": 3,
   "id": "6b4123fd-6272-4327-9c3f-69da38eef19d",
   "metadata": {},
   "outputs": [
    {
     "data": {
      "text/plain": [
       "Engine(postgresql+psycopg://admin:***@db:5432/db)"
      ]
     },
     "execution_count": 3,
     "metadata": {},
     "output_type": "execute_result"
    }
   ],
   "source": [
    "database_url = os.environ.get(\"DATABASE_URL\")\n",
    "engine = create_engine(\n",
    "    database_url, \n",
    "    # echo=True,\n",
    ")\n",
    "engine"
   ]
  },
  {
   "cell_type": "code",
   "execution_count": 6,
   "id": "20a93709-3f44-490c-83bb-dc7c3da8aeec",
   "metadata": {},
   "outputs": [],
   "source": [
    "\n",
    "\n",
    "@dataclass\n",
    "class Lock:\n",
    "    locked: bool\n",
    "    lock_key: int\n",
    "\n",
    "\n",
    "@contextmanager\n",
    "def advisory_lock(session: Session, lock_value: str, commit: bool = True):\n",
    "    \"\"\"\n",
    "    Context manager that acquires a PostgreSQL advisory lock using a hash of the lock_value\n",
    "    upon entering and releases it upon exiting, using SQLAlchemy's syntax.\n",
    "    \n",
    "    Args:\n",
    "        session (Session): SQLAlchemy session to interact with the database.\n",
    "        lock_value (str): The value (string) to hash and generate the lock key.\n",
    "    \n",
    "    Usage:\n",
    "        with advisory_lock(session, \"some_unique_value\"):\n",
    "            # Critical section where the lock is held\n",
    "    \"\"\"\n",
    "    try:\n",
    "        # Acquire the advisory lock using hashtext and pg_advisory_xact_lock in a single call\n",
    "        lock_key_query = select(func.hashtext(lock_value))\n",
    "        lock_key = session.execute(lock_key_query).scalar()\n",
    "        \n",
    "        lock = session.execute(\n",
    "            select(func.pg_try_advisory_xact_lock(lock_key))\n",
    "        ).first()[0]\n",
    "        # Yield control back to the caller inside the context\n",
    "        yield Lock(locked=not lock, lock_key=lock_key)\n",
    "    finally:\n",
    "        # The lock is automatically released when the transaction ends (no explicit release needed)\n",
    "        if commit:\n",
    "            session.commit()"
   ]
  },
  {
   "cell_type": "code",
   "execution_count": null,
   "id": "2088911c-234c-4a1c-89db-26c6e1ded1d2",
   "metadata": {},
   "outputs": [],
   "source": [
    "from sqlalchemy.orm import sessionmaker\n",
    "import time\n",
    "\n",
    "Session = sessionmaker(autocommit=False, autoflush=False, bind=engine)\n",
    "\n",
    "lock_value = \"some_unique_string_value\"  # This string will be hashed to generate the lock key\n",
    "\n",
    "with Session() as session:\n",
    "    with advisory_lock(session, lock_value, commit=True) as lock:\n",
    "        if lock.locked:\n",
    "            print(\"Skip because locked\")\n",
    "        else:\n",
    "            # Critical section where the advisory lock is held\n",
    "            # Perform operations that need the lock\n",
    "            session.execute(text('select 1'))\n",
    "            time.sleep(100)\n",
    "            print(lock.locked, lock.lock_key)\n"
   ]
  },
  {
   "cell_type": "code",
   "execution_count": null,
   "id": "99380519-fdb7-4bb4-b41b-dbec203ac60d",
   "metadata": {},
   "outputs": [],
   "source": []
  }
 ],
 "metadata": {
  "kernelspec": {
   "display_name": "Python 3 (ipykernel)",
   "language": "python",
   "name": "python3"
  },
  "language_info": {
   "codemirror_mode": {
    "name": "ipython",
    "version": 3
   },
   "file_extension": ".py",
   "mimetype": "text/x-python",
   "name": "python",
   "nbconvert_exporter": "python",
   "pygments_lexer": "ipython3",
   "version": "3.12.6"
  }
 },
 "nbformat": 4,
 "nbformat_minor": 5
}
