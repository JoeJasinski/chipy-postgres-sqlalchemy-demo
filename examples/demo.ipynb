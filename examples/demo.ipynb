{
 "cells": [
  {
   "cell_type": "code",
   "execution_count": 51,
   "id": "0182989d-aef8-4eec-b052-4ba7ba279073",
   "metadata": {},
   "outputs": [],
   "source": [
    "import os\n",
    "import sqlalchemy\n",
    "from sqlalchemy import create_engine\n",
    "from sqlalchemy.orm import declarative_base\n",
    "from sqlalchemy import (\n",
    "    Column, Integer, String, Text, DateTime, func, \n",
    "    cast, literal, text, select, Computed, Index,\n",
    ")\n",
    "from sqlalchemy.dialects import postgresql\n",
    "from sqlalchemy.dialects.postgresql import TSVECTOR, REGCONFIG\n",
    "from sqlalchemy.dialects.postgresql import JSONB\n",
    "from sqlalchemy.orm import Session, sessionmaker"
   ]
  },
  {
   "cell_type": "code",
   "execution_count": 52,
   "id": "9f56c5c1-f811-4882-889d-4ae5190ed819",
   "metadata": {},
   "outputs": [],
   "source": [
    "def render_query(query):\n",
    "    \"\"\"\n",
    "    Takes a SQLAlchemy query object and returns the fully rendered SQL query\n",
    "    with all the arguments (bind parameters) inserted.\n",
    "    \n",
    "    Args:\n",
    "        query: SQLAlchemy query object to render.\n",
    "        \n",
    "    Returns:\n",
    "        str: Fully rendered SQL query as a string.\n",
    "    \"\"\"\n",
    "    return str(query.compile(dialect=postgresql.dialect(), compile_kwargs={\"literal_binds\": True}))"
   ]
  },
  {
   "cell_type": "code",
   "execution_count": 55,
   "id": "f79a3b42-dac6-47de-82b8-6a19b9231c1c",
   "metadata": {},
   "outputs": [],
   "source": [
    "def run_query(query, render=True, scalars=True):\n",
    "    query_string = render_query(query) if render else str(query)\n",
    "    print(\"QUERY::: \", query_string)\n",
    "    with Session(engine) as session:\n",
    "        if scalars:\n",
    "            res = session.scalars(query)\n",
    "        else:\n",
    "            res = session.execute(query)\n",
    "        print(\"\\nRESULT::: \", list(res))\n",
    "        return res, query_string"
   ]
  },
  {
   "cell_type": "markdown",
   "id": "0f978a06-de7e-4abb-a733-3d2d2f865fa6",
   "metadata": {},
   "source": [
    "# Base SQLAlchemy example"
   ]
  },
  {
   "cell_type": "markdown",
   "id": "8741b391-568b-4211-ad1a-960ea924885c",
   "metadata": {},
   "source": [
    "## Create a Normal Table"
   ]
  },
  {
   "cell_type": "markdown",
   "id": "db18a584-cef4-429a-b3e0-5178356c46d8",
   "metadata": {},
   "source": [
    "### Create a db Engine"
   ]
  },
  {
   "cell_type": "code",
   "execution_count": 4,
   "id": "75ef0aa0-cd7d-4514-b5a5-c54e0a5c3d26",
   "metadata": {},
   "outputs": [
    {
     "data": {
      "text/plain": [
       "Engine(postgresql+psycopg://admin:***@db:5432/db)"
      ]
     },
     "execution_count": 4,
     "metadata": {},
     "output_type": "execute_result"
    }
   ],
   "source": [
    "import os\n",
    "from sqlalchemy import create_engine\n",
    "\n",
    "engine = create_engine(\n",
    "    os.environ.get(\"DATABASE_URL\"), \n",
    "    echo=False,\n",
    ")\n",
    "engine"
   ]
  },
  {
   "cell_type": "markdown",
   "id": "e4ec500e-ef72-42d2-8fb0-689c7709e863",
   "metadata": {},
   "source": [
    "### Define a Table"
   ]
  },
  {
   "cell_type": "code",
   "execution_count": 5,
   "id": "2adc9365-e321-4f85-9eff-7f4408fb66de",
   "metadata": {},
   "outputs": [],
   "source": [
    "from sqlalchemy.orm import declarative_base\n",
    "from sqlalchemy import Column, Integer, String, Text, DateTime, func\n",
    "\n",
    "Base = declarative_base()\n",
    "\n",
    "class Listing(Base):\n",
    "    __tablename__ = 'listings'\n",
    "    \n",
    "    id = Column(Integer, primary_key=True)\n",
    "    name = Column(String, unique=True)\n",
    "    created_at = Column(DateTime, default=func.now())\n",
    "    updated_at = Column(DateTime, default=func.now(), onupdate=func.now())\n",
    "    \n",
    "    def __repr__(self):\n",
    "        return f\"<Listing(id='{self.id}' name='{self.name}')>\"\n",
    "\n",
    "\n",
    "Listing.__table__.drop(engine, checkfirst=True)\n",
    "Base.metadata.create_all(engine)"
   ]
  },
  {
   "cell_type": "markdown",
   "id": "af158d19-ae88-4301-9d15-c1dc58b6d337",
   "metadata": {},
   "source": [
    "### Add Some Records"
   ]
  },
  {
   "cell_type": "code",
   "execution_count": 6,
   "id": "a05648d2-67e6-41f8-bc7d-b4d5a5448777",
   "metadata": {},
   "outputs": [],
   "source": [
    "from sqlalchemy.orm import Session\n",
    "\n",
    "with Session(engine) as session:\n",
    "    session.add_all([\n",
    "        Listing(name=\"home\"), \n",
    "        Listing(name=\"away\")\n",
    "    ])\n",
    "    session.commit()"
   ]
  },
  {
   "cell_type": "markdown",
   "id": "b313dbdc-acf2-42be-bcc2-f4b66df0e212",
   "metadata": {},
   "source": [
    "### Show the db Records"
   ]
  },
  {
   "cell_type": "code",
   "execution_count": 7,
   "id": "edbe812d-991a-4fa4-8df6-6b6a17c3c0b3",
   "metadata": {},
   "outputs": [],
   "source": [
    "%load_ext sql"
   ]
  },
  {
   "cell_type": "code",
   "execution_count": 8,
   "id": "3ecd0e73-7e09-489d-b2b4-c742910c04b7",
   "metadata": {},
   "outputs": [
    {
     "name": "stdout",
     "output_type": "stream",
     "text": [
      "2 rows affected.\n"
     ]
    },
    {
     "data": {
      "text/html": [
       "<table>\n",
       "    <thead>\n",
       "        <tr>\n",
       "            <th>id</th>\n",
       "            <th>name</th>\n",
       "            <th>created_at</th>\n",
       "            <th>updated_at</th>\n",
       "        </tr>\n",
       "    </thead>\n",
       "    <tbody>\n",
       "        <tr>\n",
       "            <td>1</td>\n",
       "            <td>home</td>\n",
       "            <td>2024-10-03 23:16:02.143959</td>\n",
       "            <td>2024-10-03 23:16:02.143959</td>\n",
       "        </tr>\n",
       "        <tr>\n",
       "            <td>2</td>\n",
       "            <td>away</td>\n",
       "            <td>2024-10-03 23:16:02.143959</td>\n",
       "            <td>2024-10-03 23:16:02.143959</td>\n",
       "        </tr>\n",
       "    </tbody>\n",
       "</table>"
      ],
      "text/plain": [
       "[(1, 'home', datetime.datetime(2024, 10, 3, 23, 16, 2, 143959), datetime.datetime(2024, 10, 3, 23, 16, 2, 143959)),\n",
       " (2, 'away', datetime.datetime(2024, 10, 3, 23, 16, 2, 143959), datetime.datetime(2024, 10, 3, 23, 16, 2, 143959))]"
      ]
     },
     "execution_count": 8,
     "metadata": {},
     "output_type": "execute_result"
    }
   ],
   "source": [
    "%%sql $DB_URL\n",
    "select * from listings;"
   ]
  },
  {
   "cell_type": "markdown",
   "id": "dc72c7fa-53c6-44af-b8de-648f2700a9ef",
   "metadata": {},
   "source": [
    "# JSONB Example"
   ]
  },
  {
   "cell_type": "markdown",
   "id": "eb1d6be8-4e6e-40ca-94bb-4b76a08bd2d7",
   "metadata": {},
   "source": [
    "## Create Table with JSONB"
   ]
  },
  {
   "cell_type": "markdown",
   "id": "63a2bff8-0e92-487c-b09e-ed583074c3ba",
   "metadata": {},
   "source": [
    "### Define a Table"
   ]
  },
  {
   "cell_type": "code",
   "execution_count": 73,
   "id": "84a1868e-496e-449c-8c2f-bad86d2dccab",
   "metadata": {},
   "outputs": [],
   "source": [
    "from sqlalchemy.orm import declarative_base\n",
    "from sqlalchemy import Column, Integer, String, Text, DateTime, func\n",
    "from sqlalchemy.dialects.postgresql import JSONB\n",
    "\n",
    "Base = declarative_base()\n",
    "\n",
    "class Listing(Base):\n",
    "    __tablename__ = 'listings'\n",
    "    \n",
    "    id = Column(Integer, primary_key=True)\n",
    "    name = Column(String, unique=True)\n",
    "    rooms = Column(JSONB)\n",
    "    created_at = Column(DateTime, default=func.now())\n",
    "    updated_at = Column(DateTime, default=func.now(), onupdate=func.now())\n",
    "    \n",
    "    def __repr__(self):\n",
    "        return f\"<Listing(id='{self.id}' name='{self.name}')>\"\n",
    "\n",
    "\n",
    "Listing.__table__.drop(engine, checkfirst=True)\n",
    "Base.metadata.create_all(engine)"
   ]
  },
  {
   "cell_type": "markdown",
   "id": "dfdca473-49e9-4c7c-9859-4fbe33279d48",
   "metadata": {},
   "source": [
    "### Add Some Records"
   ]
  },
  {
   "cell_type": "code",
   "execution_count": 74,
   "id": "c1f0f5e5-023c-4769-b7be-57a454c57a9d",
   "metadata": {},
   "outputs": [],
   "source": [
    "from sqlalchemy.orm import Session\n",
    "with Session(engine) as session:\n",
    "    session.add_all([\n",
    "        Listing(name=\"home\", rooms={\n",
    "            \"kitchen\": {\"color\": \"blue\"},\n",
    "        }), \n",
    "        Listing(name=\"away\", rooms={\n",
    "            \"bedroom\": {\"color\": \"yellow\"},\n",
    "            \"kitchen\": {\"color\": \"yellow\"},\n",
    "        }), \n",
    "        Listing(name=\"far\", rooms={\n",
    "            \"bedroom\": {\"color\": \"blue\"},\n",
    "            \"basement\": {\"color\": \"green\"},\n",
    "        }), \n",
    "        Listing(name=\"shed\", rooms={\n",
    "            \"bedroom\": None,\n",
    "            \"basement\": {\"color\": \"green\"},\n",
    "        }), \n",
    "        Listing(name=\"city\", rooms={\n",
    "            \"basement\": {\"color\": \"green\"},\n",
    "            \"bedroom\": {\"color\": \"green\"},\n",
    "        }),\n",
    "        Listing(name=\"country\", rooms={\n",
    "            \"basement\": {\"color\": \"green\"},\n",
    "        }),\n",
    "    ])\n",
    "    session.commit()"
   ]
  },
  {
   "cell_type": "markdown",
   "id": "627f5639-564d-4677-9636-8431910b0773",
   "metadata": {},
   "source": [
    "### Show the db Records"
   ]
  },
  {
   "cell_type": "code",
   "execution_count": 75,
   "id": "6c8e1f02-a345-4f2d-8404-8a4522b19fbc",
   "metadata": {},
   "outputs": [
    {
     "name": "stdout",
     "output_type": "stream",
     "text": [
      "6 rows affected.\n"
     ]
    },
    {
     "data": {
      "text/html": [
       "<table>\n",
       "    <thead>\n",
       "        <tr>\n",
       "            <th>id</th>\n",
       "            <th>name</th>\n",
       "            <th>rooms</th>\n",
       "        </tr>\n",
       "    </thead>\n",
       "    <tbody>\n",
       "        <tr>\n",
       "            <td>1</td>\n",
       "            <td>home</td>\n",
       "            <td>{&#x27;kitchen&#x27;: {&#x27;color&#x27;: &#x27;blue&#x27;}}</td>\n",
       "        </tr>\n",
       "        <tr>\n",
       "            <td>2</td>\n",
       "            <td>away</td>\n",
       "            <td>{&#x27;bedroom&#x27;: {&#x27;color&#x27;: &#x27;yellow&#x27;}, &#x27;kitchen&#x27;: {&#x27;color&#x27;: &#x27;yellow&#x27;}}</td>\n",
       "        </tr>\n",
       "        <tr>\n",
       "            <td>3</td>\n",
       "            <td>far</td>\n",
       "            <td>{&#x27;bedroom&#x27;: {&#x27;color&#x27;: &#x27;blue&#x27;}, &#x27;basement&#x27;: {&#x27;color&#x27;: &#x27;green&#x27;}}</td>\n",
       "        </tr>\n",
       "        <tr>\n",
       "            <td>4</td>\n",
       "            <td>shed</td>\n",
       "            <td>{&#x27;bedroom&#x27;: None, &#x27;basement&#x27;: {&#x27;color&#x27;: &#x27;green&#x27;}}</td>\n",
       "        </tr>\n",
       "        <tr>\n",
       "            <td>5</td>\n",
       "            <td>city</td>\n",
       "            <td>{&#x27;bedroom&#x27;: {&#x27;color&#x27;: &#x27;green&#x27;}, &#x27;basement&#x27;: {&#x27;color&#x27;: &#x27;green&#x27;}}</td>\n",
       "        </tr>\n",
       "        <tr>\n",
       "            <td>6</td>\n",
       "            <td>country</td>\n",
       "            <td>{&#x27;basement&#x27;: {&#x27;color&#x27;: &#x27;green&#x27;}}</td>\n",
       "        </tr>\n",
       "    </tbody>\n",
       "</table>"
      ],
      "text/plain": [
       "[(1, 'home', {'kitchen': {'color': 'blue'}}),\n",
       " (2, 'away', {'bedroom': {'color': 'yellow'}, 'kitchen': {'color': 'yellow'}}),\n",
       " (3, 'far', {'bedroom': {'color': 'blue'}, 'basement': {'color': 'green'}}),\n",
       " (4, 'shed', {'bedroom': None, 'basement': {'color': 'green'}}),\n",
       " (5, 'city', {'bedroom': {'color': 'green'}, 'basement': {'color': 'green'}}),\n",
       " (6, 'country', {'basement': {'color': 'green'}})]"
      ]
     },
     "execution_count": 75,
     "metadata": {},
     "output_type": "execute_result"
    }
   ],
   "source": [
    "%%sql $DB_URL\n",
    "select id,name,rooms from listings;"
   ]
  },
  {
   "cell_type": "markdown",
   "id": "2eeda8cd-7545-4d7e-9fbf-87cd65b36f26",
   "metadata": {},
   "source": [
    "### Filter `bedroom.color == yellow`"
   ]
  },
  {
   "cell_type": "code",
   "execution_count": 76,
   "id": "e17509e5-53ac-4a2d-b7b3-4a914d8ac99f",
   "metadata": {},
   "outputs": [
    {
     "name": "stdout",
     "output_type": "stream",
     "text": [
      "QUERY:::  SELECT listings.id, listings.name, listings.rooms, listings.created_at, listings.updated_at \n",
      "FROM listings \n",
      "WHERE (((listings.rooms -> 'bedroom')) ->> 'color') = 'yellow'\n",
      "\n",
      "RESULT:::  [<Listing(id='2' name='away')>]\n"
     ]
    }
   ],
   "source": [
    "from sqlalchemy import select\n",
    "\n",
    "query = select(Listing).filter(\n",
    "    Listing.rooms['bedroom'][\"color\"].astext == \"yellow\",\n",
    ")\n",
    "_, query_string = run_query(query)"
   ]
  },
  {
   "cell_type": "code",
   "execution_count": 79,
   "id": "ad36e143-7f2b-4c54-952f-1d07596b9a22",
   "metadata": {},
   "outputs": [
    {
     "name": "stdout",
     "output_type": "stream",
     "text": [
      "QUERY:::  SELECT listings.id, listings.name, listings.rooms, listings.created_at, listings.updated_at \n",
      "FROM listings \n",
      "WHERE ((listings.rooms -> 'bedroom') ->> 'color') = 'yellow'\n",
      "\n",
      "RESULT:::  [<Listing(id='2' name='away')>]\n"
     ]
    }
   ],
   "source": [
    "from sqlalchemy import select\n",
    "\n",
    "query = select(Listing).filter(\n",
    "    Listing.rooms.op(\"->\")('bedroom').op(\"->>\")('color') == \"yellow\",\n",
    ")\n",
    "_, query_string = run_query(query)"
   ]
  },
  {
   "cell_type": "code",
   "execution_count": 80,
   "id": "69f9616a-88b2-4a08-8232-2c4d5925f9cd",
   "metadata": {},
   "outputs": [
    {
     "name": "stdout",
     "output_type": "stream",
     "text": [
      "1 rows affected.\n"
     ]
    },
    {
     "data": {
      "text/html": [
       "<table>\n",
       "    <thead>\n",
       "        <tr>\n",
       "            <th>id</th>\n",
       "            <th>name</th>\n",
       "            <th>rooms</th>\n",
       "            <th>created_at</th>\n",
       "            <th>updated_at</th>\n",
       "        </tr>\n",
       "    </thead>\n",
       "    <tbody>\n",
       "        <tr>\n",
       "            <td>2</td>\n",
       "            <td>away</td>\n",
       "            <td>{&#x27;bedroom&#x27;: {&#x27;color&#x27;: &#x27;yellow&#x27;}, &#x27;kitchen&#x27;: {&#x27;color&#x27;: &#x27;yellow&#x27;}}</td>\n",
       "            <td>2024-10-03 23:59:46.315615</td>\n",
       "            <td>2024-10-03 23:59:46.315615</td>\n",
       "        </tr>\n",
       "    </tbody>\n",
       "</table>"
      ],
      "text/plain": [
       "[(2, 'away', {'bedroom': {'color': 'yellow'}, 'kitchen': {'color': 'yellow'}}, datetime.datetime(2024, 10, 3, 23, 59, 46, 315615), datetime.datetime(2024, 10, 3, 23, 59, 46, 315615))]"
      ]
     },
     "execution_count": 80,
     "metadata": {},
     "output_type": "execute_result"
    }
   ],
   "source": [
    "%%sql $DB_URL \n",
    "SELECT listings.id, listings.name, listings.rooms, listings.created_at, listings.updated_at \n",
    "FROM listings \n",
    "WHERE (((listings.rooms -> 'bedroom')) ->> 'color') = 'yellow'"
   ]
  },
  {
   "cell_type": "markdown",
   "id": "e72c75ee-db6f-4f53-aafc-c246fcd6149c",
   "metadata": {},
   "source": [
    "### Filter `bedroom.color == yellow`"
   ]
  },
  {
   "cell_type": "code",
   "execution_count": 81,
   "id": "406c43c5-baee-44af-8f09-a4e1ba623ad2",
   "metadata": {},
   "outputs": [
    {
     "name": "stdout",
     "output_type": "stream",
     "text": [
      "QUERY:::  SELECT listings.id, listings.name, listings.rooms, listings.created_at, listings.updated_at \n",
      "FROM listings \n",
      "WHERE listings.rooms[:rooms_1] = :param_1\n",
      "\n",
      "RESULT:::  [<Listing(id='2' name='away')>]\n"
     ]
    }
   ],
   "source": [
    "from sqlalchemy import select\n",
    "\n",
    "query = select(Listing).filter(\n",
    "    Listing.rooms['bedroom'] == {\"color\": \"yellow\"},\n",
    ")\n",
    "_ = run_query(query, render=False)"
   ]
  },
  {
   "cell_type": "code",
   "execution_count": 82,
   "id": "e53c1f68-8dc7-4f6c-8569-cdeb8050324b",
   "metadata": {},
   "outputs": [
    {
     "name": "stdout",
     "output_type": "stream",
     "text": [
      "1 rows affected.\n"
     ]
    },
    {
     "data": {
      "text/html": [
       "<table>\n",
       "    <thead>\n",
       "        <tr>\n",
       "            <th>id</th>\n",
       "            <th>name</th>\n",
       "            <th>rooms</th>\n",
       "            <th>created_at</th>\n",
       "            <th>updated_at</th>\n",
       "        </tr>\n",
       "    </thead>\n",
       "    <tbody>\n",
       "        <tr>\n",
       "            <td>2</td>\n",
       "            <td>away</td>\n",
       "            <td>{&#x27;bedroom&#x27;: {&#x27;color&#x27;: &#x27;yellow&#x27;}, &#x27;kitchen&#x27;: {&#x27;color&#x27;: &#x27;yellow&#x27;}}</td>\n",
       "            <td>2024-10-03 23:59:46.315615</td>\n",
       "            <td>2024-10-03 23:59:46.315615</td>\n",
       "        </tr>\n",
       "    </tbody>\n",
       "</table>"
      ],
      "text/plain": [
       "[(2, 'away', {'bedroom': {'color': 'yellow'}, 'kitchen': {'color': 'yellow'}}, datetime.datetime(2024, 10, 3, 23, 59, 46, 315615), datetime.datetime(2024, 10, 3, 23, 59, 46, 315615))]"
      ]
     },
     "execution_count": 82,
     "metadata": {},
     "output_type": "execute_result"
    }
   ],
   "source": [
    "%%sql $DB_URL \n",
    "SELECT listings.id, listings.name, listings.rooms, listings.created_at, listings.updated_at\n",
    "FROM listings \n",
    "WHERE (listings.rooms -> 'bedroom'::TEXT) = '{\"color\": \"yellow\"}'::JSONB"
   ]
  },
  {
   "cell_type": "markdown",
   "id": "4c778735-1c51-436b-8ffe-e92b82e0e63f",
   "metadata": {},
   "source": [
    "### Filter listings with bedrooms"
   ]
  },
  {
   "cell_type": "code",
   "execution_count": 83,
   "id": "13c80521-fbbe-4a68-a6ca-126c8f29dad0",
   "metadata": {},
   "outputs": [
    {
     "name": "stdout",
     "output_type": "stream",
     "text": [
      "QUERY:::  SELECT listings.id, listings.name, listings.rooms, listings.created_at, listings.updated_at \n",
      "FROM listings \n",
      "WHERE listings.rooms ? 'bedroom'\n",
      "\n",
      "RESULT:::  [<Listing(id='2' name='away')>, <Listing(id='3' name='far')>, <Listing(id='4' name='shed')>, <Listing(id='5' name='city')>]\n"
     ]
    }
   ],
   "source": [
    "from sqlalchemy import select\n",
    "\n",
    "query = select(Listing).filter(\n",
    "    Listing.rooms.op('?')('bedroom'))\n",
    "_ = run_query(query, render=True)"
   ]
  },
  {
   "cell_type": "code",
   "execution_count": 84,
   "id": "c1dc10a2-634f-44c7-8964-7daffabd2084",
   "metadata": {},
   "outputs": [
    {
     "name": "stdout",
     "output_type": "stream",
     "text": [
      "4 rows affected.\n"
     ]
    },
    {
     "data": {
      "text/html": [
       "<table>\n",
       "    <thead>\n",
       "        <tr>\n",
       "            <th>id</th>\n",
       "            <th>name</th>\n",
       "            <th>rooms</th>\n",
       "            <th>created_at</th>\n",
       "            <th>updated_at</th>\n",
       "        </tr>\n",
       "    </thead>\n",
       "    <tbody>\n",
       "        <tr>\n",
       "            <td>2</td>\n",
       "            <td>away</td>\n",
       "            <td>{&#x27;bedroom&#x27;: {&#x27;color&#x27;: &#x27;yellow&#x27;}, &#x27;kitchen&#x27;: {&#x27;color&#x27;: &#x27;yellow&#x27;}}</td>\n",
       "            <td>2024-10-03 23:59:46.315615</td>\n",
       "            <td>2024-10-03 23:59:46.315615</td>\n",
       "        </tr>\n",
       "        <tr>\n",
       "            <td>3</td>\n",
       "            <td>far</td>\n",
       "            <td>{&#x27;bedroom&#x27;: {&#x27;color&#x27;: &#x27;blue&#x27;}, &#x27;basement&#x27;: {&#x27;color&#x27;: &#x27;green&#x27;}}</td>\n",
       "            <td>2024-10-03 23:59:46.315615</td>\n",
       "            <td>2024-10-03 23:59:46.315615</td>\n",
       "        </tr>\n",
       "        <tr>\n",
       "            <td>4</td>\n",
       "            <td>shed</td>\n",
       "            <td>{&#x27;bedroom&#x27;: None, &#x27;basement&#x27;: {&#x27;color&#x27;: &#x27;green&#x27;}}</td>\n",
       "            <td>2024-10-03 23:59:46.315615</td>\n",
       "            <td>2024-10-03 23:59:46.315615</td>\n",
       "        </tr>\n",
       "        <tr>\n",
       "            <td>5</td>\n",
       "            <td>city</td>\n",
       "            <td>{&#x27;bedroom&#x27;: {&#x27;color&#x27;: &#x27;green&#x27;}, &#x27;basement&#x27;: {&#x27;color&#x27;: &#x27;green&#x27;}}</td>\n",
       "            <td>2024-10-03 23:59:46.315615</td>\n",
       "            <td>2024-10-03 23:59:46.315615</td>\n",
       "        </tr>\n",
       "    </tbody>\n",
       "</table>"
      ],
      "text/plain": [
       "[(2, 'away', {'bedroom': {'color': 'yellow'}, 'kitchen': {'color': 'yellow'}}, datetime.datetime(2024, 10, 3, 23, 59, 46, 315615), datetime.datetime(2024, 10, 3, 23, 59, 46, 315615)),\n",
       " (3, 'far', {'bedroom': {'color': 'blue'}, 'basement': {'color': 'green'}}, datetime.datetime(2024, 10, 3, 23, 59, 46, 315615), datetime.datetime(2024, 10, 3, 23, 59, 46, 315615)),\n",
       " (4, 'shed', {'bedroom': None, 'basement': {'color': 'green'}}, datetime.datetime(2024, 10, 3, 23, 59, 46, 315615), datetime.datetime(2024, 10, 3, 23, 59, 46, 315615)),\n",
       " (5, 'city', {'bedroom': {'color': 'green'}, 'basement': {'color': 'green'}}, datetime.datetime(2024, 10, 3, 23, 59, 46, 315615), datetime.datetime(2024, 10, 3, 23, 59, 46, 315615))]"
      ]
     },
     "execution_count": 84,
     "metadata": {},
     "output_type": "execute_result"
    }
   ],
   "source": [
    "%%sql $DB_URL \n",
    "SELECT listings.id, listings.name, listings.rooms, listings.created_at, listings.updated_at \n",
    "FROM listings \n",
    "WHERE listings.rooms ? 'bedroom'"
   ]
  },
  {
   "cell_type": "markdown",
   "id": "fcf36c15-d90a-4b46-8b83-e567cf93ca6b",
   "metadata": {},
   "source": [
    "### Filter `bedroom is Not Null`"
   ]
  },
  {
   "cell_type": "code",
   "execution_count": 85,
   "id": "ba150863-e619-42f8-a011-0c3e26ab5375",
   "metadata": {},
   "outputs": [
    {
     "name": "stdout",
     "output_type": "stream",
     "text": [
      "QUERY:::  SELECT listings.id, listings.name, listings.rooms, listings.created_at, listings.updated_at \n",
      "FROM listings \n",
      "WHERE jsonb_extract_path_text(listings.rooms, 'bedroom') IS NOT NULL\n",
      "\n",
      "RESULT:::  [<Listing(id='2' name='away')>, <Listing(id='3' name='far')>, <Listing(id='5' name='city')>]\n"
     ]
    }
   ],
   "source": [
    "query = select(Listing).filter(\n",
    "    func.jsonb_extract_path_text(Listing.rooms, 'bedroom').isnot(None)\n",
    ")\n",
    "_ = run_query(query)"
   ]
  },
  {
   "cell_type": "code",
   "execution_count": 86,
   "id": "c77313d2-280b-4697-9bb6-5d836543926c",
   "metadata": {},
   "outputs": [
    {
     "name": "stdout",
     "output_type": "stream",
     "text": [
      "3 rows affected.\n"
     ]
    },
    {
     "data": {
      "text/html": [
       "<table>\n",
       "    <thead>\n",
       "        <tr>\n",
       "            <th>id</th>\n",
       "            <th>name</th>\n",
       "            <th>rooms</th>\n",
       "            <th>created_at</th>\n",
       "            <th>updated_at</th>\n",
       "        </tr>\n",
       "    </thead>\n",
       "    <tbody>\n",
       "        <tr>\n",
       "            <td>2</td>\n",
       "            <td>away</td>\n",
       "            <td>{&#x27;bedroom&#x27;: {&#x27;color&#x27;: &#x27;yellow&#x27;}, &#x27;kitchen&#x27;: {&#x27;color&#x27;: &#x27;yellow&#x27;}}</td>\n",
       "            <td>2024-10-03 23:59:46.315615</td>\n",
       "            <td>2024-10-03 23:59:46.315615</td>\n",
       "        </tr>\n",
       "        <tr>\n",
       "            <td>3</td>\n",
       "            <td>far</td>\n",
       "            <td>{&#x27;bedroom&#x27;: {&#x27;color&#x27;: &#x27;blue&#x27;}, &#x27;basement&#x27;: {&#x27;color&#x27;: &#x27;green&#x27;}}</td>\n",
       "            <td>2024-10-03 23:59:46.315615</td>\n",
       "            <td>2024-10-03 23:59:46.315615</td>\n",
       "        </tr>\n",
       "        <tr>\n",
       "            <td>5</td>\n",
       "            <td>city</td>\n",
       "            <td>{&#x27;bedroom&#x27;: {&#x27;color&#x27;: &#x27;green&#x27;}, &#x27;basement&#x27;: {&#x27;color&#x27;: &#x27;green&#x27;}}</td>\n",
       "            <td>2024-10-03 23:59:46.315615</td>\n",
       "            <td>2024-10-03 23:59:46.315615</td>\n",
       "        </tr>\n",
       "    </tbody>\n",
       "</table>"
      ],
      "text/plain": [
       "[(2, 'away', {'bedroom': {'color': 'yellow'}, 'kitchen': {'color': 'yellow'}}, datetime.datetime(2024, 10, 3, 23, 59, 46, 315615), datetime.datetime(2024, 10, 3, 23, 59, 46, 315615)),\n",
       " (3, 'far', {'bedroom': {'color': 'blue'}, 'basement': {'color': 'green'}}, datetime.datetime(2024, 10, 3, 23, 59, 46, 315615), datetime.datetime(2024, 10, 3, 23, 59, 46, 315615)),\n",
       " (5, 'city', {'bedroom': {'color': 'green'}, 'basement': {'color': 'green'}}, datetime.datetime(2024, 10, 3, 23, 59, 46, 315615), datetime.datetime(2024, 10, 3, 23, 59, 46, 315615))]"
      ]
     },
     "execution_count": 86,
     "metadata": {},
     "output_type": "execute_result"
    }
   ],
   "source": [
    "%%sql $DB_URL \n",
    "SELECT listings.id, listings.name, listings.rooms, listings.created_at, listings.updated_at \n",
    "FROM listings \n",
    "WHERE jsonb_extract_path_text(listings.rooms, 'bedroom') IS NOT NULL"
   ]
  },
  {
   "cell_type": "markdown",
   "id": "d13cb16e-b3b3-4bb4-94e8-fa2b965c5ad9",
   "metadata": {},
   "source": [
    "### Filter `kitchen and bathroom has a color`"
   ]
  },
  {
   "cell_type": "code",
   "execution_count": 87,
   "id": "1cc4b4eb-aaa5-4629-9f61-b3e765996f5f",
   "metadata": {},
   "outputs": [
    {
     "name": "stdout",
     "output_type": "stream",
     "text": [
      "QUERY:::  SELECT listings.id, listings.name, listings.rooms, listings.created_at, listings.updated_at \n",
      "FROM listings \n",
      "WHERE (listings.rooms -> 'kitchen') ? 'color'\n",
      "\n",
      "RESULT:::  [<Listing(id='1' name='home')>, <Listing(id='2' name='away')>]\n"
     ]
    }
   ],
   "source": [
    "query = select(Listing).filter(\n",
    "    Listing.rooms.op('->')('kitchen').op('?')('color'))\n",
    "\n",
    "_ = run_query(query)"
   ]
  },
  {
   "cell_type": "code",
   "execution_count": 88,
   "id": "6c159557-974d-4cbb-90e5-8ee9ca6df114",
   "metadata": {},
   "outputs": [
    {
     "name": "stdout",
     "output_type": "stream",
     "text": [
      "2 rows affected.\n"
     ]
    },
    {
     "data": {
      "text/html": [
       "<table>\n",
       "    <thead>\n",
       "        <tr>\n",
       "            <th>id</th>\n",
       "            <th>name</th>\n",
       "            <th>rooms</th>\n",
       "            <th>created_at</th>\n",
       "            <th>updated_at</th>\n",
       "        </tr>\n",
       "    </thead>\n",
       "    <tbody>\n",
       "        <tr>\n",
       "            <td>1</td>\n",
       "            <td>home</td>\n",
       "            <td>{&#x27;kitchen&#x27;: {&#x27;color&#x27;: &#x27;blue&#x27;}}</td>\n",
       "            <td>2024-10-03 23:59:46.315615</td>\n",
       "            <td>2024-10-03 23:59:46.315615</td>\n",
       "        </tr>\n",
       "        <tr>\n",
       "            <td>2</td>\n",
       "            <td>away</td>\n",
       "            <td>{&#x27;bedroom&#x27;: {&#x27;color&#x27;: &#x27;yellow&#x27;}, &#x27;kitchen&#x27;: {&#x27;color&#x27;: &#x27;yellow&#x27;}}</td>\n",
       "            <td>2024-10-03 23:59:46.315615</td>\n",
       "            <td>2024-10-03 23:59:46.315615</td>\n",
       "        </tr>\n",
       "    </tbody>\n",
       "</table>"
      ],
      "text/plain": [
       "[(1, 'home', {'kitchen': {'color': 'blue'}}, datetime.datetime(2024, 10, 3, 23, 59, 46, 315615), datetime.datetime(2024, 10, 3, 23, 59, 46, 315615)),\n",
       " (2, 'away', {'bedroom': {'color': 'yellow'}, 'kitchen': {'color': 'yellow'}}, datetime.datetime(2024, 10, 3, 23, 59, 46, 315615), datetime.datetime(2024, 10, 3, 23, 59, 46, 315615))]"
      ]
     },
     "execution_count": 88,
     "metadata": {},
     "output_type": "execute_result"
    }
   ],
   "source": [
    "%%sql $DB_URL \n",
    "SELECT listings.id, listings.name, listings.rooms, listings.created_at, listings.updated_at \n",
    "FROM listings \n",
    "WHERE (listings.rooms -> 'kitchen') ? 'color'"
   ]
  },
  {
   "cell_type": "code",
   "execution_count": 89,
   "id": "88453089-d46f-4be1-ad91-8326750e7bbc",
   "metadata": {},
   "outputs": [
    {
     "name": "stdout",
     "output_type": "stream",
     "text": [
      "QUERY:::  SELECT listings.id, listings.name, listings.rooms, listings.created_at, listings.updated_at \n",
      "FROM listings \n",
      "WHERE (listings.rooms -> 'bathroom') ? 'color'\n",
      "\n",
      "RESULT:::  []\n"
     ]
    }
   ],
   "source": [
    "query = select(Listing).filter(\n",
    "    Listing.rooms.op('->')('bathroom').op('?')('color'))\n",
    "\n",
    "_ = run_query(query)"
   ]
  },
  {
   "cell_type": "code",
   "execution_count": 90,
   "id": "3ae0dc27-62d4-4529-ad6b-e3bbe335c74a",
   "metadata": {},
   "outputs": [
    {
     "name": "stdout",
     "output_type": "stream",
     "text": [
      "0 rows affected.\n"
     ]
    },
    {
     "data": {
      "text/html": [
       "<table>\n",
       "    <thead>\n",
       "        <tr>\n",
       "            <th>id</th>\n",
       "            <th>name</th>\n",
       "            <th>rooms</th>\n",
       "            <th>created_at</th>\n",
       "            <th>updated_at</th>\n",
       "        </tr>\n",
       "    </thead>\n",
       "    <tbody>\n",
       "    </tbody>\n",
       "</table>"
      ],
      "text/plain": [
       "[]"
      ]
     },
     "execution_count": 90,
     "metadata": {},
     "output_type": "execute_result"
    }
   ],
   "source": [
    "%%sql $DB_URL \n",
    "SELECT listings.id, listings.name, listings.rooms, listings.created_at, listings.updated_at \n",
    "FROM listings \n",
    "WHERE (listings.rooms -> 'bathroom') ? 'color'"
   ]
  },
  {
   "cell_type": "markdown",
   "id": "eed54371-2812-433d-bdd4-578c73e26a92",
   "metadata": {},
   "source": [
    "### Find all rooms with a green color using JSONPath"
   ]
  },
  {
   "cell_type": "code",
   "execution_count": 91,
   "id": "e6411209-6869-4d14-b385-826ce3954073",
   "metadata": {},
   "outputs": [
    {
     "name": "stdout",
     "output_type": "stream",
     "text": [
      "QUERY:::  SELECT listings.id, listings.name, listings.rooms, listings.created_at, listings.updated_at \n",
      "FROM listings \n",
      "WHERE jsonb_path_exists(listings.rooms, '$.* ? (@.color == \"green\")'::jsonpath)\n",
      "\n",
      "RESULT:::  [<Listing(id='3' name='far')>, <Listing(id='4' name='shed')>, <Listing(id='5' name='city')>, <Listing(id='6' name='country')>]\n"
     ]
    }
   ],
   "source": [
    "query = select(Listing).where(\n",
    "    func.jsonb_path_exists(\n",
    "        Listing.rooms, text(\"\"\"'$.* ? (@.color == \"green\")'::jsonpath\"\"\")))\n",
    "\n",
    "_ = run_query(query)"
   ]
  },
  {
   "cell_type": "code",
   "execution_count": 92,
   "id": "0813cc86-71d8-4735-8b63-42471b4100dd",
   "metadata": {},
   "outputs": [
    {
     "name": "stdout",
     "output_type": "stream",
     "text": [
      "4 rows affected.\n"
     ]
    },
    {
     "data": {
      "text/html": [
       "<table>\n",
       "    <thead>\n",
       "        <tr>\n",
       "            <th>id</th>\n",
       "            <th>name</th>\n",
       "            <th>rooms</th>\n",
       "            <th>created_at</th>\n",
       "            <th>updated_at</th>\n",
       "        </tr>\n",
       "    </thead>\n",
       "    <tbody>\n",
       "        <tr>\n",
       "            <td>3</td>\n",
       "            <td>far</td>\n",
       "            <td>{&#x27;bedroom&#x27;: {&#x27;color&#x27;: &#x27;blue&#x27;}, &#x27;basement&#x27;: {&#x27;color&#x27;: &#x27;green&#x27;}}</td>\n",
       "            <td>2024-10-03 23:59:46.315615</td>\n",
       "            <td>2024-10-03 23:59:46.315615</td>\n",
       "        </tr>\n",
       "        <tr>\n",
       "            <td>4</td>\n",
       "            <td>shed</td>\n",
       "            <td>{&#x27;bedroom&#x27;: None, &#x27;basement&#x27;: {&#x27;color&#x27;: &#x27;green&#x27;}}</td>\n",
       "            <td>2024-10-03 23:59:46.315615</td>\n",
       "            <td>2024-10-03 23:59:46.315615</td>\n",
       "        </tr>\n",
       "        <tr>\n",
       "            <td>5</td>\n",
       "            <td>city</td>\n",
       "            <td>{&#x27;bedroom&#x27;: {&#x27;color&#x27;: &#x27;green&#x27;}, &#x27;basement&#x27;: {&#x27;color&#x27;: &#x27;green&#x27;}}</td>\n",
       "            <td>2024-10-03 23:59:46.315615</td>\n",
       "            <td>2024-10-03 23:59:46.315615</td>\n",
       "        </tr>\n",
       "        <tr>\n",
       "            <td>6</td>\n",
       "            <td>country</td>\n",
       "            <td>{&#x27;basement&#x27;: {&#x27;color&#x27;: &#x27;green&#x27;}}</td>\n",
       "            <td>2024-10-03 23:59:46.315615</td>\n",
       "            <td>2024-10-03 23:59:46.315615</td>\n",
       "        </tr>\n",
       "    </tbody>\n",
       "</table>"
      ],
      "text/plain": [
       "[(3, 'far', {'bedroom': {'color': 'blue'}, 'basement': {'color': 'green'}}, datetime.datetime(2024, 10, 3, 23, 59, 46, 315615), datetime.datetime(2024, 10, 3, 23, 59, 46, 315615)),\n",
       " (4, 'shed', {'bedroom': None, 'basement': {'color': 'green'}}, datetime.datetime(2024, 10, 3, 23, 59, 46, 315615), datetime.datetime(2024, 10, 3, 23, 59, 46, 315615)),\n",
       " (5, 'city', {'bedroom': {'color': 'green'}, 'basement': {'color': 'green'}}, datetime.datetime(2024, 10, 3, 23, 59, 46, 315615), datetime.datetime(2024, 10, 3, 23, 59, 46, 315615)),\n",
       " (6, 'country', {'basement': {'color': 'green'}}, datetime.datetime(2024, 10, 3, 23, 59, 46, 315615), datetime.datetime(2024, 10, 3, 23, 59, 46, 315615))]"
      ]
     },
     "execution_count": 92,
     "metadata": {},
     "output_type": "execute_result"
    }
   ],
   "source": [
    "%%sql $DB_URL \n",
    "SELECT listings.id, listings.name, listings.rooms, listings.created_at, listings.updated_at \n",
    "FROM listings \n",
    "WHERE jsonb_path_exists(listings.rooms, '$.* ? (@.color == \"green\")'::jsonpath)"
   ]
  },
  {
   "cell_type": "markdown",
   "id": "26d1ea3a-ea89-4b0c-a786-1963f0de8b92",
   "metadata": {},
   "source": [
    "### Use JSONB operators in the select "
   ]
  },
  {
   "cell_type": "code",
   "execution_count": 93,
   "id": "9e9dbc60-961a-46bf-8846-273d8a5aff63",
   "metadata": {},
   "outputs": [
    {
     "name": "stdout",
     "output_type": "stream",
     "text": [
      "QUERY:::  SELECT listings.id, listings.rooms ->> 'bedroom' AS anon_1, (listings.rooms -> 'bedroom') ->> 'color' AS anon_2 \n",
      "FROM listings\n",
      "\n",
      "RESULT:::  [(1, None, None), (2, '{\"color\": \"yellow\"}', 'yellow'), (3, '{\"color\": \"blue\"}', 'blue'), (4, None, None), (5, '{\"color\": \"green\"}', 'green'), (6, None, None)]\n"
     ]
    }
   ],
   "source": [
    "query = select(\n",
    "    Listing.id, \n",
    "    Listing.rooms.op(\"->>\")('bedroom'),\n",
    "    Listing.rooms.op(\"->\")('bedroom').op(\"->>\")('color'),\n",
    ")\n",
    "_ = run_query(query, scalars=False)"
   ]
  },
  {
   "cell_type": "code",
   "execution_count": 94,
   "id": "ea31b016-3caf-4295-962e-992c465effb6",
   "metadata": {},
   "outputs": [
    {
     "name": "stdout",
     "output_type": "stream",
     "text": [
      "6 rows affected.\n"
     ]
    },
    {
     "data": {
      "text/html": [
       "<table>\n",
       "    <thead>\n",
       "        <tr>\n",
       "            <th>id</th>\n",
       "            <th>anon_1</th>\n",
       "            <th>anon_2</th>\n",
       "        </tr>\n",
       "    </thead>\n",
       "    <tbody>\n",
       "        <tr>\n",
       "            <td>1</td>\n",
       "            <td>None</td>\n",
       "            <td>None</td>\n",
       "        </tr>\n",
       "        <tr>\n",
       "            <td>2</td>\n",
       "            <td>{&quot;color&quot;: &quot;yellow&quot;}</td>\n",
       "            <td>yellow</td>\n",
       "        </tr>\n",
       "        <tr>\n",
       "            <td>3</td>\n",
       "            <td>{&quot;color&quot;: &quot;blue&quot;}</td>\n",
       "            <td>blue</td>\n",
       "        </tr>\n",
       "        <tr>\n",
       "            <td>4</td>\n",
       "            <td>None</td>\n",
       "            <td>None</td>\n",
       "        </tr>\n",
       "        <tr>\n",
       "            <td>5</td>\n",
       "            <td>{&quot;color&quot;: &quot;green&quot;}</td>\n",
       "            <td>green</td>\n",
       "        </tr>\n",
       "        <tr>\n",
       "            <td>6</td>\n",
       "            <td>None</td>\n",
       "            <td>None</td>\n",
       "        </tr>\n",
       "    </tbody>\n",
       "</table>"
      ],
      "text/plain": [
       "[(1, None, None),\n",
       " (2, '{\"color\": \"yellow\"}', 'yellow'),\n",
       " (3, '{\"color\": \"blue\"}', 'blue'),\n",
       " (4, None, None),\n",
       " (5, '{\"color\": \"green\"}', 'green'),\n",
       " (6, None, None)]"
      ]
     },
     "execution_count": 94,
     "metadata": {},
     "output_type": "execute_result"
    }
   ],
   "source": [
    "%%sql $DB_URL \n",
    "SELECT listings.id, listings.rooms ->> 'bedroom' AS anon_1, (listings.rooms -> 'bedroom') ->> 'color' AS anon_2 \n",
    "FROM listings"
   ]
  },
  {
   "cell_type": "code",
   "execution_count": 33,
   "id": "eef34f06-4e67-4b2b-a013-a96a94f5cdca",
   "metadata": {},
   "outputs": [],
   "source": [
    "# https://www.postgresql.org/docs/9.6/functions-json.html\n",
    "# https://www.postgresql.org/docs/current/datatype-json.html"
   ]
  },
  {
   "cell_type": "code",
   "execution_count": null,
   "id": "be4d2d85-e451-4277-87e1-ecc4971ecd44",
   "metadata": {},
   "outputs": [],
   "source": [
    "# https://github.com/json-path/JsonPath"
   ]
  },
  {
   "cell_type": "code",
   "execution_count": null,
   "id": "b43185d3-4b65-4d8a-87df-2867d3b8bd48",
   "metadata": {},
   "outputs": [],
   "source": []
  },
  {
   "cell_type": "markdown",
   "id": "1dc4ab0a-87c0-4706-8831-1b9a4d883d8c",
   "metadata": {},
   "source": [
    "# Search Example"
   ]
  },
  {
   "cell_type": "markdown",
   "id": "af5b6553-0b0c-4bb6-93e1-95e4869e0a8a",
   "metadata": {},
   "source": [
    "### Generate a \"Vectorized\" representation of the text"
   ]
  },
  {
   "cell_type": "code",
   "execution_count": 105,
   "id": "1b5cbab0-425c-4f7f-bc25-304479007623",
   "metadata": {},
   "outputs": [
    {
     "name": "stdout",
     "output_type": "stream",
     "text": [
      "1 rows affected.\n"
     ]
    },
    {
     "data": {
      "text/html": [
       "<table>\n",
       "    <thead>\n",
       "        <tr>\n",
       "            <th>to_tsvector</th>\n",
       "        </tr>\n",
       "    </thead>\n",
       "    <tbody>\n",
       "        <tr>\n",
       "            <td>&#x27;chicago&#x27;:9 &#x27;django&#x27;:13 &#x27;joe&#x27;:4 &#x27;kubernet&#x27;:15 &#x27;live&#x27;:7 &#x27;name&#x27;:2 &#x27;use&#x27;:12</td>\n",
       "        </tr>\n",
       "    </tbody>\n",
       "</table>"
      ],
      "text/plain": [
       "[(\"'chicago':9 'django':13 'joe':4 'kubernet':15 'live':7 'name':2 'use':12\",)]"
      ]
     },
     "execution_count": 105,
     "metadata": {},
     "output_type": "execute_result"
    }
   ],
   "source": [
    "%%sql $DB_URL \n",
    "select to_tsvector(\n",
    "    'my name is Joe and I live in Chicago. I have used Django and kubernetes');"
   ]
  },
  {
   "cell_type": "markdown",
   "id": "514e7bbe-cd0a-4b78-970f-af87019326c5",
   "metadata": {},
   "source": [
    "### Do the search terms exist in the vector? "
   ]
  },
  {
   "cell_type": "code",
   "execution_count": 108,
   "id": "7477cc2d-0d45-4c49-af07-204441db34d3",
   "metadata": {},
   "outputs": [
    {
     "name": "stdout",
     "output_type": "stream",
     "text": [
      "1 rows affected.\n"
     ]
    },
    {
     "data": {
      "text/html": [
       "<table>\n",
       "    <thead>\n",
       "        <tr>\n",
       "            <th>?column?</th>\n",
       "        </tr>\n",
       "    </thead>\n",
       "    <tbody>\n",
       "        <tr>\n",
       "            <td>True</td>\n",
       "        </tr>\n",
       "    </tbody>\n",
       "</table>"
      ],
      "text/plain": [
       "[(True,)]"
      ]
     },
     "execution_count": 108,
     "metadata": {},
     "output_type": "execute_result"
    }
   ],
   "source": [
    "%%sql $DB_URL \n",
    "select to_tsvector(\n",
    "    'my name is Joe and I live in Chicago. I have used Django and kubernetes')\n",
    "@@ to_tsquery('Chicago & Django');"
   ]
  },
  {
   "cell_type": "code",
   "execution_count": 113,
   "id": "4b90cf82-1584-4266-a8e2-b38694165303",
   "metadata": {},
   "outputs": [
    {
     "name": "stdout",
     "output_type": "stream",
     "text": [
      "1 rows affected.\n"
     ]
    },
    {
     "data": {
      "text/html": [
       "<table>\n",
       "    <thead>\n",
       "        <tr>\n",
       "            <th>?column?</th>\n",
       "        </tr>\n",
       "    </thead>\n",
       "    <tbody>\n",
       "        <tr>\n",
       "            <td>False</td>\n",
       "        </tr>\n",
       "    </tbody>\n",
       "</table>"
      ],
      "text/plain": [
       "[(False,)]"
      ]
     },
     "execution_count": 113,
     "metadata": {},
     "output_type": "execute_result"
    }
   ],
   "source": [
    "%%sql $DB_URL \n",
    "select to_tsvector(\n",
    "    'my name is Joe and I live in Chicago. I have used Django and kubernetes')\n",
    "@@ to_tsquery('DC');"
   ]
  },
  {
   "cell_type": "code",
   "execution_count": null,
   "id": "431fdd12-805c-418f-b857-4beaaed7f511",
   "metadata": {},
   "outputs": [],
   "source": []
  },
  {
   "cell_type": "code",
   "execution_count": 114,
   "id": "fd343f98-8b53-4a55-8723-fe74c7c23f8b",
   "metadata": {},
   "outputs": [],
   "source": [
    "Base = declarative_base()\n",
    "from sqlalchemy.types import TypeDecorator\n",
    "\n",
    "class TSVector(TypeDecorator):\n",
    "    impl = TSVECTOR\n",
    "    cache_ok = True  \n",
    "\n",
    "class Listing(Base):\n",
    "    __tablename__ = 'listings'\n",
    "    \n",
    "    id = Column(Integer, primary_key=True,)\n",
    "    name = Column(String, unique=True)\n",
    "    description = Column(Text(), nullable=True)\n",
    "    rooms = Column(JSONB)\n",
    "    created_at = Column(DateTime, default=func.now())\n",
    "    updated_at = Column(DateTime, default=func.now(), onupdate=func.now())\n",
    "\n",
    "    ts_vector = Column(\n",
    "        TSVector(), \n",
    "        Computed(\n",
    "            func.setweight(\n",
    "                func.to_tsvector(\n",
    "                    cast(literal(\"english\"), type_=REGCONFIG), \n",
    "                    func.coalesce(name, '')), 'A' ).concat(\n",
    "            func.setweight(\n",
    "                func.to_tsvector(\n",
    "                    cast(literal(\"english\"), type_=REGCONFIG), \n",
    "                    func.coalesce(description, '')), \"B\" )),\n",
    "            persisted=True))\n",
    "    \n",
    "    __table_args__ = (\n",
    "        Index('ix_video___ts_vector__', ts_vector, postgresql_using='gin'),)\n",
    "    \n",
    "    def __repr__(self):\n",
    "        return f\"<Listing(id='{self.id}' name='{self.name}')>\"\n",
    "\n",
    "\n",
    "\n",
    "Listing.__table__.drop(engine, checkfirst=True)\n",
    "Base.metadata.create_all(engine)"
   ]
  },
  {
   "cell_type": "code",
   "execution_count": 115,
   "id": "1d3e1899-08a8-48a2-aa6b-703b8817f113",
   "metadata": {},
   "outputs": [],
   "source": [
    "from sqlalchemy.orm import Session\n",
    "with Session(engine) as session:\n",
    "    session.add_all([\n",
    "        Listing(\n",
    "            name=\"home\", \n",
    "            description=\"No place like home. A great place to live.\",\n",
    "            rooms={\n",
    "            \"kitchen\": {\"color\": \"blue\"},\n",
    "        }), \n",
    "        Listing(\n",
    "            name=\"away\", \n",
    "            description=\"A house that is very yellow and bright themed.\",\n",
    "            rooms={\n",
    "            \"bedroom\": {\"color\": \"yellow\"},\n",
    "            \"kitchen\": {\"color\": \"yellow\"},\n",
    "        }), \n",
    "        Listing(\n",
    "            name=\"far\", \n",
    "            description=\"A large house in the middle of the countryside and has a barnhouse theme.\",\n",
    "            rooms={\n",
    "            \"bedroom\": {\"color\": \"blue\"},\n",
    "            \"basement\": {\"color\": \"green\"},\n",
    "        }), \n",
    "        Listing(\n",
    "            name=\"city\", \n",
    "            description=\"Green 18th century old house with big garage\",\n",
    "            rooms={\n",
    "            \"basement\": {\"color\": \"green\"},\n",
    "            \"bedroom\": {\"color\": \"green\"},\n",
    "        }),\n",
    "        Listing(name=\"country\", rooms={\n",
    "            \"basement\": {\"color\": \"green\"},\n",
    "        }),\n",
    "    ])\n",
    "    session.commit()"
   ]
  },
  {
   "cell_type": "code",
   "execution_count": 116,
   "id": "1c591807-c002-4f5c-92fa-320b8cd1e987",
   "metadata": {},
   "outputs": [
    {
     "name": "stdout",
     "output_type": "stream",
     "text": [
      "5 rows affected.\n"
     ]
    },
    {
     "data": {
      "text/html": [
       "<table>\n",
       "    <thead>\n",
       "        <tr>\n",
       "            <th>id</th>\n",
       "            <th>name</th>\n",
       "            <th>description</th>\n",
       "            <th>ts_vector</th>\n",
       "        </tr>\n",
       "    </thead>\n",
       "    <tbody>\n",
       "        <tr>\n",
       "            <td>1</td>\n",
       "            <td>home</td>\n",
       "            <td>No place like home. A great place to live.</td>\n",
       "            <td>&#x27;great&#x27;:7B &#x27;home&#x27;:1A,5B &#x27;like&#x27;:4B &#x27;live&#x27;:10B &#x27;place&#x27;:3B,8B</td>\n",
       "        </tr>\n",
       "        <tr>\n",
       "            <td>2</td>\n",
       "            <td>away</td>\n",
       "            <td>A house that is very yellow and bright themed.</td>\n",
       "            <td>&#x27;away&#x27;:1A &#x27;bright&#x27;:9B &#x27;hous&#x27;:3B &#x27;theme&#x27;:10B &#x27;yellow&#x27;:7B</td>\n",
       "        </tr>\n",
       "        <tr>\n",
       "            <td>3</td>\n",
       "            <td>far</td>\n",
       "            <td>A large house in the middle of the countryside and has a barnhouse theme.</td>\n",
       "            <td>&#x27;barnhous&#x27;:14B &#x27;countrysid&#x27;:10B &#x27;far&#x27;:1A &#x27;hous&#x27;:4B &#x27;larg&#x27;:3B &#x27;middl&#x27;:7B &#x27;theme&#x27;:15B</td>\n",
       "        </tr>\n",
       "        <tr>\n",
       "            <td>4</td>\n",
       "            <td>city</td>\n",
       "            <td>Green 18th century old house with big garage</td>\n",
       "            <td>&#x27;18th&#x27;:3B &#x27;big&#x27;:8B &#x27;centuri&#x27;:4B &#x27;citi&#x27;:1A &#x27;garag&#x27;:9B &#x27;green&#x27;:2B &#x27;hous&#x27;:6B &#x27;old&#x27;:5B</td>\n",
       "        </tr>\n",
       "        <tr>\n",
       "            <td>5</td>\n",
       "            <td>country</td>\n",
       "            <td>None</td>\n",
       "            <td>&#x27;countri&#x27;:1A</td>\n",
       "        </tr>\n",
       "    </tbody>\n",
       "</table>"
      ],
      "text/plain": [
       "[(1, 'home', 'No place like home. A great place to live.', \"'great':7B 'home':1A,5B 'like':4B 'live':10B 'place':3B,8B\"),\n",
       " (2, 'away', 'A house that is very yellow and bright themed.', \"'away':1A 'bright':9B 'hous':3B 'theme':10B 'yellow':7B\"),\n",
       " (3, 'far', 'A large house in the middle of the countryside and has a barnhouse theme.', \"'barnhous':14B 'countrysid':10B 'far':1A 'hous':4B 'larg':3B 'middl':7B 'theme':15B\"),\n",
       " (4, 'city', 'Green 18th century old house with big garage', \"'18th':3B 'big':8B 'centuri':4B 'citi':1A 'garag':9B 'green':2B 'hous':6B 'old':5B\"),\n",
       " (5, 'country', None, \"'countri':1A\")]"
      ]
     },
     "execution_count": 116,
     "metadata": {},
     "output_type": "execute_result"
    }
   ],
   "source": [
    "%%sql $DB_URL\n",
    "select id, name, description, ts_vector from listings;"
   ]
  },
  {
   "cell_type": "code",
   "execution_count": 117,
   "id": "9b577801-e135-4dc5-add0-c3c78f6012bf",
   "metadata": {},
   "outputs": [
    {
     "name": "stdout",
     "output_type": "stream",
     "text": [
      "QUERY:::  SELECT listings.id, listings.name, listings.description, listings.rooms, listings.created_at, listings.updated_at, listings.ts_vector \n",
      "FROM listings \n",
      "WHERE listings.ts_vector @@ plainto_tsquery(CAST('english' AS REGCONFIG), 'house yellow')\n",
      "\n",
      "RESULT:::  [<Listing(id='2' name='away')>]\n"
     ]
    }
   ],
   "source": [
    "from sqlalchemy.orm import Session\n",
    "search_query = 'house yellow'\n",
    "\n",
    "query = select(Listing).filter(\n",
    "    Listing.ts_vector.op('@@')(\n",
    "        func.plainto_tsquery(cast(literal(\"english\"), type_=REGCONFIG), search_query)\n",
    "    )\n",
    ")\n",
    "\n",
    "_ = run_query(query)"
   ]
  },
  {
   "cell_type": "code",
   "execution_count": 118,
   "id": "ca00804d-5125-4d70-bc6e-b4b1492a200e",
   "metadata": {},
   "outputs": [
    {
     "name": "stdout",
     "output_type": "stream",
     "text": [
      "1 rows affected.\n"
     ]
    },
    {
     "data": {
      "text/html": [
       "<table>\n",
       "    <thead>\n",
       "        <tr>\n",
       "            <th>id</th>\n",
       "            <th>name</th>\n",
       "            <th>description</th>\n",
       "            <th>rooms</th>\n",
       "            <th>created_at</th>\n",
       "            <th>updated_at</th>\n",
       "            <th>ts_vector</th>\n",
       "        </tr>\n",
       "    </thead>\n",
       "    <tbody>\n",
       "        <tr>\n",
       "            <td>2</td>\n",
       "            <td>away</td>\n",
       "            <td>A house that is very yellow and bright themed.</td>\n",
       "            <td>{&#x27;bedroom&#x27;: {&#x27;color&#x27;: &#x27;yellow&#x27;}, &#x27;kitchen&#x27;: {&#x27;color&#x27;: &#x27;yellow&#x27;}}</td>\n",
       "            <td>2024-10-04 00:13:05.782165</td>\n",
       "            <td>2024-10-04 00:13:05.782165</td>\n",
       "            <td>&#x27;away&#x27;:1A &#x27;bright&#x27;:9B &#x27;hous&#x27;:3B &#x27;theme&#x27;:10B &#x27;yellow&#x27;:7B</td>\n",
       "        </tr>\n",
       "    </tbody>\n",
       "</table>"
      ],
      "text/plain": [
       "[(2, 'away', 'A house that is very yellow and bright themed.', {'bedroom': {'color': 'yellow'}, 'kitchen': {'color': 'yellow'}}, datetime.datetime(2024, 10, 4, 0, 13, 5, 782165), datetime.datetime(2024, 10, 4, 0, 13, 5, 782165), \"'away':1A 'bright':9B 'hous':3B 'theme':10B 'yellow':7B\")]"
      ]
     },
     "execution_count": 118,
     "metadata": {},
     "output_type": "execute_result"
    }
   ],
   "source": [
    "%%sql $DB_URL\n",
    "SELECT listings.id, listings.name, listings.description, listings.rooms, listings.created_at, listings.updated_at, listings.ts_vector \n",
    "FROM listings \n",
    "WHERE listings.ts_vector @@ plainto_tsquery(CAST('english' AS REGCONFIG), 'house yellow')"
   ]
  },
  {
   "cell_type": "code",
   "execution_count": 119,
   "id": "7618d9df-3949-4d96-911c-d2450cc9f46c",
   "metadata": {},
   "outputs": [
    {
     "name": "stdout",
     "output_type": "stream",
     "text": [
      "QUERY:::  SELECT listings.id, listings.name, listings.description, listings.rooms, listings.created_at, listings.updated_at, listings.ts_vector \n",
      "FROM listings \n",
      "WHERE listings.ts_vector @@ to_tsquery(CAST('english' AS REGCONFIG), 'house | yellow | country')\n",
      "\n",
      "RESULT:::  [<Listing(id='2' name='away')>, <Listing(id='3' name='far')>, <Listing(id='4' name='city')>, <Listing(id='5' name='country')>]\n"
     ]
    }
   ],
   "source": [
    "from sqlalchemy.orm import Session\n",
    "search_query = 'house | yellow | country'\n",
    "\n",
    "query = select(Listing).filter(\n",
    "    Listing.ts_vector.op('@@')(\n",
    "        func.to_tsquery(cast(literal(\"english\"), type_=REGCONFIG), search_query)\n",
    "    )\n",
    ")\n",
    "\n",
    "_ = run_query(query)"
   ]
  },
  {
   "cell_type": "code",
   "execution_count": 120,
   "id": "b0f6ff70-6b55-45c6-91a1-bfbf4f45237b",
   "metadata": {},
   "outputs": [
    {
     "name": "stdout",
     "output_type": "stream",
     "text": [
      "4 rows affected.\n"
     ]
    },
    {
     "data": {
      "text/html": [
       "<table>\n",
       "    <thead>\n",
       "        <tr>\n",
       "            <th>id</th>\n",
       "            <th>name</th>\n",
       "            <th>description</th>\n",
       "            <th>rooms</th>\n",
       "            <th>created_at</th>\n",
       "            <th>updated_at</th>\n",
       "            <th>ts_vector</th>\n",
       "        </tr>\n",
       "    </thead>\n",
       "    <tbody>\n",
       "        <tr>\n",
       "            <td>2</td>\n",
       "            <td>away</td>\n",
       "            <td>A house that is very yellow and bright themed.</td>\n",
       "            <td>{&#x27;bedroom&#x27;: {&#x27;color&#x27;: &#x27;yellow&#x27;}, &#x27;kitchen&#x27;: {&#x27;color&#x27;: &#x27;yellow&#x27;}}</td>\n",
       "            <td>2024-10-04 00:13:05.782165</td>\n",
       "            <td>2024-10-04 00:13:05.782165</td>\n",
       "            <td>&#x27;away&#x27;:1A &#x27;bright&#x27;:9B &#x27;hous&#x27;:3B &#x27;theme&#x27;:10B &#x27;yellow&#x27;:7B</td>\n",
       "        </tr>\n",
       "        <tr>\n",
       "            <td>3</td>\n",
       "            <td>far</td>\n",
       "            <td>A large house in the middle of the countryside and has a barnhouse theme.</td>\n",
       "            <td>{&#x27;bedroom&#x27;: {&#x27;color&#x27;: &#x27;blue&#x27;}, &#x27;basement&#x27;: {&#x27;color&#x27;: &#x27;green&#x27;}}</td>\n",
       "            <td>2024-10-04 00:13:05.782165</td>\n",
       "            <td>2024-10-04 00:13:05.782165</td>\n",
       "            <td>&#x27;barnhous&#x27;:14B &#x27;countrysid&#x27;:10B &#x27;far&#x27;:1A &#x27;hous&#x27;:4B &#x27;larg&#x27;:3B &#x27;middl&#x27;:7B &#x27;theme&#x27;:15B</td>\n",
       "        </tr>\n",
       "        <tr>\n",
       "            <td>4</td>\n",
       "            <td>city</td>\n",
       "            <td>Green 18th century old house with big garage</td>\n",
       "            <td>{&#x27;bedroom&#x27;: {&#x27;color&#x27;: &#x27;green&#x27;}, &#x27;basement&#x27;: {&#x27;color&#x27;: &#x27;green&#x27;}}</td>\n",
       "            <td>2024-10-04 00:13:05.782165</td>\n",
       "            <td>2024-10-04 00:13:05.782165</td>\n",
       "            <td>&#x27;18th&#x27;:3B &#x27;big&#x27;:8B &#x27;centuri&#x27;:4B &#x27;citi&#x27;:1A &#x27;garag&#x27;:9B &#x27;green&#x27;:2B &#x27;hous&#x27;:6B &#x27;old&#x27;:5B</td>\n",
       "        </tr>\n",
       "        <tr>\n",
       "            <td>5</td>\n",
       "            <td>country</td>\n",
       "            <td>None</td>\n",
       "            <td>{&#x27;basement&#x27;: {&#x27;color&#x27;: &#x27;green&#x27;}}</td>\n",
       "            <td>2024-10-04 00:13:05.782165</td>\n",
       "            <td>2024-10-04 00:13:05.782165</td>\n",
       "            <td>&#x27;countri&#x27;:1A</td>\n",
       "        </tr>\n",
       "    </tbody>\n",
       "</table>"
      ],
      "text/plain": [
       "[(2, 'away', 'A house that is very yellow and bright themed.', {'bedroom': {'color': 'yellow'}, 'kitchen': {'color': 'yellow'}}, datetime.datetime(2024, 10, 4, 0, 13, 5, 782165), datetime.datetime(2024, 10, 4, 0, 13, 5, 782165), \"'away':1A 'bright':9B 'hous':3B 'theme':10B 'yellow':7B\"),\n",
       " (3, 'far', 'A large house in the middle of the countryside and has a barnhouse theme.', {'bedroom': {'color': 'blue'}, 'basement': {'color': 'green'}}, datetime.datetime(2024, 10, 4, 0, 13, 5, 782165), datetime.datetime(2024, 10, 4, 0, 13, 5, 782165), \"'barnhous':14B 'countrysid':10B 'far':1A 'hous':4B 'larg':3B 'middl':7B 'theme':15B\"),\n",
       " (4, 'city', 'Green 18th century old house with big garage', {'bedroom': {'color': 'green'}, 'basement': {'color': 'green'}}, datetime.datetime(2024, 10, 4, 0, 13, 5, 782165), datetime.datetime(2024, 10, 4, 0, 13, 5, 782165), \"'18th':3B 'big':8B 'centuri':4B 'citi':1A 'garag':9B 'green':2B 'hous':6B 'old':5B\"),\n",
       " (5, 'country', None, {'basement': {'color': 'green'}}, datetime.datetime(2024, 10, 4, 0, 13, 5, 782165), datetime.datetime(2024, 10, 4, 0, 13, 5, 782165), \"'countri':1A\")]"
      ]
     },
     "execution_count": 120,
     "metadata": {},
     "output_type": "execute_result"
    }
   ],
   "source": [
    "%%sql $DB_URL\n",
    "SELECT listings.id, listings.name, listings.description, listings.rooms, listings.created_at, listings.updated_at, listings.ts_vector \n",
    "FROM listings \n",
    "WHERE listings.ts_vector @@ to_tsquery(CAST('english' AS REGCONFIG), 'house | yellow | country');"
   ]
  },
  {
   "cell_type": "code",
   "execution_count": null,
   "id": "b1aa8b47-91ce-44c7-8963-13e1b251dfc1",
   "metadata": {},
   "outputs": [],
   "source": []
  },
  {
   "cell_type": "code",
   "execution_count": null,
   "id": "123f39cc-8eb4-4ad4-8284-a58fe1d9ab75",
   "metadata": {},
   "outputs": [],
   "source": [
    "# https://www.postgresql.org/docs/current/textsearch-intro.html#TEXTSEARCH-DOCUMENT"
   ]
  },
  {
   "cell_type": "code",
   "execution_count": null,
   "id": "e1e47755-7f7b-4bae-b0f1-3b3a7c29b0ce",
   "metadata": {},
   "outputs": [],
   "source": []
  },
  {
   "cell_type": "code",
   "execution_count": null,
   "id": "8e468733-c07e-4d9b-b1f9-d2133b86c359",
   "metadata": {},
   "outputs": [],
   "source": [
    "from sqlalchemy import func, select\n",
    "from sqlalchemy.orm import Session\n",
    "from contextlib import contextmanager\n",
    "from dataclasses import dataclass\n",
    "\n",
    "@dataclass\n",
    "class Lock:\n",
    "    locked: bool\n",
    "    lock_key: int\n",
    "\n",
    "\n",
    "@contextmanager\n",
    "def advisory_lock(session: Session, lock_value: str, commit: bool = True):\n",
    "    \"\"\"\n",
    "    Context manager that acquires a PostgreSQL advisory lock using a hash of the lock_value\n",
    "    upon entering and releases it upon exiting, using SQLAlchemy's syntax.\n",
    "    \n",
    "    Args:\n",
    "        session (Session): SQLAlchemy session to interact with the database.\n",
    "        lock_value (str): The value (string) to hash and generate the lock key.\n",
    "    \n",
    "    Usage:\n",
    "        with advisory_lock(session, \"some_unique_value\"):\n",
    "            # Critical section where the lock is held\n",
    "    \"\"\"\n",
    "    try:\n",
    "        # Acquire the advisory lock using hashtext and pg_advisory_xact_lock in a single call\n",
    "        lock_key_query = select(func.hashtext(lock_value))\n",
    "        lock_key = session.execute(lock_key_query).scalar()\n",
    "        \n",
    "        lock = session.execute(\n",
    "            select(func.pg_try_advisory_xact_lock(lock_key))\n",
    "        ).first()[0]\n",
    "        # Yield control back to the caller inside the context\n",
    "        yield Lock(locked=not lock, lock_key=lock_key)\n",
    "    finally:\n",
    "        # The lock is automatically released when the transaction ends (no explicit release needed)\n",
    "        if commit:\n",
    "            session.commit()"
   ]
  },
  {
   "cell_type": "code",
   "execution_count": null,
   "id": "f3543b3d-b6e7-48d6-b79d-8ff55be6829c",
   "metadata": {},
   "outputs": [],
   "source": [
    "from sqlalchemy.orm import sessionmaker\n",
    "import time\n",
    "\n",
    "Session = sessionmaker(autocommit=False, autoflush=False, bind=engine)\n",
    "\n",
    "lock_value = \"some_unique_string_value\"  # This string will be hashed to generate the lock key\n",
    "\n",
    "with Session() as session:\n",
    "    with advisory_lock(session, lock_value, commit=True) as lock:\n",
    "        if lock.locked:\n",
    "            print(\"Skip because locked\")\n",
    "        else:\n",
    "            # Critical section where the advisory lock is held\n",
    "            # Perform operations that need the lock\n",
    "            session.execute(text('select 1'))\n",
    "            time.sleep(30)\n",
    "            print(lock.locked, lock.lock_key)\n"
   ]
  },
  {
   "cell_type": "code",
   "execution_count": null,
   "id": "e2ad39d4-4734-4010-ba51-6a7dc79d5241",
   "metadata": {},
   "outputs": [],
   "source": []
  },
  {
   "cell_type": "code",
   "execution_count": null,
   "id": "62a0ff94-419f-4052-933f-0e5982eb0ab4",
   "metadata": {},
   "outputs": [],
   "source": []
  }
 ],
 "metadata": {
  "kernelspec": {
   "display_name": "Python 3 (ipykernel)",
   "language": "python",
   "name": "python3"
  },
  "language_info": {
   "codemirror_mode": {
    "name": "ipython",
    "version": 3
   },
   "file_extension": ".py",
   "mimetype": "text/x-python",
   "name": "python",
   "nbconvert_exporter": "python",
   "pygments_lexer": "ipython3",
   "version": "3.12.6"
  }
 },
 "nbformat": 4,
 "nbformat_minor": 5
}
