{
 "cells": [
  {
   "cell_type": "code",
   "execution_count": 1,
   "id": "0182989d-aef8-4eec-b052-4ba7ba279073",
   "metadata": {},
   "outputs": [],
   "source": [
    "import os\n",
    "import sqlalchemy\n",
    "from sqlalchemy import create_engine\n",
    "from sqlalchemy.orm import declarative_base\n",
    "from sqlalchemy import Column, Integer, String, DateTime, func, cast, text, select\n",
    "from sqlalchemy.dialects import postgresql\n",
    "from sqlalchemy.dialects.postgresql import JSONB\n",
    "from sqlalchemy.orm import Session, sessionmaker"
   ]
  },
  {
   "cell_type": "code",
   "execution_count": 2,
   "id": "9f56c5c1-f811-4882-889d-4ae5190ed819",
   "metadata": {},
   "outputs": [],
   "source": [
    "def render_query(query):\n",
    "    \"\"\"\n",
    "    Takes a SQLAlchemy query object and returns the fully rendered SQL query\n",
    "    with all the arguments (bind parameters) inserted.\n",
    "    \n",
    "    Args:\n",
    "        query: SQLAlchemy query object to render.\n",
    "        \n",
    "    Returns:\n",
    "        str: Fully rendered SQL query as a string.\n",
    "    \"\"\"\n",
    "    return str(query.compile(dialect=postgresql.dialect(), compile_kwargs={\"literal_binds\": True}))"
   ]
  },
  {
   "cell_type": "markdown",
   "id": "8741b391-568b-4211-ad1a-960ea924885c",
   "metadata": {},
   "source": [
    "## Create a Normal Table"
   ]
  },
  {
   "cell_type": "markdown",
   "id": "db18a584-cef4-429a-b3e0-5178356c46d8",
   "metadata": {},
   "source": [
    "### Create a db Engine"
   ]
  },
  {
   "cell_type": "code",
   "execution_count": 3,
   "id": "75ef0aa0-cd7d-4514-b5a5-c54e0a5c3d26",
   "metadata": {},
   "outputs": [
    {
     "data": {
      "text/plain": [
       "Engine(postgresql+psycopg://admin:***@db:5432/db)"
      ]
     },
     "execution_count": 3,
     "metadata": {},
     "output_type": "execute_result"
    }
   ],
   "source": [
    "database_url = os.environ.get(\"DATABASE_URL\")\n",
    "engine = create_engine(\n",
    "    database_url, \n",
    "    # echo=True,\n",
    ")\n",
    "engine"
   ]
  },
  {
   "cell_type": "markdown",
   "id": "e4ec500e-ef72-42d2-8fb0-689c7709e863",
   "metadata": {},
   "source": [
    "### Define a Table"
   ]
  },
  {
   "cell_type": "code",
   "execution_count": 4,
   "id": "2adc9365-e321-4f85-9eff-7f4408fb66de",
   "metadata": {},
   "outputs": [],
   "source": [
    "from sqlalchemy.orm import declarative_base\n",
    "Base = declarative_base()\n",
    "\n",
    "class Listing(Base):\n",
    "    __tablename__ = 'listings'\n",
    "    \n",
    "    id = Column(Integer, primary_key=True)\n",
    "    name = Column(String, unique=True)\n",
    "    created_at = Column(DateTime, default=func.now())\n",
    "    updated_at = Column(DateTime, default=func.now(), onupdate=func.now())\n",
    "    \n",
    "    def __repr__(self):\n",
    "        return f\"<Listing(id='{self.id}' name='{self.name}')>\"\n",
    "\n",
    "\n",
    "Listing.__table__.drop(engine, checkfirst=True)\n",
    "Base.metadata.create_all(engine)"
   ]
  },
  {
   "cell_type": "markdown",
   "id": "af158d19-ae88-4301-9d15-c1dc58b6d337",
   "metadata": {},
   "source": [
    "### Add Some Records"
   ]
  },
  {
   "cell_type": "code",
   "execution_count": 5,
   "id": "a05648d2-67e6-41f8-bc7d-b4d5a5448777",
   "metadata": {},
   "outputs": [],
   "source": [
    "\n",
    "with Session(engine) as session:\n",
    "    listing = Listing(name=\"home\")\n",
    "    listing2 = Listing(name=\"away\")\n",
    "    session.add_all([\n",
    "        listing, listing2\n",
    "    ])\n",
    "    session.commit()"
   ]
  },
  {
   "cell_type": "markdown",
   "id": "b313dbdc-acf2-42be-bcc2-f4b66df0e212",
   "metadata": {},
   "source": [
    "### Show the db Records"
   ]
  },
  {
   "cell_type": "code",
   "execution_count": 6,
   "id": "edbe812d-991a-4fa4-8df6-6b6a17c3c0b3",
   "metadata": {},
   "outputs": [],
   "source": [
    "%load_ext sql"
   ]
  },
  {
   "cell_type": "code",
   "execution_count": 7,
   "id": "3ecd0e73-7e09-489d-b2b4-c742910c04b7",
   "metadata": {},
   "outputs": [
    {
     "name": "stdout",
     "output_type": "stream",
     "text": [
      "2 rows affected.\n"
     ]
    },
    {
     "data": {
      "text/html": [
       "<table>\n",
       "    <thead>\n",
       "        <tr>\n",
       "            <th>id</th>\n",
       "            <th>name</th>\n",
       "            <th>created_at</th>\n",
       "            <th>updated_at</th>\n",
       "        </tr>\n",
       "    </thead>\n",
       "    <tbody>\n",
       "        <tr>\n",
       "            <td>1</td>\n",
       "            <td>home</td>\n",
       "            <td>2024-10-03 05:46:32.034380</td>\n",
       "            <td>2024-10-03 05:46:32.034380</td>\n",
       "        </tr>\n",
       "        <tr>\n",
       "            <td>2</td>\n",
       "            <td>away</td>\n",
       "            <td>2024-10-03 05:46:32.034380</td>\n",
       "            <td>2024-10-03 05:46:32.034380</td>\n",
       "        </tr>\n",
       "    </tbody>\n",
       "</table>"
      ],
      "text/plain": [
       "[(1, 'home', datetime.datetime(2024, 10, 3, 5, 46, 32, 34380), datetime.datetime(2024, 10, 3, 5, 46, 32, 34380)),\n",
       " (2, 'away', datetime.datetime(2024, 10, 3, 5, 46, 32, 34380), datetime.datetime(2024, 10, 3, 5, 46, 32, 34380))]"
      ]
     },
     "execution_count": 7,
     "metadata": {},
     "output_type": "execute_result"
    }
   ],
   "source": [
    "%%sql $DB_URL\n",
    "select * from listings;"
   ]
  },
  {
   "cell_type": "code",
   "execution_count": null,
   "id": "e28ae93f-a6ff-4d3c-9d78-18cd90a1e75f",
   "metadata": {},
   "outputs": [],
   "source": []
  },
  {
   "cell_type": "code",
   "execution_count": null,
   "id": "4fec841b-c384-4f7d-9611-a92e6565981a",
   "metadata": {},
   "outputs": [],
   "source": []
  },
  {
   "cell_type": "markdown",
   "id": "c5c36d2d-a1b8-4618-9afd-f4d9660d96bb",
   "metadata": {},
   "source": [
    "## Create Table with JSONB"
   ]
  },
  {
   "cell_type": "markdown",
   "id": "63a2bff8-0e92-487c-b09e-ed583074c3ba",
   "metadata": {},
   "source": [
    "### Define a Table"
   ]
  },
  {
   "cell_type": "code",
   "execution_count": 8,
   "id": "84a1868e-496e-449c-8c2f-bad86d2dccab",
   "metadata": {},
   "outputs": [],
   "source": [
    "Base = declarative_base()\n",
    "\n",
    "class Listing(Base):\n",
    "    __tablename__ = 'listings'\n",
    "    \n",
    "    id = Column(Integer, primary_key=True)\n",
    "    name = Column(String, unique=True)\n",
    "    rooms = Column(JSONB)\n",
    "    created_at = Column(DateTime, default=func.now())\n",
    "    updated_at = Column(DateTime, default=func.now(), onupdate=func.now())\n",
    "    \n",
    "    def __repr__(self):\n",
    "        return f\"<Listing(id='{self.id}' name='{self.name}')>\"\n",
    "\n",
    "\n",
    "Listing.__table__.drop(engine, checkfirst=True)\n",
    "Base.metadata.create_all(engine)"
   ]
  },
  {
   "cell_type": "markdown",
   "id": "dfdca473-49e9-4c7c-9859-4fbe33279d48",
   "metadata": {},
   "source": [
    "### Add Some Records"
   ]
  },
  {
   "cell_type": "code",
   "execution_count": 9,
   "id": "c1f0f5e5-023c-4769-b7be-57a454c57a9d",
   "metadata": {},
   "outputs": [],
   "source": [
    "from sqlalchemy.orm import Session\n",
    "with Session(engine) as session:\n",
    "    session.add_all([\n",
    "        Listing(name=\"home\", rooms={\n",
    "            \"kitchen\": {\"color\": \"blue\"},\n",
    "        }), \n",
    "        Listing(name=\"away\", rooms={\n",
    "            \"bedroom\": {\"color\": \"yellow\"},\n",
    "            \"kitchen\": {\"color\": \"yellow\"},\n",
    "        }), \n",
    "        Listing(name=\"far\", rooms={\n",
    "            \"bedroom\": {\"color\": \"blue\"},\n",
    "            \"basement\": {\"color\": \"green\"},\n",
    "        }), \n",
    "        Listing(name=\"city\", rooms={\n",
    "            \"basement\": {\"color\": \"green\"},\n",
    "            \"bedroom\": {\"color\": \"green\"},\n",
    "        }),\n",
    "        Listing(name=\"country\", rooms={\n",
    "            \"basement\": {\"color\": \"green\"},\n",
    "        }),\n",
    "    ])\n",
    "    session.commit()"
   ]
  },
  {
   "cell_type": "markdown",
   "id": "627f5639-564d-4677-9636-8431910b0773",
   "metadata": {},
   "source": [
    "### Show the db Records"
   ]
  },
  {
   "cell_type": "code",
   "execution_count": 10,
   "id": "6c8e1f02-a345-4f2d-8404-8a4522b19fbc",
   "metadata": {},
   "outputs": [
    {
     "name": "stdout",
     "output_type": "stream",
     "text": [
      "5 rows affected.\n"
     ]
    },
    {
     "data": {
      "text/html": [
       "<table>\n",
       "    <thead>\n",
       "        <tr>\n",
       "            <th>id</th>\n",
       "            <th>name</th>\n",
       "            <th>rooms</th>\n",
       "            <th>created_at</th>\n",
       "            <th>updated_at</th>\n",
       "        </tr>\n",
       "    </thead>\n",
       "    <tbody>\n",
       "        <tr>\n",
       "            <td>1</td>\n",
       "            <td>home</td>\n",
       "            <td>{&#x27;kitchen&#x27;: {&#x27;color&#x27;: &#x27;blue&#x27;}}</td>\n",
       "            <td>2024-10-03 05:46:33.888458</td>\n",
       "            <td>2024-10-03 05:46:33.888458</td>\n",
       "        </tr>\n",
       "        <tr>\n",
       "            <td>2</td>\n",
       "            <td>away</td>\n",
       "            <td>{&#x27;bedroom&#x27;: {&#x27;color&#x27;: &#x27;yellow&#x27;}, &#x27;kitchen&#x27;: {&#x27;color&#x27;: &#x27;yellow&#x27;}}</td>\n",
       "            <td>2024-10-03 05:46:33.888458</td>\n",
       "            <td>2024-10-03 05:46:33.888458</td>\n",
       "        </tr>\n",
       "        <tr>\n",
       "            <td>3</td>\n",
       "            <td>far</td>\n",
       "            <td>{&#x27;bedroom&#x27;: {&#x27;color&#x27;: &#x27;blue&#x27;}, &#x27;basement&#x27;: {&#x27;color&#x27;: &#x27;green&#x27;}}</td>\n",
       "            <td>2024-10-03 05:46:33.888458</td>\n",
       "            <td>2024-10-03 05:46:33.888458</td>\n",
       "        </tr>\n",
       "        <tr>\n",
       "            <td>4</td>\n",
       "            <td>city</td>\n",
       "            <td>{&#x27;bedroom&#x27;: {&#x27;color&#x27;: &#x27;green&#x27;}, &#x27;basement&#x27;: {&#x27;color&#x27;: &#x27;green&#x27;}}</td>\n",
       "            <td>2024-10-03 05:46:33.888458</td>\n",
       "            <td>2024-10-03 05:46:33.888458</td>\n",
       "        </tr>\n",
       "        <tr>\n",
       "            <td>5</td>\n",
       "            <td>country</td>\n",
       "            <td>{&#x27;basement&#x27;: {&#x27;color&#x27;: &#x27;green&#x27;}}</td>\n",
       "            <td>2024-10-03 05:46:33.888458</td>\n",
       "            <td>2024-10-03 05:46:33.888458</td>\n",
       "        </tr>\n",
       "    </tbody>\n",
       "</table>"
      ],
      "text/plain": [
       "[(1, 'home', {'kitchen': {'color': 'blue'}}, datetime.datetime(2024, 10, 3, 5, 46, 33, 888458), datetime.datetime(2024, 10, 3, 5, 46, 33, 888458)),\n",
       " (2, 'away', {'bedroom': {'color': 'yellow'}, 'kitchen': {'color': 'yellow'}}, datetime.datetime(2024, 10, 3, 5, 46, 33, 888458), datetime.datetime(2024, 10, 3, 5, 46, 33, 888458)),\n",
       " (3, 'far', {'bedroom': {'color': 'blue'}, 'basement': {'color': 'green'}}, datetime.datetime(2024, 10, 3, 5, 46, 33, 888458), datetime.datetime(2024, 10, 3, 5, 46, 33, 888458)),\n",
       " (4, 'city', {'bedroom': {'color': 'green'}, 'basement': {'color': 'green'}}, datetime.datetime(2024, 10, 3, 5, 46, 33, 888458), datetime.datetime(2024, 10, 3, 5, 46, 33, 888458)),\n",
       " (5, 'country', {'basement': {'color': 'green'}}, datetime.datetime(2024, 10, 3, 5, 46, 33, 888458), datetime.datetime(2024, 10, 3, 5, 46, 33, 888458))]"
      ]
     },
     "execution_count": 10,
     "metadata": {},
     "output_type": "execute_result"
    }
   ],
   "source": [
    "%%sql $DB_URL\n",
    "select * from listings;"
   ]
  },
  {
   "cell_type": "code",
   "execution_count": null,
   "id": "e7dfc537-6b95-42f3-ae92-a3ef71826c2d",
   "metadata": {},
   "outputs": [],
   "source": []
  },
  {
   "cell_type": "markdown",
   "id": "2eeda8cd-7545-4d7e-9fbf-87cd65b36f26",
   "metadata": {},
   "source": [
    "### Filter `bedroom.color == yellow`"
   ]
  },
  {
   "cell_type": "code",
   "execution_count": 11,
   "id": "9cf582bb-1404-4be8-83fc-7eeb05fd9769",
   "metadata": {},
   "outputs": [
    {
     "name": "stdout",
     "output_type": "stream",
     "text": [
      "QUERY:::  SELECT listings.id, listings.name, listings.rooms, listings.created_at, listings.updated_at \n",
      "FROM listings \n",
      "WHERE (((listings.rooms -> 'bedroom')) ->> 'color') = 'yellow'\n",
      "RESULT:::  [<Listing(id='2' name='away')>]\n"
     ]
    }
   ],
   "source": [
    "query = select(Listing).filter(\n",
    "    Listing.rooms['bedroom'][\"color\"].astext == \"yellow\",\n",
    ")\n",
    "print(\"QUERY::: \", render_query(query))\n",
    "from sqlalchemy.orm import Session\n",
    "with Session(engine) as session:\n",
    "    res = session.scalars(query)\n",
    "    print(\"RESULT::: \", list(res))"
   ]
  },
  {
   "cell_type": "markdown",
   "id": "e72c75ee-db6f-4f53-aafc-c246fcd6149c",
   "metadata": {},
   "source": [
    "### Filter `bedroom.color == yellow`"
   ]
  },
  {
   "cell_type": "code",
   "execution_count": 12,
   "id": "406c43c5-baee-44af-8f09-a4e1ba623ad2",
   "metadata": {},
   "outputs": [
    {
     "name": "stdout",
     "output_type": "stream",
     "text": [
      "QUERY:::  SELECT listings.id, listings.name, listings.rooms, listings.created_at, listings.updated_at \n",
      "FROM listings \n",
      "WHERE listings.rooms[:rooms_1] = :param_1\n",
      "RESULT:::  [<Listing(id='2' name='away')>]\n"
     ]
    }
   ],
   "source": [
    "query = select(Listing).filter(\n",
    "    Listing.rooms['bedroom'] == {\"color\": \"yellow\"},\n",
    ")\n",
    "print(\"QUERY::: \", str(query))\n",
    "from sqlalchemy.orm import Session\n",
    "with Session(engine) as session:\n",
    "    res = session.scalars(query)\n",
    "    print(\"RESULT::: \", list(res))"
   ]
  },
  {
   "cell_type": "markdown",
   "id": "fcf36c15-d90a-4b46-8b83-e567cf93ca6b",
   "metadata": {},
   "source": [
    "### Filter `bedroom is Not Null`"
   ]
  },
  {
   "cell_type": "code",
   "execution_count": 13,
   "id": "ba150863-e619-42f8-a011-0c3e26ab5375",
   "metadata": {},
   "outputs": [
    {
     "name": "stdout",
     "output_type": "stream",
     "text": [
      "QUERY:::  SELECT listings.id, listings.name, listings.rooms, listings.created_at, listings.updated_at \n",
      "FROM listings \n",
      "WHERE jsonb_extract_path_text(listings.rooms, 'bedroom') IS NOT NULL\n",
      "RESULT:::  [<Listing(id='2' name='away')>, <Listing(id='3' name='far')>, <Listing(id='4' name='city')>]\n"
     ]
    }
   ],
   "source": [
    "query = select(Listing).filter(\n",
    "    func.jsonb_extract_path_text(Listing.rooms, 'bedroom').isnot(None)\n",
    ")\n",
    "print(\"QUERY::: \", render_query(query))\n",
    "from sqlalchemy.orm import Session\n",
    "with Session(engine) as session:\n",
    "    res = session.scalars(query)\n",
    "    print(\"RESULT::: \", list(res))"
   ]
  },
  {
   "cell_type": "markdown",
   "id": "d13cb16e-b3b3-4bb4-94e8-fa2b965c5ad9",
   "metadata": {},
   "source": [
    "### Filter `kitchen and bathroom has a color`"
   ]
  },
  {
   "cell_type": "code",
   "execution_count": 14,
   "id": "1cc4b4eb-aaa5-4629-9f61-b3e765996f5f",
   "metadata": {},
   "outputs": [
    {
     "name": "stdout",
     "output_type": "stream",
     "text": [
      "QUERY:::  SELECT listings.id, listings.name, listings.rooms, listings.created_at, listings.updated_at \n",
      "FROM listings \n",
      "WHERE (listings.rooms -> 'kitchen') ? 'color'\n",
      "RESULT:::  [<Listing(id='1' name='home')>, <Listing(id='2' name='away')>]\n"
     ]
    }
   ],
   "source": [
    "query = select(Listing).filter(Listing.rooms.op('->')('kitchen').op('?')('color'))\n",
    "print(\"QUERY::: \", render_query(query))\n",
    "from sqlalchemy.orm import Session\n",
    "with Session(engine) as session:\n",
    "    res = session.scalars(query)\n",
    "    print(\"RESULT::: \", list(res))"
   ]
  },
  {
   "cell_type": "code",
   "execution_count": 15,
   "id": "88453089-d46f-4be1-ad91-8326750e7bbc",
   "metadata": {},
   "outputs": [
    {
     "name": "stdout",
     "output_type": "stream",
     "text": [
      "QUERY:::  SELECT listings.id, listings.name, listings.rooms, listings.created_at, listings.updated_at \n",
      "FROM listings \n",
      "WHERE (listings.rooms -> 'bathroom') ? 'color'\n",
      "RESULT:::  []\n"
     ]
    }
   ],
   "source": [
    "query = select(Listing).filter(Listing.rooms.op('->')('bathroom').op('?')('color'))\n",
    "print(\"QUERY::: \", render_query(query))\n",
    "from sqlalchemy.orm import Session\n",
    "with Session(engine) as session:\n",
    "    res = session.scalars(query)\n",
    "    print(\"RESULT::: \", list(res))"
   ]
  },
  {
   "cell_type": "markdown",
   "id": "eed54371-2812-433d-bdd4-578c73e26a92",
   "metadata": {},
   "source": [
    "### Find all rooms with a green color"
   ]
  },
  {
   "cell_type": "code",
   "execution_count": 16,
   "id": "e6411209-6869-4d14-b385-826ce3954073",
   "metadata": {},
   "outputs": [
    {
     "name": "stdout",
     "output_type": "stream",
     "text": [
      "QUERY:::  SELECT listings.id, listings.name, listings.rooms, listings.created_at, listings.updated_at \n",
      "FROM listings \n",
      "WHERE jsonb_path_exists(listings.rooms, '$.* ? (@.color == \"green\")'::jsonpath)\n",
      "RESULT:::  [<Listing(id='3' name='far')>, <Listing(id='4' name='city')>, <Listing(id='5' name='country')>]\n"
     ]
    }
   ],
   "source": [
    "query = select(Listing).where(\n",
    "    func.jsonb_path_exists(Listing.rooms, text(\"\"\"'$.* ? (@.color == \"green\")'::jsonpath\"\"\")))\n",
    "print(\"QUERY::: \", render_query(query))\n",
    "with Session(engine) as session:\n",
    "    res = session.scalars(query)\n",
    "    print(\"RESULT::: \", list(res))"
   ]
  },
  {
   "cell_type": "code",
   "execution_count": null,
   "id": "0813cc86-71d8-4735-8b63-42471b4100dd",
   "metadata": {},
   "outputs": [],
   "source": []
  },
  {
   "cell_type": "code",
   "execution_count": null,
   "id": "2b7fdbbf-1c5e-44a0-a47d-eebeb82c2963",
   "metadata": {},
   "outputs": [],
   "source": []
  },
  {
   "cell_type": "code",
   "execution_count": null,
   "id": "9e9dbc60-961a-46bf-8846-273d8a5aff63",
   "metadata": {},
   "outputs": [],
   "source": []
  },
  {
   "cell_type": "code",
   "execution_count": null,
   "id": "ea31b016-3caf-4295-962e-992c465effb6",
   "metadata": {},
   "outputs": [],
   "source": []
  },
  {
   "cell_type": "code",
   "execution_count": 17,
   "id": "eef34f06-4e67-4b2b-a013-a96a94f5cdca",
   "metadata": {},
   "outputs": [],
   "source": [
    "# https://www.postgresql.org/docs/9.6/functions-json.html"
   ]
  },
  {
   "cell_type": "code",
   "execution_count": 18,
   "id": "be4d2d85-e451-4277-87e1-ecc4971ecd44",
   "metadata": {},
   "outputs": [],
   "source": [
    "# https://github.com/json-path/JsonPath"
   ]
  },
  {
   "cell_type": "code",
   "execution_count": null,
   "id": "b43185d3-4b65-4d8a-87df-2867d3b8bd48",
   "metadata": {},
   "outputs": [],
   "source": []
  },
  {
   "cell_type": "code",
   "execution_count": null,
   "id": "1b5cbab0-425c-4f7f-bc25-304479007623",
   "metadata": {},
   "outputs": [],
   "source": []
  },
  {
   "cell_type": "code",
   "execution_count": null,
   "id": "123f39cc-8eb4-4ad4-8284-a58fe1d9ab75",
   "metadata": {},
   "outputs": [],
   "source": []
  },
  {
   "cell_type": "code",
   "execution_count": null,
   "id": "e1e47755-7f7b-4bae-b0f1-3b3a7c29b0ce",
   "metadata": {},
   "outputs": [],
   "source": []
  },
  {
   "cell_type": "code",
   "execution_count": 19,
   "id": "8e468733-c07e-4d9b-b1f9-d2133b86c359",
   "metadata": {},
   "outputs": [],
   "source": [
    "from sqlalchemy import func, select\n",
    "from sqlalchemy.orm import Session\n",
    "from contextlib import contextmanager\n",
    "from dataclasses import dataclass\n",
    "\n",
    "@dataclass\n",
    "class Lock:\n",
    "    locked: bool\n",
    "    lock_key: int\n",
    "\n",
    "\n",
    "@contextmanager\n",
    "def advisory_lock(session: Session, lock_value: str, commit: bool = True):\n",
    "    \"\"\"\n",
    "    Context manager that acquires a PostgreSQL advisory lock using a hash of the lock_value\n",
    "    upon entering and releases it upon exiting, using SQLAlchemy's syntax.\n",
    "    \n",
    "    Args:\n",
    "        session (Session): SQLAlchemy session to interact with the database.\n",
    "        lock_value (str): The value (string) to hash and generate the lock key.\n",
    "    \n",
    "    Usage:\n",
    "        with advisory_lock(session, \"some_unique_value\"):\n",
    "            # Critical section where the lock is held\n",
    "    \"\"\"\n",
    "    try:\n",
    "        # Acquire the advisory lock using hashtext and pg_advisory_xact_lock in a single call\n",
    "        lock_key_query = select(func.hashtext(lock_value))\n",
    "        lock_key = session.execute(lock_key_query).scalar()\n",
    "        \n",
    "        lock = session.execute(\n",
    "            select(func.pg_try_advisory_xact_lock(lock_key))\n",
    "        ).first()[0]\n",
    "        # Yield control back to the caller inside the context\n",
    "        yield Lock(locked=not lock, lock_key=lock_key)\n",
    "    finally:\n",
    "        # The lock is automatically released when the transaction ends (no explicit release needed)\n",
    "        if commit:\n",
    "            session.commit()"
   ]
  },
  {
   "cell_type": "code",
   "execution_count": 22,
   "id": "f3543b3d-b6e7-48d6-b79d-8ff55be6829c",
   "metadata": {},
   "outputs": [
    {
     "name": "stdout",
     "output_type": "stream",
     "text": [
      "Skip because locked\n"
     ]
    }
   ],
   "source": [
    "from sqlalchemy.orm import sessionmaker\n",
    "import time\n",
    "\n",
    "Session = sessionmaker(autocommit=False, autoflush=False, bind=engine)\n",
    "\n",
    "lock_value = \"some_unique_string_value\"  # This string will be hashed to generate the lock key\n",
    "\n",
    "with Session() as session:\n",
    "    with advisory_lock(session, lock_value, commit=True) as lock:\n",
    "        if lock.locked:\n",
    "            print(\"Skip because locked\")\n",
    "        else:\n",
    "            # Critical section where the advisory lock is held\n",
    "            # Perform operations that need the lock\n",
    "            session.execute(text('select 1'))\n",
    "            time.sleep(100)\n",
    "            print(lock.locked, lock.lock_key)\n"
   ]
  },
  {
   "cell_type": "code",
   "execution_count": null,
   "id": "e2ad39d4-4734-4010-ba51-6a7dc79d5241",
   "metadata": {},
   "outputs": [],
   "source": []
  },
  {
   "cell_type": "code",
   "execution_count": null,
   "id": "62a0ff94-419f-4052-933f-0e5982eb0ab4",
   "metadata": {},
   "outputs": [],
   "source": []
  }
 ],
 "metadata": {
  "kernelspec": {
   "display_name": "Python 3 (ipykernel)",
   "language": "python",
   "name": "python3"
  },
  "language_info": {
   "codemirror_mode": {
    "name": "ipython",
    "version": 3
   },
   "file_extension": ".py",
   "mimetype": "text/x-python",
   "name": "python",
   "nbconvert_exporter": "python",
   "pygments_lexer": "ipython3",
   "version": "3.12.6"
  }
 },
 "nbformat": 4,
 "nbformat_minor": 5
}
