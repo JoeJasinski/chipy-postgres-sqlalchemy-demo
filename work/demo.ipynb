{
 "cells": [
  {
   "cell_type": "code",
   "execution_count": 1,
   "id": "0182989d-aef8-4eec-b052-4ba7ba279073",
   "metadata": {},
   "outputs": [],
   "source": [
    "import os\n",
    "import datetime\n",
    "from typing import Optional\n",
    "import sqlalchemy\n",
    "from sqlalchemy import create_engine\n",
    "from sqlalchemy.orm import declarative_base, DeclarativeBase, Mapped\n",
    "from sqlalchemy import (\n",
    "    Column, Integer, String, Text, DateTime, func, \n",
    "    cast, literal, text, select, Computed, Index,\n",
    ")\n",
    "from sqlalchemy.dialects import postgresql\n",
    "from sqlalchemy.dialects.postgresql import TSVECTOR, REGCONFIG\n",
    "from sqlalchemy.dialects.postgresql import JSONB\n",
    "from sqlalchemy.orm import Session, sessionmaker"
   ]
  },
  {
   "cell_type": "code",
   "execution_count": 2,
   "id": "9f56c5c1-f811-4882-889d-4ae5190ed819",
   "metadata": {},
   "outputs": [],
   "source": [
    "def render_query(query):\n",
    "    \"\"\"\n",
    "    Takes a SQLAlchemy query object and returns the fully rendered SQL query\n",
    "    with all the arguments (bind parameters) inserted.\n",
    "    \n",
    "    Args:\n",
    "        query: SQLAlchemy query object to render.\n",
    "        \n",
    "    Returns:\n",
    "        str: Fully rendered SQL query as a string.\n",
    "    \"\"\"\n",
    "    return str(query.compile(dialect=postgresql.dialect(), compile_kwargs={\"literal_binds\": True}))"
   ]
  },
  {
   "cell_type": "code",
   "execution_count": 3,
   "id": "f79a3b42-dac6-47de-82b8-6a19b9231c1c",
   "metadata": {},
   "outputs": [],
   "source": [
    "def run_query(engine, query, render=True, scalars=True):\n",
    "    query_string = render_query(query) if render else str(query)\n",
    "    print(\"QUERY::: \\n\", query_string)\n",
    "    with Session(engine) as session:\n",
    "        if scalars:\n",
    "            res = session.scalars(query)\n",
    "        else:\n",
    "            res = session.execute(query)\n",
    "        print(\"\\nRESULT::: \\n\", list(res))\n",
    "        return res, query_string"
   ]
  },
  {
   "cell_type": "markdown",
   "id": "0f978a06-de7e-4abb-a733-3d2d2f865fa6",
   "metadata": {},
   "source": [
    "# Base SQLAlchemy example"
   ]
  },
  {
   "cell_type": "markdown",
   "id": "8741b391-568b-4211-ad1a-960ea924885c",
   "metadata": {},
   "source": [
    "## Create a Normal Table"
   ]
  },
  {
   "cell_type": "markdown",
   "id": "db18a584-cef4-429a-b3e0-5178356c46d8",
   "metadata": {},
   "source": [
    "### Create a db Engine"
   ]
  },
  {
   "cell_type": "code",
   "execution_count": 4,
   "id": "75ef0aa0-cd7d-4514-b5a5-c54e0a5c3d26",
   "metadata": {},
   "outputs": [
    {
     "data": {
      "text/plain": [
       "Engine(postgresql+psycopg://admin:***@db:5432/db)"
      ]
     },
     "execution_count": 4,
     "metadata": {},
     "output_type": "execute_result"
    }
   ],
   "source": [
    "import os\n",
    "from sqlalchemy import create_engine\n",
    "\n",
    "engine = create_engine(\n",
    "    os.environ.get(\"DATABASE_URL\"), \n",
    "    echo=False,\n",
    ")\n",
    "engine"
   ]
  },
  {
   "cell_type": "markdown",
   "id": "e4ec500e-ef72-42d2-8fb0-689c7709e863",
   "metadata": {},
   "source": [
    "### Define a Table"
   ]
  },
  {
   "cell_type": "code",
   "execution_count": 5,
   "id": "2adc9365-e321-4f85-9eff-7f4408fb66de",
   "metadata": {},
   "outputs": [],
   "source": [
    "from sqlalchemy.orm import DeclarativeBase, mapped_column, Mapped\n",
    "from sqlalchemy import Column, Integer, String, Text, DateTime, func\n",
    "\n",
    "class Base(DeclarativeBase):\n",
    "    pass\n",
    "\n",
    "class Listing(Base):\n",
    "    __tablename__ = 'listings'\n",
    "    \n",
    "    id: Mapped[int] = mapped_column(primary_key=True)\n",
    "    name: Mapped[str] = mapped_column(unique=True)\n",
    "    created_at: Mapped[datetime.datetime] = mapped_column(\n",
    "        default=func.now())\n",
    "    updated_at: Mapped[datetime.datetime] = mapped_column(\n",
    "        default=func.now(), onupdate=func.now())\n",
    "    \n",
    "    def __repr__(self):\n",
    "        return f\"<Listing(id='{self.id}' name='{self.name}')>\"\n",
    "\n",
    "\n",
    "Listing.__table__.drop(engine, checkfirst=True)\n",
    "Base.metadata.create_all(engine)"
   ]
  },
  {
   "cell_type": "markdown",
   "id": "af158d19-ae88-4301-9d15-c1dc58b6d337",
   "metadata": {},
   "source": [
    "### Add Some Records"
   ]
  },
  {
   "cell_type": "code",
   "execution_count": 6,
   "id": "a05648d2-67e6-41f8-bc7d-b4d5a5448777",
   "metadata": {},
   "outputs": [],
   "source": [
    "from sqlalchemy.orm import Session\n",
    "\n",
    "with Session(engine) as session:\n",
    "    session.add_all([\n",
    "        Listing(name=\"Addison\"), \n",
    "        Listing(name=\"North\")\n",
    "    ])\n",
    "    session.commit()"
   ]
  },
  {
   "cell_type": "markdown",
   "id": "b313dbdc-acf2-42be-bcc2-f4b66df0e212",
   "metadata": {},
   "source": [
    "### Show the db Records"
   ]
  },
  {
   "cell_type": "code",
   "execution_count": 7,
   "id": "edbe812d-991a-4fa4-8df6-6b6a17c3c0b3",
   "metadata": {},
   "outputs": [],
   "source": [
    "%load_ext sql"
   ]
  },
  {
   "cell_type": "code",
   "execution_count": 8,
   "id": "3ecd0e73-7e09-489d-b2b4-c742910c04b7",
   "metadata": {},
   "outputs": [
    {
     "name": "stdout",
     "output_type": "stream",
     "text": [
      "2 rows affected.\n"
     ]
    },
    {
     "data": {
      "text/html": [
       "<table>\n",
       "    <thead>\n",
       "        <tr>\n",
       "            <th>id</th>\n",
       "            <th>name</th>\n",
       "            <th>created_at</th>\n",
       "            <th>updated_at</th>\n",
       "        </tr>\n",
       "    </thead>\n",
       "    <tbody>\n",
       "        <tr>\n",
       "            <td>1</td>\n",
       "            <td>Addison</td>\n",
       "            <td>2024-10-09 01:29:53.960089</td>\n",
       "            <td>2024-10-09 01:29:53.960089</td>\n",
       "        </tr>\n",
       "        <tr>\n",
       "            <td>2</td>\n",
       "            <td>North</td>\n",
       "            <td>2024-10-09 01:29:53.960089</td>\n",
       "            <td>2024-10-09 01:29:53.960089</td>\n",
       "        </tr>\n",
       "    </tbody>\n",
       "</table>"
      ],
      "text/plain": [
       "[(1, 'Addison', datetime.datetime(2024, 10, 9, 1, 29, 53, 960089), datetime.datetime(2024, 10, 9, 1, 29, 53, 960089)),\n",
       " (2, 'North', datetime.datetime(2024, 10, 9, 1, 29, 53, 960089), datetime.datetime(2024, 10, 9, 1, 29, 53, 960089))]"
      ]
     },
     "execution_count": 8,
     "metadata": {},
     "output_type": "execute_result"
    }
   ],
   "source": [
    "%%sql $DB_URL\n",
    "select * from listings;"
   ]
  },
  {
   "cell_type": "raw",
   "id": "074edd85-7d78-4215-af52-bb79bc3d370a",
   "metadata": {},
   "source": []
  },
  {
   "cell_type": "markdown",
   "id": "9302c42a-e739-4549-adc5-2c34061564a2",
   "metadata": {},
   "source": [
    "### Query using sqlalchemy"
   ]
  },
  {
   "cell_type": "code",
   "execution_count": 9,
   "id": "cc0e1448-0172-4243-bae6-3240ab1514ee",
   "metadata": {},
   "outputs": [
    {
     "name": "stdout",
     "output_type": "stream",
     "text": [
      "QUERY::: \n",
      " SELECT listings.id, listings.name, listings.created_at, listings.updated_at \n",
      "FROM listings\n",
      "\n",
      "RESULT::: \n",
      " [<Listing(id='1' name='Addison')>, <Listing(id='2' name='North')>]\n"
     ]
    }
   ],
   "source": [
    "from sqlalchemy import select\n",
    "\n",
    "query = select(Listing)\n",
    "\n",
    "_, query_string = run_query(engine, query)"
   ]
  },
  {
   "cell_type": "raw",
   "id": "75e08b45-f6f5-499e-ba14-d02c6544fd6a",
   "metadata": {},
   "source": []
  },
  {
   "cell_type": "code",
   "execution_count": 10,
   "id": "6cecc135-334e-43a1-a6d4-5d0a0999b457",
   "metadata": {},
   "outputs": [
    {
     "name": "stdout",
     "output_type": "stream",
     "text": [
      "QUERY::: \n",
      " SELECT listings.id, listings.name \n",
      "FROM listings\n",
      "\n",
      "RESULT::: \n",
      " [(1, 'Addison'), (2, 'North')]\n"
     ]
    }
   ],
   "source": [
    "from sqlalchemy import select\n",
    "\n",
    "query = select(Listing.id, Listing.name)\n",
    "\n",
    "_, query_string = run_query(engine, query, scalars=False)"
   ]
  },
  {
   "cell_type": "raw",
   "id": "d06017d1-720b-4de7-8494-47cd2ffc91fa",
   "metadata": {},
   "source": []
  },
  {
   "cell_type": "code",
   "execution_count": 11,
   "id": "4b94dfe6-292a-41d2-a8a7-f6960d7f177f",
   "metadata": {},
   "outputs": [
    {
     "name": "stdout",
     "output_type": "stream",
     "text": [
      "QUERY::: \n",
      " SELECT listings.id, listings.name \n",
      "FROM listings \n",
      "WHERE listings.name = 'Addison'\n",
      "\n",
      "RESULT::: \n",
      " [(1, 'Addison')]\n"
     ]
    }
   ],
   "source": [
    "from sqlalchemy import select\n",
    "\n",
    "query = select(Listing.id, Listing.name).filter(Listing.name == \"Addison\")\n",
    "\n",
    "_, query_string = run_query(engine, query, scalars=False)"
   ]
  },
  {
   "cell_type": "raw",
   "id": "f7b01a82-722b-40d0-bcab-d4cfb492c7f6",
   "metadata": {},
   "source": [
    "\n",
    "\n",
    "\n",
    "\n",
    "\n",
    "\n",
    "\n",
    "\n",
    "\n",
    "\n",
    "\n",
    "\n",
    "\n",
    "\n",
    "\n",
    "\n",
    "\n",
    "\n",
    "\n",
    "\n",
    "\n",
    "\n"
   ]
  },
  {
   "cell_type": "markdown",
   "id": "dc72c7fa-53c6-44af-b8de-648f2700a9ef",
   "metadata": {},
   "source": [
    "# JSONB Example"
   ]
  },
  {
   "cell_type": "markdown",
   "id": "eb1d6be8-4e6e-40ca-94bb-4b76a08bd2d7",
   "metadata": {},
   "source": [
    "## Create Table with JSONB"
   ]
  },
  {
   "cell_type": "markdown",
   "id": "63a2bff8-0e92-487c-b09e-ed583074c3ba",
   "metadata": {},
   "source": [
    "### Define a Table with JSONB field"
   ]
  },
  {
   "cell_type": "code",
   "execution_count": 12,
   "id": "84a1868e-496e-449c-8c2f-bad86d2dccab",
   "metadata": {},
   "outputs": [],
   "source": [
    "from sqlalchemy.orm import mapped_column, Mapped, DeclarativeBase\n",
    "from sqlalchemy import Column, Integer, String, Text, DateTime, func\n",
    "from sqlalchemy.dialects.postgresql import JSONB\n",
    "\n",
    "class Base(DeclarativeBase):\n",
    "    pass\n",
    "\n",
    "class Listing(Base):\n",
    "    __tablename__ = 'listings'\n",
    "    \n",
    "    id: Mapped[int] = mapped_column(primary_key=True)\n",
    "    name: Mapped[str] = mapped_column(unique=True)\n",
    "    rooms: Mapped[JSONB] = mapped_column(type_=JSONB)\n",
    "    created_at: Mapped[datetime.datetime] = mapped_column(\n",
    "        default=func.now())\n",
    "    updated_at: Mapped[datetime.datetime] = mapped_column(\n",
    "        default=func.now(), onupdate=func.now())\n",
    "    \n",
    "    def __repr__(self):\n",
    "        return f\"<Listing(id='{self.id}' name='{self.name}')>\"\n",
    "\n",
    "\n",
    "Listing.__table__.drop(engine, checkfirst=True)\n",
    "Base.metadata.create_all(engine)"
   ]
  },
  {
   "cell_type": "markdown",
   "id": "dfdca473-49e9-4c7c-9859-4fbe33279d48",
   "metadata": {},
   "source": [
    "### Add Some Records"
   ]
  },
  {
   "cell_type": "code",
   "execution_count": 13,
   "id": "c1f0f5e5-023c-4769-b7be-57a454c57a9d",
   "metadata": {},
   "outputs": [],
   "source": [
    "from sqlalchemy.orm import Session\n",
    "with Session(engine) as session:\n",
    "    session.add_all([\n",
    "        Listing(name=\"Irving\", rooms={\n",
    "            \"kitchen\": {\"color\": \"blue\"},\n",
    "            \"bathroom\": {\"color\": \"green\"},\n",
    "        }), \n",
    "        Listing(name=\"Diversey\", rooms={\n",
    "            \"bedroom\": {\"color\": \"yellow\"},\n",
    "            \"bathroom\": {\"color\": \"yellow\"},\n",
    "            \"kitchen\": {\"color\": \"yellow\"},\n",
    "        }), \n",
    "        Listing(name=\"Main\", rooms={\n",
    "            \"bedroom\": {\"color\": \"blue\"},\n",
    "            \"bathroom\": {\"color\": \"green\"},\n",
    "            \"basement\": {\"color\": \"green\"},\n",
    "        }), \n",
    "        Listing(name=\"vacant\", rooms={\n",
    "            \"bathroom\": None,\n",
    "            \"bedroom\": {\"color\": \"red\"},\n",
    "            \"basement\": {\"color\": \"green\"},\n",
    "        }), \n",
    "        Listing(name=\"Addison\", rooms={\n",
    "            \"basement\": {\"color\": \"green\"},\n",
    "            \"bedroom\": {\"color\": \"green\"},\n",
    "            \"bathroom\": {\"color\": \"green\"},\n",
    "        }),\n",
    "        Listing(name=\"North\", rooms={\n",
    "            \"basement\": {\"color\": \"green\"},\n",
    "        }),\n",
    "    ])\n",
    "    session.commit()"
   ]
  },
  {
   "cell_type": "markdown",
   "id": "627f5639-564d-4677-9636-8431910b0773",
   "metadata": {},
   "source": [
    "### Show the db Records"
   ]
  },
  {
   "cell_type": "code",
   "execution_count": 14,
   "id": "6c8e1f02-a345-4f2d-8404-8a4522b19fbc",
   "metadata": {},
   "outputs": [
    {
     "name": "stdout",
     "output_type": "stream",
     "text": [
      "6 rows affected.\n"
     ]
    },
    {
     "data": {
      "text/html": [
       "<table>\n",
       "    <thead>\n",
       "        <tr>\n",
       "            <th>id</th>\n",
       "            <th>name</th>\n",
       "            <th>rooms</th>\n",
       "        </tr>\n",
       "    </thead>\n",
       "    <tbody>\n",
       "        <tr>\n",
       "            <td>1</td>\n",
       "            <td>Irving</td>\n",
       "            <td>{&#x27;kitchen&#x27;: {&#x27;color&#x27;: &#x27;blue&#x27;}, &#x27;bathroom&#x27;: {&#x27;color&#x27;: &#x27;green&#x27;}}</td>\n",
       "        </tr>\n",
       "        <tr>\n",
       "            <td>2</td>\n",
       "            <td>Diversey</td>\n",
       "            <td>{&#x27;bedroom&#x27;: {&#x27;color&#x27;: &#x27;yellow&#x27;}, &#x27;kitchen&#x27;: {&#x27;color&#x27;: &#x27;yellow&#x27;}, &#x27;bathroom&#x27;: {&#x27;color&#x27;: &#x27;yellow&#x27;}}</td>\n",
       "        </tr>\n",
       "        <tr>\n",
       "            <td>3</td>\n",
       "            <td>Main</td>\n",
       "            <td>{&#x27;bedroom&#x27;: {&#x27;color&#x27;: &#x27;blue&#x27;}, &#x27;basement&#x27;: {&#x27;color&#x27;: &#x27;green&#x27;}, &#x27;bathroom&#x27;: {&#x27;color&#x27;: &#x27;green&#x27;}}</td>\n",
       "        </tr>\n",
       "        <tr>\n",
       "            <td>4</td>\n",
       "            <td>vacant</td>\n",
       "            <td>{&#x27;bedroom&#x27;: {&#x27;color&#x27;: &#x27;red&#x27;}, &#x27;basement&#x27;: {&#x27;color&#x27;: &#x27;green&#x27;}, &#x27;bathroom&#x27;: None}</td>\n",
       "        </tr>\n",
       "        <tr>\n",
       "            <td>5</td>\n",
       "            <td>Addison</td>\n",
       "            <td>{&#x27;bedroom&#x27;: {&#x27;color&#x27;: &#x27;green&#x27;}, &#x27;basement&#x27;: {&#x27;color&#x27;: &#x27;green&#x27;}, &#x27;bathroom&#x27;: {&#x27;color&#x27;: &#x27;green&#x27;}}</td>\n",
       "        </tr>\n",
       "        <tr>\n",
       "            <td>6</td>\n",
       "            <td>North</td>\n",
       "            <td>{&#x27;basement&#x27;: {&#x27;color&#x27;: &#x27;green&#x27;}}</td>\n",
       "        </tr>\n",
       "    </tbody>\n",
       "</table>"
      ],
      "text/plain": [
       "[(1, 'Irving', {'kitchen': {'color': 'blue'}, 'bathroom': {'color': 'green'}}),\n",
       " (2, 'Diversey', {'bedroom': {'color': 'yellow'}, 'kitchen': {'color': 'yellow'}, 'bathroom': {'color': 'yellow'}}),\n",
       " (3, 'Main', {'bedroom': {'color': 'blue'}, 'basement': {'color': 'green'}, 'bathroom': {'color': 'green'}}),\n",
       " (4, 'vacant', {'bedroom': {'color': 'red'}, 'basement': {'color': 'green'}, 'bathroom': None}),\n",
       " (5, 'Addison', {'bedroom': {'color': 'green'}, 'basement': {'color': 'green'}, 'bathroom': {'color': 'green'}}),\n",
       " (6, 'North', {'basement': {'color': 'green'}})]"
      ]
     },
     "execution_count": 14,
     "metadata": {},
     "output_type": "execute_result"
    }
   ],
   "source": [
    "%%sql $DB_URL\n",
    "select id,name,rooms from listings;"
   ]
  },
  {
   "cell_type": "raw",
   "id": "e50d9fbd-280c-4493-bb94-84654fe5251f",
   "metadata": {},
   "source": []
  },
  {
   "cell_type": "markdown",
   "id": "4c778735-1c51-436b-8ffe-e92b82e0e63f",
   "metadata": {},
   "source": [
    "### Filter listings with bathroom"
   ]
  },
  {
   "cell_type": "code",
   "execution_count": 15,
   "id": "6e2d4b7d-68a4-4cbe-a78a-54356b2d1588",
   "metadata": {},
   "outputs": [
    {
     "name": "stdout",
     "output_type": "stream",
     "text": [
      "QUERY::: \n",
      " SELECT listings.id, listings.name, listings.rooms, listings.created_at, listings.updated_at \n",
      "FROM listings \n",
      "WHERE listings.rooms ? 'bathroom'\n",
      "\n",
      "RESULT::: \n",
      " [<Listing(id='1' name='Irving')>, <Listing(id='2' name='Diversey')>, <Listing(id='3' name='Main')>, <Listing(id='4' name='vacant')>, <Listing(id='5' name='Addison')>]\n"
     ]
    }
   ],
   "source": [
    "from sqlalchemy import select\n",
    "\n",
    "query = select(Listing).filter(\n",
    "    Listing.rooms.has_key('bathroom'))\n",
    "\n",
    "_ = run_query(engine, query, render=True)"
   ]
  },
  {
   "cell_type": "raw",
   "id": "3477ac8f-3404-4f45-84ce-7b619a8e173d",
   "metadata": {},
   "source": []
  },
  {
   "cell_type": "code",
   "execution_count": 16,
   "id": "13c80521-fbbe-4a68-a6ca-126c8f29dad0",
   "metadata": {},
   "outputs": [
    {
     "name": "stdout",
     "output_type": "stream",
     "text": [
      "QUERY::: \n",
      " SELECT listings.id, listings.name, listings.rooms, listings.created_at, listings.updated_at \n",
      "FROM listings \n",
      "WHERE listings.rooms ? 'bedroom'\n",
      "\n",
      "RESULT::: \n",
      " [<Listing(id='2' name='Diversey')>, <Listing(id='3' name='Main')>, <Listing(id='4' name='vacant')>, <Listing(id='5' name='Addison')>]\n"
     ]
    }
   ],
   "source": [
    "from sqlalchemy import select\n",
    "\n",
    "query = select(Listing).filter(\n",
    "    Listing.rooms.op('?')('bedroom'))\n",
    "\n",
    "_ = run_query(engine, query, render=True)"
   ]
  },
  {
   "cell_type": "raw",
   "id": "b1e3b6d3-d0f3-44d7-afd0-7056c695c820",
   "metadata": {},
   "source": []
  },
  {
   "cell_type": "code",
   "execution_count": 17,
   "id": "c1dc10a2-634f-44c7-8964-7daffabd2084",
   "metadata": {},
   "outputs": [
    {
     "name": "stdout",
     "output_type": "stream",
     "text": [
      "4 rows affected.\n"
     ]
    },
    {
     "data": {
      "text/html": [
       "<table>\n",
       "    <thead>\n",
       "        <tr>\n",
       "            <th>id</th>\n",
       "            <th>name</th>\n",
       "            <th>rooms</th>\n",
       "            <th>created_at</th>\n",
       "            <th>updated_at</th>\n",
       "        </tr>\n",
       "    </thead>\n",
       "    <tbody>\n",
       "        <tr>\n",
       "            <td>2</td>\n",
       "            <td>Diversey</td>\n",
       "            <td>{&#x27;bedroom&#x27;: {&#x27;color&#x27;: &#x27;yellow&#x27;}, &#x27;kitchen&#x27;: {&#x27;color&#x27;: &#x27;yellow&#x27;}, &#x27;bathroom&#x27;: {&#x27;color&#x27;: &#x27;yellow&#x27;}}</td>\n",
       "            <td>2024-10-09 01:30:03.123277</td>\n",
       "            <td>2024-10-09 01:30:03.123277</td>\n",
       "        </tr>\n",
       "        <tr>\n",
       "            <td>3</td>\n",
       "            <td>Main</td>\n",
       "            <td>{&#x27;bedroom&#x27;: {&#x27;color&#x27;: &#x27;blue&#x27;}, &#x27;basement&#x27;: {&#x27;color&#x27;: &#x27;green&#x27;}, &#x27;bathroom&#x27;: {&#x27;color&#x27;: &#x27;green&#x27;}}</td>\n",
       "            <td>2024-10-09 01:30:03.123277</td>\n",
       "            <td>2024-10-09 01:30:03.123277</td>\n",
       "        </tr>\n",
       "        <tr>\n",
       "            <td>4</td>\n",
       "            <td>vacant</td>\n",
       "            <td>{&#x27;bedroom&#x27;: {&#x27;color&#x27;: &#x27;red&#x27;}, &#x27;basement&#x27;: {&#x27;color&#x27;: &#x27;green&#x27;}, &#x27;bathroom&#x27;: None}</td>\n",
       "            <td>2024-10-09 01:30:03.123277</td>\n",
       "            <td>2024-10-09 01:30:03.123277</td>\n",
       "        </tr>\n",
       "        <tr>\n",
       "            <td>5</td>\n",
       "            <td>Addison</td>\n",
       "            <td>{&#x27;bedroom&#x27;: {&#x27;color&#x27;: &#x27;green&#x27;}, &#x27;basement&#x27;: {&#x27;color&#x27;: &#x27;green&#x27;}, &#x27;bathroom&#x27;: {&#x27;color&#x27;: &#x27;green&#x27;}}</td>\n",
       "            <td>2024-10-09 01:30:03.123277</td>\n",
       "            <td>2024-10-09 01:30:03.123277</td>\n",
       "        </tr>\n",
       "    </tbody>\n",
       "</table>"
      ],
      "text/plain": [
       "[(2, 'Diversey', {'bedroom': {'color': 'yellow'}, 'kitchen': {'color': 'yellow'}, 'bathroom': {'color': 'yellow'}}, datetime.datetime(2024, 10, 9, 1, 30, 3, 123277), datetime.datetime(2024, 10, 9, 1, 30, 3, 123277)),\n",
       " (3, 'Main', {'bedroom': {'color': 'blue'}, 'basement': {'color': 'green'}, 'bathroom': {'color': 'green'}}, datetime.datetime(2024, 10, 9, 1, 30, 3, 123277), datetime.datetime(2024, 10, 9, 1, 30, 3, 123277)),\n",
       " (4, 'vacant', {'bedroom': {'color': 'red'}, 'basement': {'color': 'green'}, 'bathroom': None}, datetime.datetime(2024, 10, 9, 1, 30, 3, 123277), datetime.datetime(2024, 10, 9, 1, 30, 3, 123277)),\n",
       " (5, 'Addison', {'bedroom': {'color': 'green'}, 'basement': {'color': 'green'}, 'bathroom': {'color': 'green'}}, datetime.datetime(2024, 10, 9, 1, 30, 3, 123277), datetime.datetime(2024, 10, 9, 1, 30, 3, 123277))]"
      ]
     },
     "execution_count": 17,
     "metadata": {},
     "output_type": "execute_result"
    }
   ],
   "source": [
    "%%sql $DB_URL \n",
    "SELECT listings.id, listings.name, listings.rooms, listings.created_at, listings.updated_at \n",
    "FROM listings \n",
    "WHERE listings.rooms ? 'bedroom'"
   ]
  },
  {
   "cell_type": "raw",
   "id": "9757bf0b-ad0b-4f87-8ee4-3047965eff71",
   "metadata": {},
   "source": []
  },
  {
   "cell_type": "markdown",
   "id": "2eeda8cd-7545-4d7e-9fbf-87cd65b36f26",
   "metadata": {},
   "source": [
    "### Filter `bedroom.color == yellow`"
   ]
  },
  {
   "cell_type": "code",
   "execution_count": 18,
   "id": "e17509e5-53ac-4a2d-b7b3-4a914d8ac99f",
   "metadata": {},
   "outputs": [
    {
     "name": "stdout",
     "output_type": "stream",
     "text": [
      "QUERY::: \n",
      " SELECT listings.id, listings.name, listings.rooms, listings.created_at, listings.updated_at \n",
      "FROM listings \n",
      "WHERE (((listings.rooms -> 'bedroom')) ->> 'color') = 'yellow'\n",
      "\n",
      "RESULT::: \n",
      " [<Listing(id='2' name='Diversey')>]\n"
     ]
    }
   ],
   "source": [
    "from sqlalchemy import select\n",
    "\n",
    "query = select(Listing).filter(\n",
    "    Listing.rooms['bedroom'][\"color\"].astext == \"yellow\",\n",
    ")\n",
    "_, query_string = run_query(engine, query)"
   ]
  },
  {
   "cell_type": "raw",
   "id": "4ab75c84-d15d-414d-a483-32555bb51152",
   "metadata": {},
   "source": []
  },
  {
   "cell_type": "code",
   "execution_count": 19,
   "id": "ad36e143-7f2b-4c54-952f-1d07596b9a22",
   "metadata": {},
   "outputs": [
    {
     "name": "stdout",
     "output_type": "stream",
     "text": [
      "QUERY::: \n",
      " SELECT listings.id, listings.name, listings.rooms, listings.created_at, listings.updated_at \n",
      "FROM listings \n",
      "WHERE ((listings.rooms -> 'bedroom') ->> 'color') = 'yellow'\n",
      "\n",
      "RESULT::: \n",
      " [<Listing(id='2' name='Diversey')>]\n"
     ]
    }
   ],
   "source": [
    "from sqlalchemy import select\n",
    "\n",
    "query = select(Listing).filter(\n",
    "    Listing.rooms.op(\"->\")('bedroom').op(\"->>\")('color') == \"yellow\",\n",
    ")\n",
    "_, query_string = run_query(engine, query)"
   ]
  },
  {
   "cell_type": "raw",
   "id": "a1cb5562-908b-457f-b47c-c3cc50aaf74a",
   "metadata": {},
   "source": []
  },
  {
   "cell_type": "code",
   "execution_count": 20,
   "id": "69f9616a-88b2-4a08-8232-2c4d5925f9cd",
   "metadata": {},
   "outputs": [
    {
     "name": "stdout",
     "output_type": "stream",
     "text": [
      "1 rows affected.\n"
     ]
    },
    {
     "data": {
      "text/html": [
       "<table>\n",
       "    <thead>\n",
       "        <tr>\n",
       "            <th>id</th>\n",
       "            <th>name</th>\n",
       "            <th>rooms</th>\n",
       "            <th>created_at</th>\n",
       "            <th>updated_at</th>\n",
       "        </tr>\n",
       "    </thead>\n",
       "    <tbody>\n",
       "        <tr>\n",
       "            <td>2</td>\n",
       "            <td>Diversey</td>\n",
       "            <td>{&#x27;bedroom&#x27;: {&#x27;color&#x27;: &#x27;yellow&#x27;}, &#x27;kitchen&#x27;: {&#x27;color&#x27;: &#x27;yellow&#x27;}, &#x27;bathroom&#x27;: {&#x27;color&#x27;: &#x27;yellow&#x27;}}</td>\n",
       "            <td>2024-10-09 01:30:03.123277</td>\n",
       "            <td>2024-10-09 01:30:03.123277</td>\n",
       "        </tr>\n",
       "    </tbody>\n",
       "</table>"
      ],
      "text/plain": [
       "[(2, 'Diversey', {'bedroom': {'color': 'yellow'}, 'kitchen': {'color': 'yellow'}, 'bathroom': {'color': 'yellow'}}, datetime.datetime(2024, 10, 9, 1, 30, 3, 123277), datetime.datetime(2024, 10, 9, 1, 30, 3, 123277))]"
      ]
     },
     "execution_count": 20,
     "metadata": {},
     "output_type": "execute_result"
    }
   ],
   "source": [
    "%%sql $DB_URL \n",
    "SELECT listings.id, listings.name, listings.rooms, listings.created_at, listings.updated_at \n",
    "FROM listings \n",
    "WHERE (((listings.rooms -> 'bedroom')) ->> 'color') = 'yellow'"
   ]
  },
  {
   "cell_type": "raw",
   "id": "f9f2308d-64ee-44f1-83c3-539492068951",
   "metadata": {},
   "source": []
  },
  {
   "cell_type": "markdown",
   "id": "e72c75ee-db6f-4f53-aafc-c246fcd6149c",
   "metadata": {},
   "source": [
    "### Filter `bedroom.color == yellow`"
   ]
  },
  {
   "cell_type": "code",
   "execution_count": 21,
   "id": "406c43c5-baee-44af-8f09-a4e1ba623ad2",
   "metadata": {},
   "outputs": [
    {
     "name": "stdout",
     "output_type": "stream",
     "text": [
      "QUERY::: \n",
      " SELECT listings.id, listings.name, listings.rooms, listings.created_at, listings.updated_at \n",
      "FROM listings \n",
      "WHERE listings.rooms[:rooms_1] = :param_1\n",
      "\n",
      "RESULT::: \n",
      " [<Listing(id='2' name='Diversey')>]\n"
     ]
    }
   ],
   "source": [
    "from sqlalchemy import select\n",
    "\n",
    "query = select(Listing).filter(\n",
    "    Listing.rooms['bedroom'] == {\"color\": \"yellow\"},\n",
    ")\n",
    "_ = run_query(engine, query, render=False)"
   ]
  },
  {
   "cell_type": "raw",
   "id": "f9fb4e00-cf83-4f42-a6ed-d3b84fcc5666",
   "metadata": {},
   "source": []
  },
  {
   "cell_type": "code",
   "execution_count": 22,
   "id": "e53c1f68-8dc7-4f6c-8569-cdeb8050324b",
   "metadata": {},
   "outputs": [
    {
     "name": "stdout",
     "output_type": "stream",
     "text": [
      "1 rows affected.\n"
     ]
    },
    {
     "data": {
      "text/html": [
       "<table>\n",
       "    <thead>\n",
       "        <tr>\n",
       "            <th>id</th>\n",
       "            <th>name</th>\n",
       "            <th>rooms</th>\n",
       "            <th>created_at</th>\n",
       "            <th>updated_at</th>\n",
       "        </tr>\n",
       "    </thead>\n",
       "    <tbody>\n",
       "        <tr>\n",
       "            <td>2</td>\n",
       "            <td>Diversey</td>\n",
       "            <td>{&#x27;bedroom&#x27;: {&#x27;color&#x27;: &#x27;yellow&#x27;}, &#x27;kitchen&#x27;: {&#x27;color&#x27;: &#x27;yellow&#x27;}, &#x27;bathroom&#x27;: {&#x27;color&#x27;: &#x27;yellow&#x27;}}</td>\n",
       "            <td>2024-10-09 01:30:03.123277</td>\n",
       "            <td>2024-10-09 01:30:03.123277</td>\n",
       "        </tr>\n",
       "    </tbody>\n",
       "</table>"
      ],
      "text/plain": [
       "[(2, 'Diversey', {'bedroom': {'color': 'yellow'}, 'kitchen': {'color': 'yellow'}, 'bathroom': {'color': 'yellow'}}, datetime.datetime(2024, 10, 9, 1, 30, 3, 123277), datetime.datetime(2024, 10, 9, 1, 30, 3, 123277))]"
      ]
     },
     "execution_count": 22,
     "metadata": {},
     "output_type": "execute_result"
    }
   ],
   "source": [
    "%%sql $DB_URL \n",
    "SELECT listings.id, listings.name, listings.rooms, listings.created_at, listings.updated_at\n",
    "FROM listings \n",
    "WHERE (listings.rooms -> 'bedroom'::TEXT) = '{\"color\": \"yellow\"}'::JSONB"
   ]
  },
  {
   "cell_type": "raw",
   "id": "bf3db832-283e-4a1c-bea2-194b8f34f813",
   "metadata": {},
   "source": []
  },
  {
   "cell_type": "markdown",
   "id": "fcf36c15-d90a-4b46-8b83-e567cf93ca6b",
   "metadata": {},
   "source": [
    "### Filter `bathroom is Not Null`"
   ]
  },
  {
   "cell_type": "code",
   "execution_count": 23,
   "id": "ba150863-e619-42f8-a011-0c3e26ab5375",
   "metadata": {},
   "outputs": [
    {
     "name": "stdout",
     "output_type": "stream",
     "text": [
      "QUERY::: \n",
      " SELECT listings.id, listings.name, listings.rooms, listings.created_at, listings.updated_at \n",
      "FROM listings \n",
      "WHERE jsonb_extract_path_text(listings.rooms, 'bathroom') IS NULL\n",
      "\n",
      "RESULT::: \n",
      " [<Listing(id='4' name='vacant')>, <Listing(id='6' name='North')>]\n"
     ]
    }
   ],
   "source": [
    "query = select(Listing).filter(\n",
    "    func.jsonb_extract_path_text(Listing.rooms, 'bathroom').is_(None)\n",
    ")\n",
    "_ = run_query(engine, query)"
   ]
  },
  {
   "cell_type": "raw",
   "id": "61953ca4-a1c2-4280-9c8b-4cfa565e6cea",
   "metadata": {},
   "source": []
  },
  {
   "cell_type": "code",
   "execution_count": 24,
   "id": "a53f9add-a433-4c91-ab7a-f65a51450c40",
   "metadata": {},
   "outputs": [
    {
     "name": "stdout",
     "output_type": "stream",
     "text": [
      "QUERY::: \n",
      " SELECT listings.id, listings.name, listings.rooms, listings.created_at, listings.updated_at \n",
      "FROM listings \n",
      "WHERE jsonb_extract_path_text(listings.rooms, 'bathroom') IS NOT NULL\n",
      "\n",
      "RESULT::: \n",
      " [<Listing(id='1' name='Irving')>, <Listing(id='2' name='Diversey')>, <Listing(id='3' name='Main')>, <Listing(id='5' name='Addison')>]\n"
     ]
    }
   ],
   "source": [
    "query = select(Listing).filter(\n",
    "    func.jsonb_extract_path_text(Listing.rooms, 'bathroom').isnot(None)\n",
    ")\n",
    "_ = run_query(engine, query)"
   ]
  },
  {
   "cell_type": "raw",
   "id": "049d42c4-a22a-444f-a8ad-0c42bc0fd802",
   "metadata": {},
   "source": []
  },
  {
   "cell_type": "code",
   "execution_count": 25,
   "id": "c77313d2-280b-4697-9bb6-5d836543926c",
   "metadata": {},
   "outputs": [
    {
     "name": "stdout",
     "output_type": "stream",
     "text": [
      "2 rows affected.\n"
     ]
    },
    {
     "data": {
      "text/html": [
       "<table>\n",
       "    <thead>\n",
       "        <tr>\n",
       "            <th>id</th>\n",
       "            <th>name</th>\n",
       "            <th>rooms</th>\n",
       "            <th>created_at</th>\n",
       "            <th>updated_at</th>\n",
       "        </tr>\n",
       "    </thead>\n",
       "    <tbody>\n",
       "        <tr>\n",
       "            <td>4</td>\n",
       "            <td>vacant</td>\n",
       "            <td>{&#x27;bedroom&#x27;: {&#x27;color&#x27;: &#x27;red&#x27;}, &#x27;basement&#x27;: {&#x27;color&#x27;: &#x27;green&#x27;}, &#x27;bathroom&#x27;: None}</td>\n",
       "            <td>2024-10-09 01:30:03.123277</td>\n",
       "            <td>2024-10-09 01:30:03.123277</td>\n",
       "        </tr>\n",
       "        <tr>\n",
       "            <td>6</td>\n",
       "            <td>North</td>\n",
       "            <td>{&#x27;basement&#x27;: {&#x27;color&#x27;: &#x27;green&#x27;}}</td>\n",
       "            <td>2024-10-09 01:30:03.123277</td>\n",
       "            <td>2024-10-09 01:30:03.123277</td>\n",
       "        </tr>\n",
       "    </tbody>\n",
       "</table>"
      ],
      "text/plain": [
       "[(4, 'vacant', {'bedroom': {'color': 'red'}, 'basement': {'color': 'green'}, 'bathroom': None}, datetime.datetime(2024, 10, 9, 1, 30, 3, 123277), datetime.datetime(2024, 10, 9, 1, 30, 3, 123277)),\n",
       " (6, 'North', {'basement': {'color': 'green'}}, datetime.datetime(2024, 10, 9, 1, 30, 3, 123277), datetime.datetime(2024, 10, 9, 1, 30, 3, 123277))]"
      ]
     },
     "execution_count": 25,
     "metadata": {},
     "output_type": "execute_result"
    }
   ],
   "source": [
    "%%sql $DB_URL \n",
    "SELECT listings.id, listings.name, listings.rooms, listings.created_at, listings.updated_at \n",
    "FROM listings \n",
    "WHERE jsonb_extract_path_text(listings.rooms, 'bathroom') IS NULL"
   ]
  },
  {
   "cell_type": "raw",
   "id": "3eb20fce-86ca-4ae1-aa69-e7ba646f4f67",
   "metadata": {},
   "source": []
  },
  {
   "cell_type": "markdown",
   "id": "d13cb16e-b3b3-4bb4-94e8-fa2b965c5ad9",
   "metadata": {},
   "source": [
    "### Filter `kitchen and bathroom has a color`"
   ]
  },
  {
   "cell_type": "code",
   "execution_count": 26,
   "id": "1cc4b4eb-aaa5-4629-9f61-b3e765996f5f",
   "metadata": {},
   "outputs": [
    {
     "name": "stdout",
     "output_type": "stream",
     "text": [
      "QUERY::: \n",
      " SELECT listings.id, listings.name, listings.rooms, listings.created_at, listings.updated_at \n",
      "FROM listings \n",
      "WHERE (listings.rooms -> 'kitchen') ? 'color'\n",
      "\n",
      "RESULT::: \n",
      " [<Listing(id='1' name='Irving')>, <Listing(id='2' name='Diversey')>]\n"
     ]
    }
   ],
   "source": [
    "query = select(Listing).filter(\n",
    "    Listing.rooms.op('->')('kitchen').op('?')('color'))\n",
    "\n",
    "_ = run_query(engine, query)"
   ]
  },
  {
   "cell_type": "raw",
   "id": "4b9cfcd0-293a-47e6-93c4-b7cfec97f0f6",
   "metadata": {},
   "source": []
  },
  {
   "cell_type": "code",
   "execution_count": 27,
   "id": "6c159557-974d-4cbb-90e5-8ee9ca6df114",
   "metadata": {},
   "outputs": [
    {
     "name": "stdout",
     "output_type": "stream",
     "text": [
      "2 rows affected.\n"
     ]
    },
    {
     "data": {
      "text/html": [
       "<table>\n",
       "    <thead>\n",
       "        <tr>\n",
       "            <th>id</th>\n",
       "            <th>name</th>\n",
       "            <th>rooms</th>\n",
       "            <th>created_at</th>\n",
       "            <th>updated_at</th>\n",
       "        </tr>\n",
       "    </thead>\n",
       "    <tbody>\n",
       "        <tr>\n",
       "            <td>1</td>\n",
       "            <td>Irving</td>\n",
       "            <td>{&#x27;kitchen&#x27;: {&#x27;color&#x27;: &#x27;blue&#x27;}, &#x27;bathroom&#x27;: {&#x27;color&#x27;: &#x27;green&#x27;}}</td>\n",
       "            <td>2024-10-09 01:30:03.123277</td>\n",
       "            <td>2024-10-09 01:30:03.123277</td>\n",
       "        </tr>\n",
       "        <tr>\n",
       "            <td>2</td>\n",
       "            <td>Diversey</td>\n",
       "            <td>{&#x27;bedroom&#x27;: {&#x27;color&#x27;: &#x27;yellow&#x27;}, &#x27;kitchen&#x27;: {&#x27;color&#x27;: &#x27;yellow&#x27;}, &#x27;bathroom&#x27;: {&#x27;color&#x27;: &#x27;yellow&#x27;}}</td>\n",
       "            <td>2024-10-09 01:30:03.123277</td>\n",
       "            <td>2024-10-09 01:30:03.123277</td>\n",
       "        </tr>\n",
       "    </tbody>\n",
       "</table>"
      ],
      "text/plain": [
       "[(1, 'Irving', {'kitchen': {'color': 'blue'}, 'bathroom': {'color': 'green'}}, datetime.datetime(2024, 10, 9, 1, 30, 3, 123277), datetime.datetime(2024, 10, 9, 1, 30, 3, 123277)),\n",
       " (2, 'Diversey', {'bedroom': {'color': 'yellow'}, 'kitchen': {'color': 'yellow'}, 'bathroom': {'color': 'yellow'}}, datetime.datetime(2024, 10, 9, 1, 30, 3, 123277), datetime.datetime(2024, 10, 9, 1, 30, 3, 123277))]"
      ]
     },
     "execution_count": 27,
     "metadata": {},
     "output_type": "execute_result"
    }
   ],
   "source": [
    "%%sql $DB_URL \n",
    "SELECT listings.id, listings.name, listings.rooms, listings.created_at, listings.updated_at \n",
    "FROM listings \n",
    "WHERE (listings.rooms -> 'kitchen') ? 'color'"
   ]
  },
  {
   "cell_type": "raw",
   "id": "1a465ae4-fdd0-4a0e-8dd9-be6eb10e0762",
   "metadata": {},
   "source": []
  },
  {
   "cell_type": "code",
   "execution_count": 28,
   "id": "88453089-d46f-4be1-ad91-8326750e7bbc",
   "metadata": {},
   "outputs": [
    {
     "name": "stdout",
     "output_type": "stream",
     "text": [
      "QUERY::: \n",
      " SELECT listings.id, listings.name, listings.rooms, listings.created_at, listings.updated_at \n",
      "FROM listings \n",
      "WHERE (listings.rooms -> 'bathroom') ? 'color'\n",
      "\n",
      "RESULT::: \n",
      " [<Listing(id='1' name='Irving')>, <Listing(id='2' name='Diversey')>, <Listing(id='3' name='Main')>, <Listing(id='5' name='Addison')>]\n"
     ]
    }
   ],
   "source": [
    "query = select(Listing).filter(\n",
    "    Listing.rooms.op('->')('bathroom').op('?')('color'))\n",
    "\n",
    "_ = run_query(engine, query)"
   ]
  },
  {
   "cell_type": "raw",
   "id": "fe24846a-49e5-4c80-a6e5-6fe8cc26b005",
   "metadata": {},
   "source": []
  },
  {
   "cell_type": "code",
   "execution_count": 29,
   "id": "3ae0dc27-62d4-4529-ad6b-e3bbe335c74a",
   "metadata": {},
   "outputs": [
    {
     "name": "stdout",
     "output_type": "stream",
     "text": [
      "4 rows affected.\n"
     ]
    },
    {
     "data": {
      "text/html": [
       "<table>\n",
       "    <thead>\n",
       "        <tr>\n",
       "            <th>id</th>\n",
       "            <th>name</th>\n",
       "            <th>rooms</th>\n",
       "            <th>created_at</th>\n",
       "            <th>updated_at</th>\n",
       "        </tr>\n",
       "    </thead>\n",
       "    <tbody>\n",
       "        <tr>\n",
       "            <td>1</td>\n",
       "            <td>Irving</td>\n",
       "            <td>{&#x27;kitchen&#x27;: {&#x27;color&#x27;: &#x27;blue&#x27;}, &#x27;bathroom&#x27;: {&#x27;color&#x27;: &#x27;green&#x27;}}</td>\n",
       "            <td>2024-10-09 01:30:03.123277</td>\n",
       "            <td>2024-10-09 01:30:03.123277</td>\n",
       "        </tr>\n",
       "        <tr>\n",
       "            <td>2</td>\n",
       "            <td>Diversey</td>\n",
       "            <td>{&#x27;bedroom&#x27;: {&#x27;color&#x27;: &#x27;yellow&#x27;}, &#x27;kitchen&#x27;: {&#x27;color&#x27;: &#x27;yellow&#x27;}, &#x27;bathroom&#x27;: {&#x27;color&#x27;: &#x27;yellow&#x27;}}</td>\n",
       "            <td>2024-10-09 01:30:03.123277</td>\n",
       "            <td>2024-10-09 01:30:03.123277</td>\n",
       "        </tr>\n",
       "        <tr>\n",
       "            <td>3</td>\n",
       "            <td>Main</td>\n",
       "            <td>{&#x27;bedroom&#x27;: {&#x27;color&#x27;: &#x27;blue&#x27;}, &#x27;basement&#x27;: {&#x27;color&#x27;: &#x27;green&#x27;}, &#x27;bathroom&#x27;: {&#x27;color&#x27;: &#x27;green&#x27;}}</td>\n",
       "            <td>2024-10-09 01:30:03.123277</td>\n",
       "            <td>2024-10-09 01:30:03.123277</td>\n",
       "        </tr>\n",
       "        <tr>\n",
       "            <td>5</td>\n",
       "            <td>Addison</td>\n",
       "            <td>{&#x27;bedroom&#x27;: {&#x27;color&#x27;: &#x27;green&#x27;}, &#x27;basement&#x27;: {&#x27;color&#x27;: &#x27;green&#x27;}, &#x27;bathroom&#x27;: {&#x27;color&#x27;: &#x27;green&#x27;}}</td>\n",
       "            <td>2024-10-09 01:30:03.123277</td>\n",
       "            <td>2024-10-09 01:30:03.123277</td>\n",
       "        </tr>\n",
       "    </tbody>\n",
       "</table>"
      ],
      "text/plain": [
       "[(1, 'Irving', {'kitchen': {'color': 'blue'}, 'bathroom': {'color': 'green'}}, datetime.datetime(2024, 10, 9, 1, 30, 3, 123277), datetime.datetime(2024, 10, 9, 1, 30, 3, 123277)),\n",
       " (2, 'Diversey', {'bedroom': {'color': 'yellow'}, 'kitchen': {'color': 'yellow'}, 'bathroom': {'color': 'yellow'}}, datetime.datetime(2024, 10, 9, 1, 30, 3, 123277), datetime.datetime(2024, 10, 9, 1, 30, 3, 123277)),\n",
       " (3, 'Main', {'bedroom': {'color': 'blue'}, 'basement': {'color': 'green'}, 'bathroom': {'color': 'green'}}, datetime.datetime(2024, 10, 9, 1, 30, 3, 123277), datetime.datetime(2024, 10, 9, 1, 30, 3, 123277)),\n",
       " (5, 'Addison', {'bedroom': {'color': 'green'}, 'basement': {'color': 'green'}, 'bathroom': {'color': 'green'}}, datetime.datetime(2024, 10, 9, 1, 30, 3, 123277), datetime.datetime(2024, 10, 9, 1, 30, 3, 123277))]"
      ]
     },
     "execution_count": 29,
     "metadata": {},
     "output_type": "execute_result"
    }
   ],
   "source": [
    "%%sql $DB_URL \n",
    "SELECT listings.id, listings.name, listings.rooms, listings.created_at, listings.updated_at \n",
    "FROM listings \n",
    "WHERE (listings.rooms -> 'bathroom') ? 'color'"
   ]
  },
  {
   "cell_type": "raw",
   "id": "8b78cbb3-18b2-410e-82b1-96901a1299cd",
   "metadata": {},
   "source": []
  },
  {
   "cell_type": "markdown",
   "id": "eed54371-2812-433d-bdd4-578c73e26a92",
   "metadata": {},
   "source": [
    "### Find all rooms with a green color using JSONPath"
   ]
  },
  {
   "cell_type": "code",
   "execution_count": 30,
   "id": "af116edd-8c84-4c70-93a1-dd653023aa31",
   "metadata": {},
   "outputs": [
    {
     "name": "stdout",
     "output_type": "stream",
     "text": [
      "QUERY::: \n",
      " SELECT listings.id, listings.name, listings.rooms, listings.created_at, listings.updated_at \n",
      "FROM listings \n",
      "WHERE jsonb_path_exists(listings.rooms, '$.* ? (@.color == \"green\")'::jsonpath)\n",
      "\n",
      "RESULT::: \n",
      " [<Listing(id='1' name='Irving')>, <Listing(id='3' name='Main')>, <Listing(id='4' name='vacant')>, <Listing(id='5' name='Addison')>, <Listing(id='6' name='North')>]\n"
     ]
    }
   ],
   "source": [
    "query = select(Listing).where(\n",
    "    func.jsonb_path_exists(\n",
    "        Listing.rooms, text(\"\"\"'$.* ? (@.color == \"green\")'::jsonpath\"\"\")))\n",
    "\n",
    "_ = run_query(engine, query)"
   ]
  },
  {
   "cell_type": "raw",
   "id": "0ab1fd14-6647-4ff6-8fc1-bd14dccbdab0",
   "metadata": {},
   "source": []
  },
  {
   "cell_type": "code",
   "execution_count": 31,
   "id": "0813cc86-71d8-4735-8b63-42471b4100dd",
   "metadata": {},
   "outputs": [
    {
     "name": "stdout",
     "output_type": "stream",
     "text": [
      "5 rows affected.\n"
     ]
    },
    {
     "data": {
      "text/html": [
       "<table>\n",
       "    <thead>\n",
       "        <tr>\n",
       "            <th>id</th>\n",
       "            <th>name</th>\n",
       "            <th>rooms</th>\n",
       "            <th>created_at</th>\n",
       "            <th>updated_at</th>\n",
       "        </tr>\n",
       "    </thead>\n",
       "    <tbody>\n",
       "        <tr>\n",
       "            <td>1</td>\n",
       "            <td>Irving</td>\n",
       "            <td>{&#x27;kitchen&#x27;: {&#x27;color&#x27;: &#x27;blue&#x27;}, &#x27;bathroom&#x27;: {&#x27;color&#x27;: &#x27;green&#x27;}}</td>\n",
       "            <td>2024-10-09 01:30:03.123277</td>\n",
       "            <td>2024-10-09 01:30:03.123277</td>\n",
       "        </tr>\n",
       "        <tr>\n",
       "            <td>3</td>\n",
       "            <td>Main</td>\n",
       "            <td>{&#x27;bedroom&#x27;: {&#x27;color&#x27;: &#x27;blue&#x27;}, &#x27;basement&#x27;: {&#x27;color&#x27;: &#x27;green&#x27;}, &#x27;bathroom&#x27;: {&#x27;color&#x27;: &#x27;green&#x27;}}</td>\n",
       "            <td>2024-10-09 01:30:03.123277</td>\n",
       "            <td>2024-10-09 01:30:03.123277</td>\n",
       "        </tr>\n",
       "        <tr>\n",
       "            <td>4</td>\n",
       "            <td>vacant</td>\n",
       "            <td>{&#x27;bedroom&#x27;: {&#x27;color&#x27;: &#x27;red&#x27;}, &#x27;basement&#x27;: {&#x27;color&#x27;: &#x27;green&#x27;}, &#x27;bathroom&#x27;: None}</td>\n",
       "            <td>2024-10-09 01:30:03.123277</td>\n",
       "            <td>2024-10-09 01:30:03.123277</td>\n",
       "        </tr>\n",
       "        <tr>\n",
       "            <td>5</td>\n",
       "            <td>Addison</td>\n",
       "            <td>{&#x27;bedroom&#x27;: {&#x27;color&#x27;: &#x27;green&#x27;}, &#x27;basement&#x27;: {&#x27;color&#x27;: &#x27;green&#x27;}, &#x27;bathroom&#x27;: {&#x27;color&#x27;: &#x27;green&#x27;}}</td>\n",
       "            <td>2024-10-09 01:30:03.123277</td>\n",
       "            <td>2024-10-09 01:30:03.123277</td>\n",
       "        </tr>\n",
       "        <tr>\n",
       "            <td>6</td>\n",
       "            <td>North</td>\n",
       "            <td>{&#x27;basement&#x27;: {&#x27;color&#x27;: &#x27;green&#x27;}}</td>\n",
       "            <td>2024-10-09 01:30:03.123277</td>\n",
       "            <td>2024-10-09 01:30:03.123277</td>\n",
       "        </tr>\n",
       "    </tbody>\n",
       "</table>"
      ],
      "text/plain": [
       "[(1, 'Irving', {'kitchen': {'color': 'blue'}, 'bathroom': {'color': 'green'}}, datetime.datetime(2024, 10, 9, 1, 30, 3, 123277), datetime.datetime(2024, 10, 9, 1, 30, 3, 123277)),\n",
       " (3, 'Main', {'bedroom': {'color': 'blue'}, 'basement': {'color': 'green'}, 'bathroom': {'color': 'green'}}, datetime.datetime(2024, 10, 9, 1, 30, 3, 123277), datetime.datetime(2024, 10, 9, 1, 30, 3, 123277)),\n",
       " (4, 'vacant', {'bedroom': {'color': 'red'}, 'basement': {'color': 'green'}, 'bathroom': None}, datetime.datetime(2024, 10, 9, 1, 30, 3, 123277), datetime.datetime(2024, 10, 9, 1, 30, 3, 123277)),\n",
       " (5, 'Addison', {'bedroom': {'color': 'green'}, 'basement': {'color': 'green'}, 'bathroom': {'color': 'green'}}, datetime.datetime(2024, 10, 9, 1, 30, 3, 123277), datetime.datetime(2024, 10, 9, 1, 30, 3, 123277)),\n",
       " (6, 'North', {'basement': {'color': 'green'}}, datetime.datetime(2024, 10, 9, 1, 30, 3, 123277), datetime.datetime(2024, 10, 9, 1, 30, 3, 123277))]"
      ]
     },
     "execution_count": 31,
     "metadata": {},
     "output_type": "execute_result"
    }
   ],
   "source": [
    "%%sql $DB_URL \n",
    "SELECT listings.id, listings.name, listings.rooms, listings.created_at, listings.updated_at \n",
    "FROM listings \n",
    "WHERE jsonb_path_exists(listings.rooms, '$.* ? (@.color == \"green\")'::jsonpath)"
   ]
  },
  {
   "cell_type": "raw",
   "id": "1195bb81-a68e-4785-898b-b3efa9c4501a",
   "metadata": {},
   "source": []
  },
  {
   "cell_type": "markdown",
   "id": "26d1ea3a-ea89-4b0c-a786-1963f0de8b92",
   "metadata": {},
   "source": [
    "### Use JSONB operators in the select "
   ]
  },
  {
   "cell_type": "code",
   "execution_count": 32,
   "id": "9e9dbc60-961a-46bf-8846-273d8a5aff63",
   "metadata": {},
   "outputs": [
    {
     "name": "stdout",
     "output_type": "stream",
     "text": [
      "QUERY::: \n",
      " SELECT listings.id, listings.rooms ->> 'bedroom' AS anon_1, (listings.rooms -> 'bedroom') ->> 'color' AS anon_2 \n",
      "FROM listings\n",
      "\n",
      "RESULT::: \n",
      " [(1, None, None), (2, '{\"color\": \"yellow\"}', 'yellow'), (3, '{\"color\": \"blue\"}', 'blue'), (4, '{\"color\": \"red\"}', 'red'), (5, '{\"color\": \"green\"}', 'green'), (6, None, None)]\n"
     ]
    }
   ],
   "source": [
    "query = select(\n",
    "    Listing.id, \n",
    "    Listing.rooms.op(\"->>\")('bedroom'),\n",
    "    Listing.rooms.op(\"->\")('bedroom').op(\"->>\")('color'),\n",
    ")\n",
    "_ = run_query(engine, query, scalars=False)"
   ]
  },
  {
   "cell_type": "raw",
   "id": "0eaab98b-4ef4-4a12-9502-dc8afbef0c15",
   "metadata": {},
   "source": []
  },
  {
   "cell_type": "code",
   "execution_count": 33,
   "id": "ea31b016-3caf-4295-962e-992c465effb6",
   "metadata": {},
   "outputs": [
    {
     "name": "stdout",
     "output_type": "stream",
     "text": [
      "6 rows affected.\n"
     ]
    },
    {
     "data": {
      "text/html": [
       "<table>\n",
       "    <thead>\n",
       "        <tr>\n",
       "            <th>id</th>\n",
       "            <th>anon_1</th>\n",
       "            <th>anon_2</th>\n",
       "        </tr>\n",
       "    </thead>\n",
       "    <tbody>\n",
       "        <tr>\n",
       "            <td>1</td>\n",
       "            <td>None</td>\n",
       "            <td>None</td>\n",
       "        </tr>\n",
       "        <tr>\n",
       "            <td>2</td>\n",
       "            <td>{&quot;color&quot;: &quot;yellow&quot;}</td>\n",
       "            <td>yellow</td>\n",
       "        </tr>\n",
       "        <tr>\n",
       "            <td>3</td>\n",
       "            <td>{&quot;color&quot;: &quot;blue&quot;}</td>\n",
       "            <td>blue</td>\n",
       "        </tr>\n",
       "        <tr>\n",
       "            <td>4</td>\n",
       "            <td>{&quot;color&quot;: &quot;red&quot;}</td>\n",
       "            <td>red</td>\n",
       "        </tr>\n",
       "        <tr>\n",
       "            <td>5</td>\n",
       "            <td>{&quot;color&quot;: &quot;green&quot;}</td>\n",
       "            <td>green</td>\n",
       "        </tr>\n",
       "        <tr>\n",
       "            <td>6</td>\n",
       "            <td>None</td>\n",
       "            <td>None</td>\n",
       "        </tr>\n",
       "    </tbody>\n",
       "</table>"
      ],
      "text/plain": [
       "[(1, None, None),\n",
       " (2, '{\"color\": \"yellow\"}', 'yellow'),\n",
       " (3, '{\"color\": \"blue\"}', 'blue'),\n",
       " (4, '{\"color\": \"red\"}', 'red'),\n",
       " (5, '{\"color\": \"green\"}', 'green'),\n",
       " (6, None, None)]"
      ]
     },
     "execution_count": 33,
     "metadata": {},
     "output_type": "execute_result"
    }
   ],
   "source": [
    "%%sql $DB_URL \n",
    "SELECT listings.id, listings.rooms ->> 'bedroom' AS anon_1, (listings.rooms -> 'bedroom') ->> 'color' AS anon_2 \n",
    "FROM listings"
   ]
  },
  {
   "cell_type": "raw",
   "id": "6b3dea8b-57ff-40c6-bfb5-619a10e337c8",
   "metadata": {},
   "source": []
  },
  {
   "cell_type": "code",
   "execution_count": 34,
   "id": "eef34f06-4e67-4b2b-a013-a96a94f5cdca",
   "metadata": {},
   "outputs": [],
   "source": [
    "# https://www.postgresql.org/docs/9.6/functions-json.html\n",
    "# https://www.postgresql.org/docs/current/datatype-json.html"
   ]
  },
  {
   "cell_type": "code",
   "execution_count": 35,
   "id": "be4d2d85-e451-4277-87e1-ecc4971ecd44",
   "metadata": {},
   "outputs": [],
   "source": [
    "# https://github.com/json-path/JsonPath"
   ]
  },
  {
   "cell_type": "raw",
   "id": "243eddf8-52f9-4fe3-9efb-3a2032f6bce8",
   "metadata": {},
   "source": [
    "\n",
    "\n",
    "\n",
    "\n",
    "\n",
    "\n",
    "\n",
    "\n",
    "\n",
    "\n",
    "\n",
    "\n",
    "\n",
    "\n",
    "\n",
    "\n",
    "\n",
    "\n",
    "\n",
    "\n",
    "\n",
    "\n",
    "\n",
    "\n"
   ]
  },
  {
   "cell_type": "markdown",
   "id": "1dc4ab0a-87c0-4706-8831-1b9a4d883d8c",
   "metadata": {},
   "source": [
    "# Search Example"
   ]
  },
  {
   "cell_type": "markdown",
   "id": "af5b6553-0b0c-4bb6-93e1-95e4869e0a8a",
   "metadata": {},
   "source": [
    "### Generate a \"Vectorized\" representation of the text"
   ]
  },
  {
   "cell_type": "code",
   "execution_count": 36,
   "id": "1b5cbab0-425c-4f7f-bc25-304479007623",
   "metadata": {},
   "outputs": [
    {
     "name": "stdout",
     "output_type": "stream",
     "text": [
      "1 rows affected.\n"
     ]
    },
    {
     "data": {
      "text/html": [
       "<table>\n",
       "    <thead>\n",
       "        <tr>\n",
       "            <th>to_tsvector</th>\n",
       "        </tr>\n",
       "    </thead>\n",
       "    <tbody>\n",
       "        <tr>\n",
       "            <td>&#x27;chicago&#x27;:9 &#x27;django&#x27;:13 &#x27;joe&#x27;:4 &#x27;kubernet&#x27;:15 &#x27;live&#x27;:7 &#x27;name&#x27;:2 &#x27;use&#x27;:12</td>\n",
       "        </tr>\n",
       "    </tbody>\n",
       "</table>"
      ],
      "text/plain": [
       "[(\"'chicago':9 'django':13 'joe':4 'kubernet':15 'live':7 'name':2 'use':12\",)]"
      ]
     },
     "execution_count": 36,
     "metadata": {},
     "output_type": "execute_result"
    }
   ],
   "source": [
    "%%sql $DB_URL \n",
    "select to_tsvector(\n",
    "    'my name is Joe and I live in Chicago. I have used Django and kubernetes');"
   ]
  },
  {
   "cell_type": "raw",
   "id": "52d7f0f2-c049-4421-bb37-aac9d54c74dd",
   "metadata": {},
   "source": []
  },
  {
   "cell_type": "markdown",
   "id": "514e7bbe-cd0a-4b78-970f-af87019326c5",
   "metadata": {},
   "source": [
    "### Do the search terms exist in the vector? "
   ]
  },
  {
   "cell_type": "code",
   "execution_count": 37,
   "id": "7477cc2d-0d45-4c49-af07-204441db34d3",
   "metadata": {},
   "outputs": [
    {
     "name": "stdout",
     "output_type": "stream",
     "text": [
      "1 rows affected.\n"
     ]
    },
    {
     "data": {
      "text/html": [
       "<table>\n",
       "    <thead>\n",
       "        <tr>\n",
       "            <th>?column?</th>\n",
       "        </tr>\n",
       "    </thead>\n",
       "    <tbody>\n",
       "        <tr>\n",
       "            <td>True</td>\n",
       "        </tr>\n",
       "    </tbody>\n",
       "</table>"
      ],
      "text/plain": [
       "[(True,)]"
      ]
     },
     "execution_count": 37,
     "metadata": {},
     "output_type": "execute_result"
    }
   ],
   "source": [
    "%%sql $DB_URL \n",
    "select to_tsvector(\n",
    "    'my name is Joe and I live in Chicago. I have used Django and kubernetes')\n",
    "@@ to_tsquery('Chicago & Django');"
   ]
  },
  {
   "cell_type": "raw",
   "id": "13e044a6-4ab1-4dd8-a931-de2530d73f86",
   "metadata": {},
   "source": []
  },
  {
   "cell_type": "code",
   "execution_count": 38,
   "id": "4b90cf82-1584-4266-a8e2-b38694165303",
   "metadata": {},
   "outputs": [
    {
     "name": "stdout",
     "output_type": "stream",
     "text": [
      "1 rows affected.\n"
     ]
    },
    {
     "data": {
      "text/html": [
       "<table>\n",
       "    <thead>\n",
       "        <tr>\n",
       "            <th>?column?</th>\n",
       "        </tr>\n",
       "    </thead>\n",
       "    <tbody>\n",
       "        <tr>\n",
       "            <td>False</td>\n",
       "        </tr>\n",
       "    </tbody>\n",
       "</table>"
      ],
      "text/plain": [
       "[(False,)]"
      ]
     },
     "execution_count": 38,
     "metadata": {},
     "output_type": "execute_result"
    }
   ],
   "source": [
    "%%sql $DB_URL \n",
    "select to_tsvector(\n",
    "    'my name is Joe and I live in Chicago. I have used Django and kubernetes')\n",
    "@@ to_tsquery('DC');"
   ]
  },
  {
   "cell_type": "raw",
   "id": "41284042-fb13-4107-8663-3cab13495a3c",
   "metadata": {},
   "source": []
  },
  {
   "cell_type": "code",
   "execution_count": 39,
   "id": "fd343f98-8b53-4a55-8723-fe74c7c23f8b",
   "metadata": {},
   "outputs": [],
   "source": [
    "from sqlalchemy.orm import mapped_column, Mapped, DeclarativeBase\n",
    "from sqlalchemy.types import TypeDecorator\n",
    "\n",
    "class Base(DeclarativeBase):\n",
    "    pass\n",
    "\n",
    "\n",
    "class TSVector(TypeDecorator):\n",
    "    impl = TSVECTOR\n",
    "    cache_ok = True  \n",
    "\n",
    "class Listing(Base):\n",
    "    __tablename__ = 'listings'\n",
    "\n",
    "    id: Mapped[int] = mapped_column(primary_key=True)\n",
    "    name: Mapped[str] = mapped_column(unique=True)\n",
    "    description: Mapped[Optional[str]] = mapped_column()\n",
    "    rooms: Mapped[JSONB] = mapped_column(type_=JSONB)\n",
    "    created_at: Mapped[datetime.datetime] = mapped_column(\n",
    "        default=func.now())\n",
    "    updated_at: Mapped[datetime.datetime] = mapped_column(\n",
    "        default=func.now(), onupdate=func.now())\n",
    "    \n",
    "    ts_vector = mapped_column(\n",
    "        TSVector(), \n",
    "        Computed(\n",
    "            func.setweight(\n",
    "                func.to_tsvector(\n",
    "                    cast(literal(\"english\"), type_=REGCONFIG), \n",
    "                    func.coalesce(name, '')), 'A' ).concat(\n",
    "            func.setweight(\n",
    "                func.to_tsvector(\n",
    "                    cast(literal(\"english\"), type_=REGCONFIG), \n",
    "                    func.coalesce(description, '')), \"B\" )),\n",
    "            persisted=True))\n",
    "    \n",
    "    __table_args__ = (\n",
    "        Index('ix_video___ts_vector__', ts_vector, postgresql_using='gin'),)\n",
    "    \n",
    "    def __repr__(self):\n",
    "        return f\"<Listing(id='{self.id}' name='{self.name}')>\"\n",
    "\n",
    "\n",
    "\n",
    "Listing.__table__.drop(engine, checkfirst=True)\n",
    "Base.metadata.create_all(engine)"
   ]
  },
  {
   "cell_type": "code",
   "execution_count": 40,
   "id": "1d3e1899-08a8-48a2-aa6b-703b8817f113",
   "metadata": {},
   "outputs": [],
   "source": [
    "from sqlalchemy.orm import Session\n",
    "with Session(engine) as session:\n",
    "    session.add_all([\n",
    "        Listing(\n",
    "            name=\"home\", \n",
    "            description=\"No place like home. A great place to live.\",\n",
    "            rooms={\n",
    "            \"kitchen\": {\"color\": \"blue\"},\n",
    "        }), \n",
    "        Listing(\n",
    "            name=\"away\", \n",
    "            description=\"A house that is very yellow and bright themed.\",\n",
    "            rooms={\n",
    "            \"bedroom\": {\"color\": \"yellow\"},\n",
    "            \"kitchen\": {\"color\": \"yellow\"},\n",
    "        }), \n",
    "        Listing(\n",
    "            name=\"far\", \n",
    "            description=\"A large house in the middle of the countryside and has a barnhouse theme.\",\n",
    "            rooms={\n",
    "            \"bedroom\": {\"color\": \"blue\"},\n",
    "            \"basement\": {\"color\": \"green\"},\n",
    "        }), \n",
    "        Listing(\n",
    "            name=\"city\", \n",
    "            description=\"Green 18th century old house with big garage\",\n",
    "            rooms={\n",
    "            \"basement\": {\"color\": \"green\"},\n",
    "            \"bedroom\": {\"color\": \"green\"},\n",
    "        }),\n",
    "        Listing(\n",
    "            name=\"shelter\", \n",
    "            description=\"a dark and scary storm shelter\",\n",
    "            rooms={\n",
    "            \"basement\": {\"color\": \"green\"},\n",
    "        }),\n",
    "    ])\n",
    "    session.commit()"
   ]
  },
  {
   "cell_type": "raw",
   "id": "447c7fe8-528e-4ce8-b5fe-2b342dde1b5e",
   "metadata": {},
   "source": []
  },
  {
   "cell_type": "code",
   "execution_count": 41,
   "id": "1c591807-c002-4f5c-92fa-320b8cd1e987",
   "metadata": {},
   "outputs": [
    {
     "name": "stdout",
     "output_type": "stream",
     "text": [
      "5 rows affected.\n"
     ]
    },
    {
     "data": {
      "text/html": [
       "<table>\n",
       "    <thead>\n",
       "        <tr>\n",
       "            <th>id</th>\n",
       "            <th>name</th>\n",
       "            <th>description</th>\n",
       "            <th>ts_vector</th>\n",
       "        </tr>\n",
       "    </thead>\n",
       "    <tbody>\n",
       "        <tr>\n",
       "            <td>1</td>\n",
       "            <td>home</td>\n",
       "            <td>No place like home. A great place to live.</td>\n",
       "            <td>&#x27;great&#x27;:7B &#x27;home&#x27;:1A,5B &#x27;like&#x27;:4B &#x27;live&#x27;:10B &#x27;place&#x27;:3B,8B</td>\n",
       "        </tr>\n",
       "        <tr>\n",
       "            <td>2</td>\n",
       "            <td>away</td>\n",
       "            <td>A house that is very yellow and bright themed.</td>\n",
       "            <td>&#x27;away&#x27;:1A &#x27;bright&#x27;:9B &#x27;hous&#x27;:3B &#x27;theme&#x27;:10B &#x27;yellow&#x27;:7B</td>\n",
       "        </tr>\n",
       "        <tr>\n",
       "            <td>3</td>\n",
       "            <td>far</td>\n",
       "            <td>A large house in the middle of the countryside and has a barnhouse theme.</td>\n",
       "            <td>&#x27;barnhous&#x27;:14B &#x27;countrysid&#x27;:10B &#x27;far&#x27;:1A &#x27;hous&#x27;:4B &#x27;larg&#x27;:3B &#x27;middl&#x27;:7B &#x27;theme&#x27;:15B</td>\n",
       "        </tr>\n",
       "        <tr>\n",
       "            <td>4</td>\n",
       "            <td>city</td>\n",
       "            <td>Green 18th century old house with big garage</td>\n",
       "            <td>&#x27;18th&#x27;:3B &#x27;big&#x27;:8B &#x27;centuri&#x27;:4B &#x27;citi&#x27;:1A &#x27;garag&#x27;:9B &#x27;green&#x27;:2B &#x27;hous&#x27;:6B &#x27;old&#x27;:5B</td>\n",
       "        </tr>\n",
       "        <tr>\n",
       "            <td>5</td>\n",
       "            <td>shelter</td>\n",
       "            <td>a dark and scary storm shelter</td>\n",
       "            <td>&#x27;dark&#x27;:3B &#x27;scari&#x27;:5B &#x27;shelter&#x27;:1A,7B &#x27;storm&#x27;:6B</td>\n",
       "        </tr>\n",
       "    </tbody>\n",
       "</table>"
      ],
      "text/plain": [
       "[(1, 'home', 'No place like home. A great place to live.', \"'great':7B 'home':1A,5B 'like':4B 'live':10B 'place':3B,8B\"),\n",
       " (2, 'away', 'A house that is very yellow and bright themed.', \"'away':1A 'bright':9B 'hous':3B 'theme':10B 'yellow':7B\"),\n",
       " (3, 'far', 'A large house in the middle of the countryside and has a barnhouse theme.', \"'barnhous':14B 'countrysid':10B 'far':1A 'hous':4B 'larg':3B 'middl':7B 'theme':15B\"),\n",
       " (4, 'city', 'Green 18th century old house with big garage', \"'18th':3B 'big':8B 'centuri':4B 'citi':1A 'garag':9B 'green':2B 'hous':6B 'old':5B\"),\n",
       " (5, 'shelter', 'a dark and scary storm shelter', \"'dark':3B 'scari':5B 'shelter':1A,7B 'storm':6B\")]"
      ]
     },
     "execution_count": 41,
     "metadata": {},
     "output_type": "execute_result"
    }
   ],
   "source": [
    "%%sql $DB_URL\n",
    "select id, name, description, ts_vector from listings;"
   ]
  },
  {
   "cell_type": "raw",
   "id": "0d07a3fd-216a-4ab9-a38a-2d5a145e1469",
   "metadata": {},
   "source": []
  },
  {
   "cell_type": "code",
   "execution_count": 67,
   "id": "9b577801-e135-4dc5-add0-c3c78f6012bf",
   "metadata": {},
   "outputs": [
    {
     "name": "stdout",
     "output_type": "stream",
     "text": [
      "QUERY::: \n",
      " SELECT listings.id, listings.name, listings.description, listings.rooms, listings.created_at, listings.updated_at, ST_AsEWKB(listings.geo_location) AS geo_location, listings.ts_vector \n",
      "FROM listings \n",
      "WHERE listings.ts_vector @@ plainto_tsquery(CAST('english' AS REGCONFIG), 'yellow house')\n",
      "\n",
      "RESULT::: \n",
      " [<Listing(id='2' name='away')>]\n"
     ]
    }
   ],
   "source": [
    "from sqlalchemy.orm import Session\n",
    "search_query = 'yellow house'\n",
    "\n",
    "query = select(Listing).filter(\n",
    "    Listing.ts_vector.op('@@')(\n",
    "        func.plainto_tsquery(\n",
    "            cast(literal(\"english\"), type_=REGCONFIG), search_query)\n",
    "    )\n",
    ")\n",
    "\n",
    "_ = run_query(engine, query)"
   ]
  },
  {
   "cell_type": "raw",
   "id": "a4faf0d2-2690-4679-95fd-402bf29ef234",
   "metadata": {},
   "source": []
  },
  {
   "cell_type": "code",
   "execution_count": 43,
   "id": "ca00804d-5125-4d70-bc6e-b4b1492a200e",
   "metadata": {},
   "outputs": [
    {
     "name": "stdout",
     "output_type": "stream",
     "text": [
      "1 rows affected.\n"
     ]
    },
    {
     "data": {
      "text/html": [
       "<table>\n",
       "    <thead>\n",
       "        <tr>\n",
       "            <th>id</th>\n",
       "            <th>name</th>\n",
       "            <th>description</th>\n",
       "            <th>rooms</th>\n",
       "            <th>created_at</th>\n",
       "            <th>updated_at</th>\n",
       "            <th>ts_vector</th>\n",
       "        </tr>\n",
       "    </thead>\n",
       "    <tbody>\n",
       "        <tr>\n",
       "            <td>2</td>\n",
       "            <td>away</td>\n",
       "            <td>A house that is very yellow and bright themed.</td>\n",
       "            <td>{&#x27;bedroom&#x27;: {&#x27;color&#x27;: &#x27;yellow&#x27;}, &#x27;kitchen&#x27;: {&#x27;color&#x27;: &#x27;yellow&#x27;}}</td>\n",
       "            <td>2024-10-09 01:30:35.678744</td>\n",
       "            <td>2024-10-09 01:30:35.678744</td>\n",
       "            <td>&#x27;away&#x27;:1A &#x27;bright&#x27;:9B &#x27;hous&#x27;:3B &#x27;theme&#x27;:10B &#x27;yellow&#x27;:7B</td>\n",
       "        </tr>\n",
       "    </tbody>\n",
       "</table>"
      ],
      "text/plain": [
       "[(2, 'away', 'A house that is very yellow and bright themed.', {'bedroom': {'color': 'yellow'}, 'kitchen': {'color': 'yellow'}}, datetime.datetime(2024, 10, 9, 1, 30, 35, 678744), datetime.datetime(2024, 10, 9, 1, 30, 35, 678744), \"'away':1A 'bright':9B 'hous':3B 'theme':10B 'yellow':7B\")]"
      ]
     },
     "execution_count": 43,
     "metadata": {},
     "output_type": "execute_result"
    }
   ],
   "source": [
    "%%sql $DB_URL\n",
    "SELECT listings.id, listings.name, listings.description, listings.rooms, listings.created_at, listings.updated_at, listings.ts_vector \n",
    "FROM listings \n",
    "WHERE listings.ts_vector @@ plainto_tsquery(CAST('english' AS REGCONFIG), 'house yellow')"
   ]
  },
  {
   "cell_type": "raw",
   "id": "2ddc6eb2-8259-4eb2-8a01-808f338cea0d",
   "metadata": {},
   "source": []
  },
  {
   "cell_type": "code",
   "execution_count": 44,
   "id": "7618d9df-3949-4d96-911c-d2450cc9f46c",
   "metadata": {},
   "outputs": [
    {
     "name": "stdout",
     "output_type": "stream",
     "text": [
      "QUERY::: \n",
      " SELECT listings.id, listings.name, listings.description, listings.rooms, listings.created_at, listings.updated_at, listings.ts_vector \n",
      "FROM listings \n",
      "WHERE listings.ts_vector @@ to_tsquery(CAST('english' AS REGCONFIG), 'house | yellow | country')\n",
      "\n",
      "RESULT::: \n",
      " [<Listing(id='2' name='away')>, <Listing(id='3' name='far')>, <Listing(id='4' name='city')>]\n"
     ]
    }
   ],
   "source": [
    "from sqlalchemy.orm import Session\n",
    "search_query = 'house | yellow | country'\n",
    "\n",
    "query = select(Listing).filter(\n",
    "    Listing.ts_vector.op('@@')(\n",
    "        func.to_tsquery(cast(literal(\"english\"), type_=REGCONFIG), search_query)\n",
    "    )\n",
    ")\n",
    "\n",
    "_ = run_query(engine, query)"
   ]
  },
  {
   "cell_type": "raw",
   "id": "7b02bcb5-f6cc-43aa-b642-803eeed7c9da",
   "metadata": {},
   "source": []
  },
  {
   "cell_type": "code",
   "execution_count": 45,
   "id": "b0f6ff70-6b55-45c6-91a1-bfbf4f45237b",
   "metadata": {},
   "outputs": [
    {
     "name": "stdout",
     "output_type": "stream",
     "text": [
      "3 rows affected.\n"
     ]
    },
    {
     "data": {
      "text/html": [
       "<table>\n",
       "    <thead>\n",
       "        <tr>\n",
       "            <th>id</th>\n",
       "            <th>name</th>\n",
       "            <th>description</th>\n",
       "            <th>rooms</th>\n",
       "            <th>created_at</th>\n",
       "            <th>updated_at</th>\n",
       "            <th>ts_vector</th>\n",
       "        </tr>\n",
       "    </thead>\n",
       "    <tbody>\n",
       "        <tr>\n",
       "            <td>2</td>\n",
       "            <td>away</td>\n",
       "            <td>A house that is very yellow and bright themed.</td>\n",
       "            <td>{&#x27;bedroom&#x27;: {&#x27;color&#x27;: &#x27;yellow&#x27;}, &#x27;kitchen&#x27;: {&#x27;color&#x27;: &#x27;yellow&#x27;}}</td>\n",
       "            <td>2024-10-09 01:30:35.678744</td>\n",
       "            <td>2024-10-09 01:30:35.678744</td>\n",
       "            <td>&#x27;away&#x27;:1A &#x27;bright&#x27;:9B &#x27;hous&#x27;:3B &#x27;theme&#x27;:10B &#x27;yellow&#x27;:7B</td>\n",
       "        </tr>\n",
       "        <tr>\n",
       "            <td>3</td>\n",
       "            <td>far</td>\n",
       "            <td>A large house in the middle of the countryside and has a barnhouse theme.</td>\n",
       "            <td>{&#x27;bedroom&#x27;: {&#x27;color&#x27;: &#x27;blue&#x27;}, &#x27;basement&#x27;: {&#x27;color&#x27;: &#x27;green&#x27;}}</td>\n",
       "            <td>2024-10-09 01:30:35.678744</td>\n",
       "            <td>2024-10-09 01:30:35.678744</td>\n",
       "            <td>&#x27;barnhous&#x27;:14B &#x27;countrysid&#x27;:10B &#x27;far&#x27;:1A &#x27;hous&#x27;:4B &#x27;larg&#x27;:3B &#x27;middl&#x27;:7B &#x27;theme&#x27;:15B</td>\n",
       "        </tr>\n",
       "        <tr>\n",
       "            <td>4</td>\n",
       "            <td>city</td>\n",
       "            <td>Green 18th century old house with big garage</td>\n",
       "            <td>{&#x27;bedroom&#x27;: {&#x27;color&#x27;: &#x27;green&#x27;}, &#x27;basement&#x27;: {&#x27;color&#x27;: &#x27;green&#x27;}}</td>\n",
       "            <td>2024-10-09 01:30:35.678744</td>\n",
       "            <td>2024-10-09 01:30:35.678744</td>\n",
       "            <td>&#x27;18th&#x27;:3B &#x27;big&#x27;:8B &#x27;centuri&#x27;:4B &#x27;citi&#x27;:1A &#x27;garag&#x27;:9B &#x27;green&#x27;:2B &#x27;hous&#x27;:6B &#x27;old&#x27;:5B</td>\n",
       "        </tr>\n",
       "    </tbody>\n",
       "</table>"
      ],
      "text/plain": [
       "[(2, 'away', 'A house that is very yellow and bright themed.', {'bedroom': {'color': 'yellow'}, 'kitchen': {'color': 'yellow'}}, datetime.datetime(2024, 10, 9, 1, 30, 35, 678744), datetime.datetime(2024, 10, 9, 1, 30, 35, 678744), \"'away':1A 'bright':9B 'hous':3B 'theme':10B 'yellow':7B\"),\n",
       " (3, 'far', 'A large house in the middle of the countryside and has a barnhouse theme.', {'bedroom': {'color': 'blue'}, 'basement': {'color': 'green'}}, datetime.datetime(2024, 10, 9, 1, 30, 35, 678744), datetime.datetime(2024, 10, 9, 1, 30, 35, 678744), \"'barnhous':14B 'countrysid':10B 'far':1A 'hous':4B 'larg':3B 'middl':7B 'theme':15B\"),\n",
       " (4, 'city', 'Green 18th century old house with big garage', {'bedroom': {'color': 'green'}, 'basement': {'color': 'green'}}, datetime.datetime(2024, 10, 9, 1, 30, 35, 678744), datetime.datetime(2024, 10, 9, 1, 30, 35, 678744), \"'18th':3B 'big':8B 'centuri':4B 'citi':1A 'garag':9B 'green':2B 'hous':6B 'old':5B\")]"
      ]
     },
     "execution_count": 45,
     "metadata": {},
     "output_type": "execute_result"
    }
   ],
   "source": [
    "%%sql $DB_URL\n",
    "SELECT listings.id, listings.name, listings.description, listings.rooms, listings.created_at, listings.updated_at, listings.ts_vector \n",
    "FROM listings \n",
    "WHERE listings.ts_vector @@ to_tsquery(CAST('english' AS REGCONFIG), 'house | yellow | country');"
   ]
  },
  {
   "cell_type": "code",
   "execution_count": null,
   "id": "b1aa8b47-91ce-44c7-8963-13e1b251dfc1",
   "metadata": {},
   "outputs": [],
   "source": []
  },
  {
   "cell_type": "code",
   "execution_count": 46,
   "id": "123f39cc-8eb4-4ad4-8284-a58fe1d9ab75",
   "metadata": {},
   "outputs": [],
   "source": [
    "# https://www.postgresql.org/docs/current/textsearch-intro.html#TEXTSEARCH-DOCUMENT"
   ]
  },
  {
   "cell_type": "raw",
   "id": "9a7e476e-441e-4668-a9dc-88f7354c91a5",
   "metadata": {},
   "source": [
    "\n",
    "\n",
    "\n",
    "\n",
    "\n",
    "\n",
    "\n",
    "\n",
    "\n",
    "\n",
    "\n",
    "\n",
    "\n",
    "\n",
    "\n",
    "\n",
    "\n",
    "\n",
    "\n",
    "\n"
   ]
  },
  {
   "cell_type": "markdown",
   "id": "655e420e-7227-4f3a-b5cf-74a9b05ca612",
   "metadata": {},
   "source": [
    "# GeoSpacial Search Example"
   ]
  },
  {
   "cell_type": "code",
   "execution_count": 47,
   "id": "6cf860be-04db-470f-8bbe-e6519b2feb8c",
   "metadata": {},
   "outputs": [],
   "source": [
    "with engine.connect() as con:\n",
    "    con.execute(text(\"CREATE EXTENSION IF NOT EXISTS postgis\"))\n",
    "    con.commit()"
   ]
  },
  {
   "cell_type": "code",
   "execution_count": 48,
   "id": "a9bf6a89-53ee-4ee6-aee1-0ae9bf9b9edc",
   "metadata": {},
   "outputs": [],
   "source": [
    "from sqlalchemy.orm import mapped_column, Mapped, DeclarativeBase\n",
    "from sqlalchemy import Column, Integer, String, Text, DateTime, func\n",
    "from sqlalchemy.dialects.postgresql import JSONB\n",
    "from geoalchemy2 import Geometry, WKBElement\n",
    "from sqlalchemy.types import TypeDecorator\n",
    "\n",
    "class Base(DeclarativeBase):\n",
    "    pass\n",
    "\n",
    "\n",
    "class TSVector(TypeDecorator):\n",
    "    impl = TSVECTOR\n",
    "    cache_ok = True  \n",
    "\n",
    "class Listing(Base):\n",
    "    __tablename__ = 'listings'\n",
    "\n",
    "    id: Mapped[int] = mapped_column(primary_key=True)\n",
    "    name: Mapped[str] = mapped_column(unique=True)\n",
    "    description: Mapped[Optional[str]] = mapped_column()\n",
    "    rooms: Mapped[JSONB] = mapped_column(type_=JSONB)\n",
    "    created_at: Mapped[datetime.datetime] = mapped_column(\n",
    "        default=func.now())\n",
    "    updated_at: Mapped[datetime.datetime] = mapped_column(\n",
    "        default=func.now(), onupdate=func.now())\n",
    "    \n",
    "    geo_location: Mapped[Optional[WKBElement]] = mapped_column(\n",
    "        Geometry(geometry_type=\"POINT\", srid=4326, spatial_index=True)\n",
    "    )\n",
    "    \n",
    "    ts_vector = mapped_column(\n",
    "        TSVector(), \n",
    "        Computed(\n",
    "            func.setweight(\n",
    "                func.to_tsvector(\n",
    "                    cast(literal(\"english\"), type_=REGCONFIG), \n",
    "                    func.coalesce(name, '')), 'A' ).concat(\n",
    "            func.setweight(\n",
    "                func.to_tsvector(\n",
    "                    cast(literal(\"english\"), type_=REGCONFIG), \n",
    "                    func.coalesce(description, '')), \"B\" )),\n",
    "            persisted=True))\n",
    "    \n",
    "    __table_args__ = (\n",
    "        Index('ix_video___ts_vector__', ts_vector, postgresql_using='gin'),)\n",
    "    \n",
    "    def __repr__(self):\n",
    "        return f\"<Listing(id='{self.id}' name='{self.name}')>\"\n",
    "\n",
    "Listing.__table__.drop(engine, checkfirst=True)\n",
    "Base.metadata.create_all(engine)"
   ]
  },
  {
   "cell_type": "code",
   "execution_count": 49,
   "id": "fd12ebae-6786-4239-acbe-35db40857eb6",
   "metadata": {},
   "outputs": [],
   "source": [
    "from sqlalchemy.orm import Session\n",
    "with Session(engine) as session:\n",
    "    session.add_all([\n",
    "        Listing(\n",
    "            name=\"home\", \n",
    "            description=\"No place like home. A great place to live.\",\n",
    "            rooms={\n",
    "            \"kitchen\": {\"color\": \"blue\"},\n",
    "            },\n",
    "            geo_location=f\"POINT(-87.671078 41.947965)\",\n",
    "        ), \n",
    "        Listing(\n",
    "            name=\"away\", \n",
    "            description=\"A house that is very yellow and bright themed.\",\n",
    "            rooms={\n",
    "            \"bedroom\": {\"color\": \"yellow\"},\n",
    "            \"kitchen\": {\"color\": \"yellow\"},\n",
    "            },\n",
    "            geo_location=f\"POINT(-87.656563 41.948607)\",\n",
    "        ), \n",
    "        Listing(\n",
    "            name=\"far\", \n",
    "            description=\"A large house in the middle of the countryside and has a barnhouse theme.\",\n",
    "            rooms={\n",
    "            \"bedroom\": {\"color\": \"blue\"},\n",
    "            \"basement\": {\"color\": \"green\"},\n",
    "            },\n",
    "            geo_location=f\"POINT(-87.63834236651081 41.94661707935401)\",\n",
    "        ), \n",
    "        Listing(\n",
    "            name=\"city\", \n",
    "            description=\"Green 18th century old house with big garage\",\n",
    "            rooms={\n",
    "            \"basement\": {\"color\": \"green\"},\n",
    "            \"bedroom\": {\"color\": \"green\"},\n",
    "            },\n",
    "            geo_location=f\"POINT(-87.69332477362649 41.94485677721036)\",\n",
    "        ), \n",
    "        Listing(\n",
    "            name=\"shelter\", \n",
    "            description=\"a dark and scary storm shelter\",\n",
    "            rooms={\n",
    "            \"basement\": {\"color\": \"green\"},\n",
    "            },\n",
    "            geo_location=f\"POINT(-87.634333389981 41.87813926214243)\",\n",
    "        ), \n",
    "    ])\n",
    "    session.commit()"
   ]
  },
  {
   "cell_type": "code",
   "execution_count": 50,
   "id": "19d35f01-ead8-47c9-ab71-100566c6a0d3",
   "metadata": {},
   "outputs": [
    {
     "name": "stdout",
     "output_type": "stream",
     "text": [
      "5 rows affected.\n"
     ]
    },
    {
     "data": {
      "text/html": [
       "<table>\n",
       "    <thead>\n",
       "        <tr>\n",
       "            <th>id</th>\n",
       "            <th>name</th>\n",
       "            <th>description</th>\n",
       "            <th>rooms</th>\n",
       "            <th>created_at</th>\n",
       "            <th>updated_at</th>\n",
       "            <th>geo_location</th>\n",
       "            <th>ts_vector</th>\n",
       "        </tr>\n",
       "    </thead>\n",
       "    <tbody>\n",
       "        <tr>\n",
       "            <td>1</td>\n",
       "            <td>home</td>\n",
       "            <td>No place like home. A great place to live.</td>\n",
       "            <td>{&#x27;kitchen&#x27;: {&#x27;color&#x27;: &#x27;blue&#x27;}}</td>\n",
       "            <td>2024-10-09 01:30:43.106629</td>\n",
       "            <td>2024-10-09 01:30:43.106629</td>\n",
       "            <td>0101000020E61000002AC423F1F2EA55C05760C8EA56F94440</td>\n",
       "            <td>&#x27;great&#x27;:7B &#x27;home&#x27;:1A,5B &#x27;like&#x27;:4B &#x27;live&#x27;:10B &#x27;place&#x27;:3B,8B</td>\n",
       "        </tr>\n",
       "        <tr>\n",
       "            <td>2</td>\n",
       "            <td>away</td>\n",
       "            <td>A house that is very yellow and bright themed.</td>\n",
       "            <td>{&#x27;bedroom&#x27;: {&#x27;color&#x27;: &#x27;yellow&#x27;}, &#x27;kitchen&#x27;: {&#x27;color&#x27;: &#x27;yellow&#x27;}}</td>\n",
       "            <td>2024-10-09 01:30:43.106629</td>\n",
       "            <td>2024-10-09 01:30:43.106629</td>\n",
       "            <td>0101000020E6100000E030D12005EA55C0DBE044F46BF94440</td>\n",
       "            <td>&#x27;away&#x27;:1A &#x27;bright&#x27;:9B &#x27;hous&#x27;:3B &#x27;theme&#x27;:10B &#x27;yellow&#x27;:7B</td>\n",
       "        </tr>\n",
       "        <tr>\n",
       "            <td>3</td>\n",
       "            <td>far</td>\n",
       "            <td>A large house in the middle of the countryside and has a barnhouse theme.</td>\n",
       "            <td>{&#x27;bedroom&#x27;: {&#x27;color&#x27;: &#x27;blue&#x27;}, &#x27;basement&#x27;: {&#x27;color&#x27;: &#x27;green&#x27;}}</td>\n",
       "            <td>2024-10-09 01:30:43.106629</td>\n",
       "            <td>2024-10-09 01:30:43.106629</td>\n",
       "            <td>0101000020E61000002CF4F099DAE855C08CD49ABF2AF94440</td>\n",
       "            <td>&#x27;barnhous&#x27;:14B &#x27;countrysid&#x27;:10B &#x27;far&#x27;:1A &#x27;hous&#x27;:4B &#x27;larg&#x27;:3B &#x27;middl&#x27;:7B &#x27;theme&#x27;:15B</td>\n",
       "        </tr>\n",
       "        <tr>\n",
       "            <td>4</td>\n",
       "            <td>city</td>\n",
       "            <td>Green 18th century old house with big garage</td>\n",
       "            <td>{&#x27;bedroom&#x27;: {&#x27;color&#x27;: &#x27;green&#x27;}, &#x27;basement&#x27;: {&#x27;color&#x27;: &#x27;green&#x27;}}</td>\n",
       "            <td>2024-10-09 01:30:43.106629</td>\n",
       "            <td>2024-10-09 01:30:43.106629</td>\n",
       "            <td>0101000020E6100000DF0EDF6E5FEC55C0E0C21E11F1F84440</td>\n",
       "            <td>&#x27;18th&#x27;:3B &#x27;big&#x27;:8B &#x27;centuri&#x27;:4B &#x27;citi&#x27;:1A &#x27;garag&#x27;:9B &#x27;green&#x27;:2B &#x27;hous&#x27;:6B &#x27;old&#x27;:5B</td>\n",
       "        </tr>\n",
       "        <tr>\n",
       "            <td>5</td>\n",
       "            <td>shelter</td>\n",
       "            <td>a dark and scary storm shelter</td>\n",
       "            <td>{&#x27;basement&#x27;: {&#x27;color&#x27;: &#x27;green&#x27;}}</td>\n",
       "            <td>2024-10-09 01:30:43.106629</td>\n",
       "            <td>2024-10-09 01:30:43.106629</td>\n",
       "            <td>0101000020E6100000AB2E13EB98E855C01F1E0ADE66F04440</td>\n",
       "            <td>&#x27;dark&#x27;:3B &#x27;scari&#x27;:5B &#x27;shelter&#x27;:1A,7B &#x27;storm&#x27;:6B</td>\n",
       "        </tr>\n",
       "    </tbody>\n",
       "</table>"
      ],
      "text/plain": [
       "[(1, 'home', 'No place like home. A great place to live.', {'kitchen': {'color': 'blue'}}, datetime.datetime(2024, 10, 9, 1, 30, 43, 106629), datetime.datetime(2024, 10, 9, 1, 30, 43, 106629), '0101000020E61000002AC423F1F2EA55C05760C8EA56F94440', \"'great':7B 'home':1A,5B 'like':4B 'live':10B 'place':3B,8B\"),\n",
       " (2, 'away', 'A house that is very yellow and bright themed.', {'bedroom': {'color': 'yellow'}, 'kitchen': {'color': 'yellow'}}, datetime.datetime(2024, 10, 9, 1, 30, 43, 106629), datetime.datetime(2024, 10, 9, 1, 30, 43, 106629), '0101000020E6100000E030D12005EA55C0DBE044F46BF94440', \"'away':1A 'bright':9B 'hous':3B 'theme':10B 'yellow':7B\"),\n",
       " (3, 'far', 'A large house in the middle of the countryside and has a barnhouse theme.', {'bedroom': {'color': 'blue'}, 'basement': {'color': 'green'}}, datetime.datetime(2024, 10, 9, 1, 30, 43, 106629), datetime.datetime(2024, 10, 9, 1, 30, 43, 106629), '0101000020E61000002CF4F099DAE855C08CD49ABF2AF94440', \"'barnhous':14B 'countrysid':10B 'far':1A 'hous':4B 'larg':3B 'middl':7B 'theme':15B\"),\n",
       " (4, 'city', 'Green 18th century old house with big garage', {'bedroom': {'color': 'green'}, 'basement': {'color': 'green'}}, datetime.datetime(2024, 10, 9, 1, 30, 43, 106629), datetime.datetime(2024, 10, 9, 1, 30, 43, 106629), '0101000020E6100000DF0EDF6E5FEC55C0E0C21E11F1F84440', \"'18th':3B 'big':8B 'centuri':4B 'citi':1A 'garag':9B 'green':2B 'hous':6B 'old':5B\"),\n",
       " (5, 'shelter', 'a dark and scary storm shelter', {'basement': {'color': 'green'}}, datetime.datetime(2024, 10, 9, 1, 30, 43, 106629), datetime.datetime(2024, 10, 9, 1, 30, 43, 106629), '0101000020E6100000AB2E13EB98E855C01F1E0ADE66F04440', \"'dark':3B 'scari':5B 'shelter':1A,7B 'storm':6B\")]"
      ]
     },
     "execution_count": 50,
     "metadata": {},
     "output_type": "execute_result"
    }
   ],
   "source": [
    "%%sql $DB_URL\n",
    "select * from listings;"
   ]
  },
  {
   "cell_type": "code",
   "execution_count": 51,
   "id": "5b010295-7e9c-4cf3-bb53-ab17ba1acf88",
   "metadata": {},
   "outputs": [
    {
     "name": "stdout",
     "output_type": "stream",
     "text": [
      "QUERY::: \n",
      " SELECT listings.id, listings.name, listings.description, listings.rooms, listings.created_at, listings.updated_at, ST_AsEWKB(listings.geo_location) AS geo_location, listings.ts_vector \n",
      "FROM listings \n",
      "WHERE ST_DWithin(CAST(listings.geo_location AS geography(GEOMETRY,-1)), CAST(ST_SetSRID(ST_MakePoint(-87.634333389981, 41.87813926214243), 4326) AS geography(GEOMETRY,-1)), 8000)\n",
      "\n",
      "RESULT::: \n",
      " [<Listing(id='3' name='far')>, <Listing(id='5' name='shelter')>]\n"
     ]
    }
   ],
   "source": [
    "from geoalchemy2.functions import ST_DWithin, ST_Transform, ST_SetSRID, ST_GeomFromText\n",
    "from geoalchemy2 import Geography\n",
    "\n",
    "longitude=-87.634333389981\n",
    "latitude=41.87813926214243\n",
    "radius=8000  # in meters\n",
    "\n",
    "query = select(Listing).where(\n",
    "    ST_DWithin(\n",
    "        cast(Listing.geo_location, Geography),\n",
    "        cast(\n",
    "            ST_SetSRID(\n",
    "                func.ST_MakePoint(longitude, latitude),\n",
    "                4326\n",
    "            ),\n",
    "            Geography\n",
    "        ),\n",
    "        radius\n",
    "    )\n",
    ")\n",
    "\n",
    "# Execute the query\n",
    "_ = run_query(engine, query)"
   ]
  },
  {
   "cell_type": "code",
   "execution_count": 56,
   "id": "557347fd-bf7e-4cf6-bc98-493314d17549",
   "metadata": {},
   "outputs": [
    {
     "name": "stdout",
     "output_type": "stream",
     "text": [
      "QUERY::: \n",
      " SELECT listings.id, listings.name, ST_Distance(CAST(listings.geo_location AS geography(GEOMETRY,-1)), CAST(ST_SetSRID(ST_MakePoint(-87.634333389981, 41.87813926214243), 4326) AS geography(GEOMETRY,-1))) AS \"ST_Distance_1\" \n",
      "FROM listings \n",
      "WHERE ST_DWithin(CAST(listings.geo_location AS geography(GEOMETRY,-1)), CAST(ST_SetSRID(ST_MakePoint(-87.634333389981, 41.87813926214243), 4326) AS geography(GEOMETRY,-1)), 8000)\n",
      "\n",
      "RESULT::: \n",
      " [(3, 'far', 7613.20826318), (5, 'shelter', 0.0)]\n"
     ]
    }
   ],
   "source": [
    "from geoalchemy2.functions import ST_DWithin, ST_Transform, ST_SetSRID, ST_GeomFromText, ST_Distance\n",
    "from geoalchemy2 import Geography\n",
    "\n",
    "longitude=-87.634333389981\n",
    "latitude=41.87813926214243\n",
    "radius=8000  # in meters\n",
    "\n",
    "query = select(\n",
    "    Listing.id, \n",
    "    Listing.name,\n",
    "    ST_Distance(\n",
    "        cast(Listing.geo_location, Geography), \n",
    "        cast(\n",
    "            ST_SetSRID(func.ST_MakePoint(longitude, latitude), 4326),\n",
    "             Geography\n",
    "            )\n",
    "    )\n",
    ").where(\n",
    "    ST_DWithin(\n",
    "        cast(Listing.geo_location, Geography),\n",
    "        cast(\n",
    "            ST_SetSRID(\n",
    "                func.ST_MakePoint(longitude, latitude),\n",
    "                4326\n",
    "            ),\n",
    "            Geography\n",
    "        ),\n",
    "        radius\n",
    "    )\n",
    ")\n",
    "\n",
    "# Execute the query\n",
    "_ = run_query(engine, query, scalars=False)"
   ]
  },
  {
   "cell_type": "code",
   "execution_count": 57,
   "id": "1d78b22f-d57a-4a81-b632-2e7b4d6f9353",
   "metadata": {},
   "outputs": [
    {
     "name": "stdout",
     "output_type": "stream",
     "text": [
      "2 rows affected.\n"
     ]
    },
    {
     "data": {
      "text/html": [
       "<table>\n",
       "    <thead>\n",
       "        <tr>\n",
       "            <th>id</th>\n",
       "            <th>ST_Distance_1</th>\n",
       "        </tr>\n",
       "    </thead>\n",
       "    <tbody>\n",
       "        <tr>\n",
       "            <td>3</td>\n",
       "            <td>7613.20826318</td>\n",
       "        </tr>\n",
       "        <tr>\n",
       "            <td>5</td>\n",
       "            <td>0.0</td>\n",
       "        </tr>\n",
       "    </tbody>\n",
       "</table>"
      ],
      "text/plain": [
       "[(3, 7613.20826318), (5, 0.0)]"
      ]
     },
     "execution_count": 57,
     "metadata": {},
     "output_type": "execute_result"
    }
   ],
   "source": [
    "%%sql $DB_URL\n",
    "SELECT \n",
    "   listings.id, \n",
    "   ST_Distance(\n",
    "       CAST(listings.geo_location AS geography(GEOMETRY,-1)), \n",
    "       CAST(ST_SetSRID(ST_MakePoint(-87.634333389981, 41.87813926214243), 4326) AS geography(GEOMETRY,-1))) \n",
    "   AS \"ST_Distance_1\" \n",
    "FROM listings \n",
    "WHERE ST_DWithin(CAST(listings.geo_location AS geography(GEOMETRY,-1)), CAST(ST_SetSRID(ST_MakePoint(-87.634333389981, 41.87813926214243), 4326) AS geography(GEOMETRY,-1)), 8000)"
   ]
  },
  {
   "cell_type": "raw",
   "id": "a53f5ec6-bee6-4d84-b6c4-b56fb0023780",
   "metadata": {},
   "source": [
    "\n",
    "\n",
    "\n",
    "\n",
    "\n",
    "\n",
    "\n",
    "\n",
    "\n",
    "\n",
    "\n",
    "\n",
    "\n",
    "\n",
    "\n",
    "\n",
    "\n",
    "\n",
    "\n",
    "\n"
   ]
  },
  {
   "cell_type": "markdown",
   "id": "f72240d8-2f09-4fae-91a9-2b5519d9ae10",
   "metadata": {},
   "source": [
    "# Database Locking"
   ]
  },
  {
   "cell_type": "code",
   "execution_count": 54,
   "id": "8e468733-c07e-4d9b-b1f9-d2133b86c359",
   "metadata": {},
   "outputs": [],
   "source": [
    "from sqlalchemy import func, select\n",
    "from sqlalchemy.orm import Session\n",
    "from contextlib import contextmanager\n",
    "from dataclasses import dataclass\n",
    "\n",
    "@dataclass\n",
    "class Lock:\n",
    "    locked: bool\n",
    "    lock_key: int\n",
    "\n",
    "\n",
    "@contextmanager\n",
    "def advisory_lock(session: Session, lock_value: str, commit: bool = True):\n",
    "    \"\"\"\n",
    "    Context manager that acquires a PostgreSQL advisory lock using a hash of the lock_value\n",
    "    upon entering and releases it upon exiting, using SQLAlchemy's syntax.\n",
    "    \n",
    "    Args:\n",
    "        session (Session): SQLAlchemy session to interact with the database.\n",
    "        lock_value (str): The value (string) to hash and generate the lock key.\n",
    "    \n",
    "    Usage:\n",
    "        with advisory_lock(session, \"some_unique_value\"):\n",
    "            # Critical section where the lock is held\n",
    "    \"\"\"\n",
    "    try:\n",
    "        # Acquire the advisory lock using hashtext and pg_advisory_xact_lock in a single call\n",
    "        lock_key_query = select(func.hashtext(lock_value))\n",
    "        lock_key = session.execute(lock_key_query).scalar()\n",
    "        \n",
    "        lock = session.execute(\n",
    "            select(func.pg_try_advisory_xact_lock(lock_key))\n",
    "        ).first()[0]\n",
    "        # Yield control back to the caller inside the context\n",
    "        yield Lock(locked=not lock, lock_key=lock_key)\n",
    "    finally:\n",
    "        # The lock is automatically released when the transaction ends (no explicit release needed)\n",
    "        if commit:\n",
    "            session.commit()"
   ]
  },
  {
   "cell_type": "code",
   "execution_count": 55,
   "id": "f3543b3d-b6e7-48d6-b79d-8ff55be6829c",
   "metadata": {},
   "outputs": [
    {
     "name": "stdout",
     "output_type": "stream",
     "text": [
      "GOT THE LOCK!\n",
      "False 1637609686\n"
     ]
    }
   ],
   "source": [
    "from sqlalchemy.orm import sessionmaker\n",
    "import time\n",
    "\n",
    "LocalSession = sessionmaker(autocommit=False, autoflush=False, bind=engine)\n",
    "\n",
    "lock_value = \"some_unique_string_value\"  # This string will be hashed to generate the lock key\n",
    "\n",
    "with LocalSession() as session:\n",
    "    with advisory_lock(session, lock_value, commit=True) as lock:\n",
    "        if lock.locked:\n",
    "            print(\"Skip because locked\")\n",
    "        else:\n",
    "            print(\"GOT THE LOCK!\")\n",
    "            # Critical section where the advisory lock is held\n",
    "            # Perform operations that need the lock\n",
    "            session.execute(text('select 1'))\n",
    "            time.sleep(30)\n",
    "            print(lock.locked, lock.lock_key)\n"
   ]
  },
  {
   "cell_type": "code",
   "execution_count": null,
   "id": "e2ad39d4-4734-4010-ba51-6a7dc79d5241",
   "metadata": {},
   "outputs": [],
   "source": []
  },
  {
   "cell_type": "code",
   "execution_count": null,
   "id": "807826ba-9b51-42eb-9724-a5da94664c2d",
   "metadata": {},
   "outputs": [],
   "source": []
  }
 ],
 "metadata": {
  "kernelspec": {
   "display_name": "Python 3 (ipykernel)",
   "language": "python",
   "name": "python3"
  },
  "language_info": {
   "codemirror_mode": {
    "name": "ipython",
    "version": 3
   },
   "file_extension": ".py",
   "mimetype": "text/x-python",
   "name": "python",
   "nbconvert_exporter": "python",
   "pygments_lexer": "ipython3",
   "version": "3.12.6"
  }
 },
 "nbformat": 4,
 "nbformat_minor": 5
}
